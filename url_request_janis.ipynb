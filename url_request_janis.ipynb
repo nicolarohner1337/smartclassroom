{
 "cells": [
  {
   "cell_type": "code",
   "execution_count": 24,
   "metadata": {
    "collapsed": true
   },
   "outputs": [],
   "source": [
    "import requests\n",
    "import pandas as pd"
   ]
  },
  {
   "cell_type": "code",
   "execution_count": 88,
   "outputs": [
    {
     "name": "stdout",
     "output_type": "stream",
     "text": [
      "   entry_id               insert_time      sensor_id value1   unit1\n",
      "0       102  2022-03-17T09:07:21.834Z  CIRCUITPY323d   24.9       C\n",
      "0       104  2022-03-17T09:07:27.702Z  CIRCUITPY825a      1  Window\n",
      "0       160  2022-03-17T09:25:14.812Z  CIRCUITPY323d   25.0       C\n",
      "0       166  2022-03-17T09:25:48.190Z  CIRCUITPY323d   34.8       %\n",
      "0       168  2022-03-17T09:26:22.251Z  CIRCUITPY323d  697.3     PPM\n",
      "..      ...                       ...            ...    ...     ...\n",
      "0       611  2022-03-17T11:08:33.646Z  CIRCUITPY323d   35.1       %\n",
      "0       616  2022-03-17T11:09:02.865Z  CIRCUITPY323d   35.0       %\n",
      "0       619  2022-03-17T11:09:28.428Z  CIRCUITPY323d  658.9     PPM\n",
      "0       625  2022-03-17T11:09:58.915Z  CIRCUITPY323d   25.2       C\n",
      "0       635  2022-03-17T11:11:02.183Z  CIRCUITPYbec9      0  Window\n",
      "\n",
      "[547 rows x 5 columns]\n"
     ]
    }
   ],
   "source": [
    "r = requests.get(\"https://glusfqycvwrucp9-db202202211424.adb.eu-zurich-1.oraclecloudapps.com/ords/sensor_datalake1/sens/insert/\")\n",
    "object = r.json()\n",
    "df = pd.DataFrame()\n",
    "while object[\"hasMore\"]:\n",
    "    for i in object[\"items\"]:\n",
    "        df_line = pd.DataFrame.from_dict(i, orient=\"index\").transpose()\n",
    "        df = df.append(df_line)\n",
    "    next_link = object[\"links\"][4][\"href\"]\n",
    "    r = requests.get(f\"{next_link}\")\n",
    "    object = r.json()\n",
    "\n",
    "for i in object[\"items\"]:\n",
    "        df_line = pd.DataFrame.from_dict(i, orient=\"index\").transpose()\n",
    "        df = df.append(df_line)\n",
    "print(df)"
   ],
   "metadata": {
    "collapsed": false,
    "pycharm": {
     "name": "#%%\n"
    }
   }
  },
  {
   "cell_type": "code",
   "execution_count": 79,
   "outputs": [],
   "source": [],
   "metadata": {
    "collapsed": false,
    "pycharm": {
     "name": "#%%\n"
    }
   }
  },
  {
   "cell_type": "code",
   "execution_count": null,
   "outputs": [],
   "source": [],
   "metadata": {
    "collapsed": false,
    "pycharm": {
     "name": "#%%\n"
    }
   }
  }
 ],
 "metadata": {
  "kernelspec": {
   "display_name": "Python 3",
   "language": "python",
   "name": "python3"
  },
  "language_info": {
   "codemirror_mode": {
    "name": "ipython",
    "version": 2
   },
   "file_extension": ".py",
   "mimetype": "text/x-python",
   "name": "python",
   "nbconvert_exporter": "python",
   "pygments_lexer": "ipython2",
   "version": "2.7.6"
  }
 },
 "nbformat": 4,
 "nbformat_minor": 0
}