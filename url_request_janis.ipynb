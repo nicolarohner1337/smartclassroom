{
 "cells": [
  {
   "cell_type": "code",
   "execution_count": 24,
   "metadata": {
    "collapsed": true
   },
   "outputs": [],
   "source": [
    "import requests\n",
    "import pandas as pd"
   ]
  },
  {
   "cell_type": "code",
   "execution_count": 89,
   "outputs": [],
   "source": [
    "#First request\n",
    "r = requests.get(\"https://glusfqycvwrucp9-db202202211424.adb.eu-zurich-1.oraclecloudapps.com/ords/sensor_datalake1/sens/insert/\")\n",
    "object = r.json()\n",
    "df = pd.DataFrame()\n",
    "\n",
    "#\n",
    "while object[\"hasMore\"]:\n",
    "    for i in object[\"items\"]:\n",
    "        df_line = pd.DataFrame.from_dict(i, orient=\"index\").transpose()\n",
    "        df = df.append(df_line)\n",
    "    next_link = object[\"links\"][4][\"href\"]\n",
    "    r = requests.get(f\"{next_link}\")\n",
    "    object = r.json()\n",
    "\n",
    "for i in object[\"items\"]:\n",
    "        df_line = pd.DataFrame.from_dict(i, orient=\"index\").transpose()\n",
    "        df = df.append(df_line)"
   ],
   "metadata": {
    "collapsed": false,
    "pycharm": {
     "name": "#%%\n"
    }
   }
  },
  {
   "cell_type": "code",
   "execution_count": null,
   "outputs": [],
   "source": [],
   "metadata": {
    "collapsed": false,
    "pycharm": {
     "name": "#%%\n"
    }
   }
  }
 ],
 "metadata": {
  "kernelspec": {
   "display_name": "Python 3",
   "language": "python",
   "name": "python3"
  },
  "language_info": {
   "codemirror_mode": {
    "name": "ipython",
    "version": 2
   },
   "file_extension": ".py",
   "mimetype": "text/x-python",
   "name": "python",
   "nbconvert_exporter": "python",
   "pygments_lexer": "ipython2",
   "version": "2.7.6"
  }
 },
 "nbformat": 4,
 "nbformat_minor": 0
}