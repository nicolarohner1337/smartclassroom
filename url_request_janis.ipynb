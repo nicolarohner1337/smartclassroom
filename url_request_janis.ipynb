{
 "cells": [
  {
   "cell_type": "code",
   "execution_count": 3,
   "metadata": {
    "collapsed": true
   },
   "outputs": [],
   "source": [
    "import requests\n",
    "import pandas as pd"
   ]
  },
  {
   "cell_type": "code",
   "execution_count": 4,
   "outputs": [],
   "source": [
    "#First request\n",
    "r = requests.get(\"https://glusfqycvwrucp9-db202202211424.adb.eu-zurich-1.oraclecloudapps.com/ords/sensor_datalake1/sens/insert/\")\n",
    "object = r.json()\n",
    "df = pd.DataFrame()\n",
    "\n",
    "#\n",
    "while object[\"hasMore\"]:\n",
    "    for i in object[\"items\"]:\n",
    "        df_line = pd.DataFrame.from_dict(i, orient=\"index\").transpose()\n",
    "        df = df.append(df_line)\n",
    "    next_link = object[\"links\"][4][\"href\"]\n",
    "    r = requests.get(f\"{next_link}\")\n",
    "    object = r.json()\n",
    "\n",
    "for i in object[\"items\"]:\n",
    "        df_line = pd.DataFrame.from_dict(i, orient=\"index\").transpose()\n",
    "        df = df.append(df_line)"
   ],
   "metadata": {
    "collapsed": false,
    "pycharm": {
     "name": "#%%\n"
    }
   }
  },
  {
   "cell_type": "code",
   "execution_count": 5,
   "outputs": [
    {
     "name": "stdout",
     "output_type": "stream",
     "text": [
      "   entry_id               insert_time      sensor_id value1   unit1\n",
      "0       838  2022-03-17T13:26:08.881Z  CIRCUITPY825a      0  Window\n",
      "0       842  2022-03-17T13:26:36.072Z  CIRCUITPY323d   34.3       %\n",
      "0       847  2022-03-17T13:27:06.677Z  CIRCUITPYbec9      0  Window\n",
      "0       853  2022-03-17T13:27:57.358Z  CIRCUITPY825a      0  Window\n",
      "0       856  2022-03-17T13:28:25.393Z  CIRCUITPYbec9      0  Window\n",
      "..      ...                       ...            ...    ...     ...\n",
      "0      1673  2022-03-22T14:51:28.933Z  CIRCUITPY825a      0  Window\n",
      "0      1683  2022-03-22T15:29:51.208Z  CIRCUITPY825a      0  Window\n",
      "0      1685  2022-03-22T15:31:10.708Z  CIRCUITPY825a      0  Window\n",
      "0      1690  2022-03-22T15:33:03.582Z  CIRCUITPY825a      1  Window\n",
      "0      1693  2022-03-22T15:34:08.501Z  CIRCUITPY825a      1  Window\n",
      "\n",
      "[834 rows x 5 columns]\n"
     ]
    }
   ],
   "source": [
    "print(df)"
   ],
   "metadata": {
    "collapsed": false,
    "pycharm": {
     "name": "#%%\n"
    }
   }
  },
  {
   "cell_type": "code",
   "execution_count": null,
   "outputs": [],
   "source": [],
   "metadata": {
    "collapsed": false,
    "pycharm": {
     "name": "#%%\n"
    }
   }
  }
 ],
 "metadata": {
  "kernelspec": {
   "display_name": "Python 3",
   "language": "python",
   "name": "python3"
  },
  "language_info": {
   "codemirror_mode": {
    "name": "ipython",
    "version": 2
   },
   "file_extension": ".py",
   "mimetype": "text/x-python",
   "name": "python",
   "nbconvert_exporter": "python",
   "pygments_lexer": "ipython2",
   "version": "2.7.6"
  }
 },
 "nbformat": 4,
 "nbformat_minor": 0
}