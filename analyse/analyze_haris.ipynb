{
 "cells": [
  {
   "cell_type": "code",
   "execution_count": 47,
   "metadata": {},
   "outputs": [],
   "source": [
    "import utils\n",
    "import pandas as pd\n",
    "\n",
    "url = 'https://glusfqycvwrucp9-db202202211424.adb.eu-zurich-1.oraclecloudapps.com/ords/sensor_datalake1/sens/insert/'\n",
    "page_result = utils.get_all_pages(url)\n",
    "df = utils.to_data_frame(page_result)\n",
    "# df_subset = df[[\"insert_time\", \"sensor_id\", \"value1\", \"unit1\"]]\n",
    "# df_subset.head()\n"
   ]
  },
  {
   "cell_type": "code",
   "execution_count": 48,
   "metadata": {},
   "outputs": [],
   "source": [
    "df['insert_time'] = df['insert_time'].astype('datetime64[ns]')"
   ]
  },
  {
   "cell_type": "code",
   "execution_count": 49,
   "metadata": {},
   "outputs": [
    {
     "name": "stdout",
     "output_type": "stream",
     "text": [
      "<class 'pandas.core.frame.DataFrame'>\n",
      "RangeIndex: 3161 entries, 0 to 3160\n",
      "Data columns (total 5 columns):\n",
      " #   Column       Non-Null Count  Dtype         \n",
      "---  ------       --------------  -----         \n",
      " 0   entry_id     3161 non-null   float64       \n",
      " 1   insert_time  3161 non-null   datetime64[ns]\n",
      " 2   sensor_id    3161 non-null   object        \n",
      " 3   value1       3161 non-null   float64       \n",
      " 4   unit1        3161 non-null   object        \n",
      "dtypes: datetime64[ns](1), float64(2), object(2)\n",
      "memory usage: 123.6+ KB\n"
     ]
    }
   ],
   "source": [
    "df.info()"
   ]
  },
  {
   "cell_type": "code",
   "execution_count": 58,
   "metadata": {},
   "outputs": [],
   "source": [
    "df_pivot = df.pivot_table(index='insert_time', columns=['sensor_id', 'unit1'], values='value1')\n",
    "df_pivot.columns = df_pivot.columns.to_flat_index()\n",
    "df_pivot = df_pivot.resample('5Min').mean()"
   ]
  },
  {
   "cell_type": "code",
   "execution_count": 59,
   "metadata": {},
   "outputs": [
    {
     "data": {
      "text/html": [
       "<div>\n",
       "<style scoped>\n",
       "    .dataframe tbody tr th:only-of-type {\n",
       "        vertical-align: middle;\n",
       "    }\n",
       "\n",
       "    .dataframe tbody tr th {\n",
       "        vertical-align: top;\n",
       "    }\n",
       "\n",
       "    .dataframe thead th {\n",
       "        text-align: right;\n",
       "    }\n",
       "</style>\n",
       "<table border=\"1\" class=\"dataframe\">\n",
       "  <thead>\n",
       "    <tr style=\"text-align: right;\">\n",
       "      <th></th>\n",
       "      <th>(CIRCUITPY323d, %)</th>\n",
       "      <th>(CIRCUITPY323d, C)</th>\n",
       "      <th>(CIRCUITPY323d, PPM)</th>\n",
       "      <th>(CIRCUITPY825a, Window)</th>\n",
       "      <th>(RASPBERRYPEOPLE, People)</th>\n",
       "    </tr>\n",
       "    <tr>\n",
       "      <th>insert_time</th>\n",
       "      <th></th>\n",
       "      <th></th>\n",
       "      <th></th>\n",
       "      <th></th>\n",
       "      <th></th>\n",
       "    </tr>\n",
       "  </thead>\n",
       "  <tbody>\n",
       "    <tr>\n",
       "      <th>2022-03-24 14:00:00</th>\n",
       "      <td>33.50</td>\n",
       "      <td>26.475000</td>\n",
       "      <td>1069.450000</td>\n",
       "      <td>0.5</td>\n",
       "      <td>3.0</td>\n",
       "    </tr>\n",
       "    <tr>\n",
       "      <th>2022-03-24 14:05:00</th>\n",
       "      <td>34.67</td>\n",
       "      <td>26.400000</td>\n",
       "      <td>1125.720000</td>\n",
       "      <td>NaN</td>\n",
       "      <td>NaN</td>\n",
       "    </tr>\n",
       "    <tr>\n",
       "      <th>2022-03-24 14:10:00</th>\n",
       "      <td>36.50</td>\n",
       "      <td>26.466667</td>\n",
       "      <td>1272.466667</td>\n",
       "      <td>NaN</td>\n",
       "      <td>NaN</td>\n",
       "    </tr>\n",
       "    <tr>\n",
       "      <th>2022-03-24 14:15:00</th>\n",
       "      <td>38.03</td>\n",
       "      <td>26.570000</td>\n",
       "      <td>1440.240000</td>\n",
       "      <td>NaN</td>\n",
       "      <td>NaN</td>\n",
       "    </tr>\n",
       "    <tr>\n",
       "      <th>2022-03-24 14:20:00</th>\n",
       "      <td>35.26</td>\n",
       "      <td>26.670000</td>\n",
       "      <td>1299.600000</td>\n",
       "      <td>1.0</td>\n",
       "      <td>NaN</td>\n",
       "    </tr>\n",
       "  </tbody>\n",
       "</table>\n",
       "</div>"
      ],
      "text/plain": [
       "                     (CIRCUITPY323d, %)  (CIRCUITPY323d, C)  \\\n",
       "insert_time                                                   \n",
       "2022-03-24 14:00:00               33.50           26.475000   \n",
       "2022-03-24 14:05:00               34.67           26.400000   \n",
       "2022-03-24 14:10:00               36.50           26.466667   \n",
       "2022-03-24 14:15:00               38.03           26.570000   \n",
       "2022-03-24 14:20:00               35.26           26.670000   \n",
       "\n",
       "                     (CIRCUITPY323d, PPM)  (CIRCUITPY825a, Window)  \\\n",
       "insert_time                                                          \n",
       "2022-03-24 14:00:00           1069.450000                      0.5   \n",
       "2022-03-24 14:05:00           1125.720000                      NaN   \n",
       "2022-03-24 14:10:00           1272.466667                      NaN   \n",
       "2022-03-24 14:15:00           1440.240000                      NaN   \n",
       "2022-03-24 14:20:00           1299.600000                      1.0   \n",
       "\n",
       "                     (RASPBERRYPEOPLE, People)  \n",
       "insert_time                                     \n",
       "2022-03-24 14:00:00                        3.0  \n",
       "2022-03-24 14:05:00                        NaN  \n",
       "2022-03-24 14:10:00                        NaN  \n",
       "2022-03-24 14:15:00                        NaN  \n",
       "2022-03-24 14:20:00                        NaN  "
      ]
     },
     "execution_count": 59,
     "metadata": {},
     "output_type": "execute_result"
    }
   ],
   "source": [
    "# Different Aggregation each column\n",
    "df_pivot.head()"
   ]
  },
  {
   "cell_type": "code",
   "execution_count": null,
   "metadata": {},
   "outputs": [],
   "source": []
  }
 ],
 "metadata": {
  "interpreter": {
   "hash": "ac59ebe37160ed0dfa835113d9b8498d9f09ceb179beaac4002f036b9467c963"
  },
  "kernelspec": {
   "display_name": "Python 3.9.6 64-bit",
   "language": "python",
   "name": "python3"
  },
  "language_info": {
   "codemirror_mode": {
    "name": "ipython",
    "version": 3
   },
   "file_extension": ".py",
   "mimetype": "text/x-python",
   "name": "python",
   "nbconvert_exporter": "python",
   "pygments_lexer": "ipython3",
   "version": "3.9.6"
  },
  "orig_nbformat": 4
 },
 "nbformat": 4,
 "nbformat_minor": 2
}
