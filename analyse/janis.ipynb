{
 "cells": [
  {
   "cell_type": "code",
   "execution_count": 51,
   "metadata": {
    "collapsed": false,
    "pycharm": {
     "name": "#%%\n"
    }
   },
   "outputs": [],
   "source": [
    "import pathlib\n",
    "import seaborn as sns\n",
    "import utils\n",
    "import pandas as pd\n",
    "import requests\n",
    "import numpy as np\n",
    "import matplotlib.pyplot as plt\n",
    "import numpy as np\n",
    "import datetime"
   ]
  },
  {
   "cell_type": "code",
   "execution_count": 52,
   "metadata": {
    "collapsed": false,
    "pycharm": {
     "name": "#%%\n"
    }
   },
   "outputs": [],
   "source": [
    "url = 'https://glusfqycvwrucp9-db202202211424.adb.eu-zurich-1.oraclecloudapps.com/ords/sensor_datalake1/sens/insert/'\n",
    "\n",
    "df = utils.get_all_pages(url)"
   ]
  },
  {
   "cell_type": "code",
   "execution_count": 53,
   "metadata": {
    "collapsed": false,
    "pycharm": {
     "name": "#%%\n"
    }
   },
   "outputs": [
    {
     "data": {
      "text/html": [
       "<div>\n",
       "<style scoped>\n",
       "    .dataframe tbody tr th:only-of-type {\n",
       "        vertical-align: middle;\n",
       "    }\n",
       "\n",
       "    .dataframe tbody tr th {\n",
       "        vertical-align: top;\n",
       "    }\n",
       "\n",
       "    .dataframe thead th {\n",
       "        text-align: right;\n",
       "    }\n",
       "</style>\n",
       "<table border=\"1\" class=\"dataframe\">\n",
       "  <thead>\n",
       "    <tr style=\"text-align: right;\">\n",
       "      <th></th>\n",
       "      <th>entry_id</th>\n",
       "      <th>insert_time</th>\n",
       "      <th>sensor_id</th>\n",
       "      <th>value1</th>\n",
       "      <th>unit1</th>\n",
       "    </tr>\n",
       "  </thead>\n",
       "  <tbody>\n",
       "    <tr>\n",
       "      <th>0</th>\n",
       "      <td>2291</td>\n",
       "      <td>2022-03-30T14:49:51.283Z</td>\n",
       "      <td>CIRCUITPY323d</td>\n",
       "      <td>785.0</td>\n",
       "      <td>PPM</td>\n",
       "    </tr>\n",
       "    <tr>\n",
       "      <th>1</th>\n",
       "      <td>2304</td>\n",
       "      <td>2022-03-30T14:56:37.668Z</td>\n",
       "      <td>CIRCUITPY323d</td>\n",
       "      <td>27.4</td>\n",
       "      <td>C</td>\n",
       "    </tr>\n",
       "    <tr>\n",
       "      <th>2</th>\n",
       "      <td>2307</td>\n",
       "      <td>2022-03-30T14:57:37.983Z</td>\n",
       "      <td>CIRCUITPY323d</td>\n",
       "      <td>27.4</td>\n",
       "      <td>C</td>\n",
       "    </tr>\n",
       "    <tr>\n",
       "      <th>3</th>\n",
       "      <td>2311</td>\n",
       "      <td>2022-03-30T14:58:40.293Z</td>\n",
       "      <td>CIRCUITPY323d</td>\n",
       "      <td>31.1</td>\n",
       "      <td>%</td>\n",
       "    </tr>\n",
       "    <tr>\n",
       "      <th>4</th>\n",
       "      <td>2328</td>\n",
       "      <td>2022-03-30T15:04:41.298Z</td>\n",
       "      <td>CIRCUITPY323d</td>\n",
       "      <td>27.7</td>\n",
       "      <td>C</td>\n",
       "    </tr>\n",
       "  </tbody>\n",
       "</table>\n",
       "</div>"
      ],
      "text/plain": [
       "   entry_id               insert_time      sensor_id  value1 unit1\n",
       "0      2291  2022-03-30T14:49:51.283Z  CIRCUITPY323d   785.0   PPM\n",
       "1      2304  2022-03-30T14:56:37.668Z  CIRCUITPY323d    27.4     C\n",
       "2      2307  2022-03-30T14:57:37.983Z  CIRCUITPY323d    27.4     C\n",
       "3      2311  2022-03-30T14:58:40.293Z  CIRCUITPY323d    31.1     %\n",
       "4      2328  2022-03-30T15:04:41.298Z  CIRCUITPY323d    27.7     C"
      ]
     },
     "execution_count": 53,
     "metadata": {},
     "output_type": "execute_result"
    }
   ],
   "source": [
    "df.head()"
   ]
  },
  {
   "cell_type": "code",
   "execution_count": 54,
   "metadata": {
    "collapsed": false,
    "pycharm": {
     "name": "#%%\n"
    }
   },
   "outputs": [
    {
     "name": "stdout",
     "output_type": "stream",
     "text": [
      "<class 'pandas.core.frame.DataFrame'>\n",
      "RangeIndex: 130952 entries, 0 to 130951\n",
      "Data columns (total 5 columns):\n",
      " #   Column       Non-Null Count   Dtype              \n",
      "---  ------       --------------   -----              \n",
      " 0   entry_id     130952 non-null  int64              \n",
      " 1   insert_time  130952 non-null  datetime64[ns, UTC]\n",
      " 2   sensor_id    130952 non-null  object             \n",
      " 3   value1       130952 non-null  float64            \n",
      " 4   unit1        130952 non-null  object             \n",
      "dtypes: datetime64[ns, UTC](1), float64(1), int64(1), object(2)\n",
      "memory usage: 5.0+ MB\n"
     ]
    }
   ],
   "source": [
    "#convert inser_time to timedate\n",
    "df['insert_time'] = pd.to_datetime(df['insert_time'])\n",
    "#and add 2 hours to insert time\n",
    "df['insert_time'] = df['insert_time'] + pd.Timedelta(hours=2)\n",
    "\n",
    "df.info()"
   ]
  },
  {
   "cell_type": "code",
   "execution_count": 55,
   "metadata": {
    "collapsed": false,
    "pycharm": {
     "name": "#%%\n"
    }
   },
   "outputs": [
    {
     "data": {
      "text/html": [
       "<div>\n",
       "<style scoped>\n",
       "    .dataframe tbody tr th:only-of-type {\n",
       "        vertical-align: middle;\n",
       "    }\n",
       "\n",
       "    .dataframe tbody tr th {\n",
       "        vertical-align: top;\n",
       "    }\n",
       "\n",
       "    .dataframe thead th {\n",
       "        text-align: right;\n",
       "    }\n",
       "</style>\n",
       "<table border=\"1\" class=\"dataframe\">\n",
       "  <thead>\n",
       "    <tr style=\"text-align: right;\">\n",
       "      <th></th>\n",
       "      <th>CIRCUITPY323d_PPM</th>\n",
       "      <th>CIRCUITPY323d_C</th>\n",
       "      <th>CIRCUITPY323d_%</th>\n",
       "      <th>CIRCUITPY825a_Window</th>\n",
       "      <th>CIRCUITPYbec9_Person</th>\n",
       "    </tr>\n",
       "    <tr>\n",
       "      <th>insert_time</th>\n",
       "      <th></th>\n",
       "      <th></th>\n",
       "      <th></th>\n",
       "      <th></th>\n",
       "      <th></th>\n",
       "    </tr>\n",
       "  </thead>\n",
       "  <tbody>\n",
       "    <tr>\n",
       "      <th>2022-03-24 16:02:00+00:00</th>\n",
       "      <td>1068.800000</td>\n",
       "      <td>26.600000</td>\n",
       "      <td>34.600000</td>\n",
       "      <td>0.0</td>\n",
       "      <td>NaN</td>\n",
       "    </tr>\n",
       "    <tr>\n",
       "      <th>2022-03-24 16:03:00+00:00</th>\n",
       "      <td>1073.700000</td>\n",
       "      <td>26.500000</td>\n",
       "      <td>32.500000</td>\n",
       "      <td>NaN</td>\n",
       "      <td>NaN</td>\n",
       "    </tr>\n",
       "    <tr>\n",
       "      <th>2022-03-24 16:04:00+00:00</th>\n",
       "      <td>1061.600000</td>\n",
       "      <td>26.400000</td>\n",
       "      <td>33.450000</td>\n",
       "      <td>NaN</td>\n",
       "      <td>NaN</td>\n",
       "    </tr>\n",
       "    <tr>\n",
       "      <th>2022-03-24 16:05:00+00:00</th>\n",
       "      <td>1072.400000</td>\n",
       "      <td>26.400000</td>\n",
       "      <td>33.950000</td>\n",
       "      <td>NaN</td>\n",
       "      <td>NaN</td>\n",
       "    </tr>\n",
       "    <tr>\n",
       "      <th>2022-03-24 16:06:00+00:00</th>\n",
       "      <td>1115.650000</td>\n",
       "      <td>26.400000</td>\n",
       "      <td>34.150000</td>\n",
       "      <td>NaN</td>\n",
       "      <td>NaN</td>\n",
       "    </tr>\n",
       "    <tr>\n",
       "      <th>2022-03-24 16:07:00+00:00</th>\n",
       "      <td>1145.600000</td>\n",
       "      <td>26.400000</td>\n",
       "      <td>34.700000</td>\n",
       "      <td>NaN</td>\n",
       "      <td>NaN</td>\n",
       "    </tr>\n",
       "    <tr>\n",
       "      <th>2022-03-24 16:08:00+00:00</th>\n",
       "      <td>1142.450000</td>\n",
       "      <td>26.400000</td>\n",
       "      <td>35.000000</td>\n",
       "      <td>NaN</td>\n",
       "      <td>NaN</td>\n",
       "    </tr>\n",
       "    <tr>\n",
       "      <th>2022-03-24 16:09:00+00:00</th>\n",
       "      <td>1152.500000</td>\n",
       "      <td>26.400000</td>\n",
       "      <td>35.550000</td>\n",
       "      <td>NaN</td>\n",
       "      <td>NaN</td>\n",
       "    </tr>\n",
       "    <tr>\n",
       "      <th>2022-03-24 16:10:00+00:00</th>\n",
       "      <td>1200.900000</td>\n",
       "      <td>26.400000</td>\n",
       "      <td>35.850000</td>\n",
       "      <td>NaN</td>\n",
       "      <td>NaN</td>\n",
       "    </tr>\n",
       "    <tr>\n",
       "      <th>2022-03-24 16:11:00+00:00</th>\n",
       "      <td>1237.500000</td>\n",
       "      <td>26.450000</td>\n",
       "      <td>36.250000</td>\n",
       "      <td>NaN</td>\n",
       "      <td>NaN</td>\n",
       "    </tr>\n",
       "    <tr>\n",
       "      <th>2022-03-24 16:12:00+00:00</th>\n",
       "      <td>1282.500000</td>\n",
       "      <td>26.500000</td>\n",
       "      <td>36.600000</td>\n",
       "      <td>NaN</td>\n",
       "      <td>NaN</td>\n",
       "    </tr>\n",
       "    <tr>\n",
       "      <th>2022-03-24 16:13:00+00:00</th>\n",
       "      <td>1325.800000</td>\n",
       "      <td>26.500000</td>\n",
       "      <td>36.800000</td>\n",
       "      <td>NaN</td>\n",
       "      <td>NaN</td>\n",
       "    </tr>\n",
       "    <tr>\n",
       "      <th>2022-03-24 16:14:00+00:00</th>\n",
       "      <td>1342.300000</td>\n",
       "      <td>26.500000</td>\n",
       "      <td>37.050000</td>\n",
       "      <td>NaN</td>\n",
       "      <td>NaN</td>\n",
       "    </tr>\n",
       "    <tr>\n",
       "      <th>2022-03-24 16:15:00+00:00</th>\n",
       "      <td>1370.950000</td>\n",
       "      <td>26.500000</td>\n",
       "      <td>37.350000</td>\n",
       "      <td>NaN</td>\n",
       "      <td>NaN</td>\n",
       "    </tr>\n",
       "    <tr>\n",
       "      <th>2022-03-24 16:16:00+00:00</th>\n",
       "      <td>1423.700000</td>\n",
       "      <td>26.550000</td>\n",
       "      <td>37.750000</td>\n",
       "      <td>NaN</td>\n",
       "      <td>NaN</td>\n",
       "    </tr>\n",
       "    <tr>\n",
       "      <th>2022-03-24 16:17:00+00:00</th>\n",
       "      <td>1452.400000</td>\n",
       "      <td>26.600000</td>\n",
       "      <td>38.000000</td>\n",
       "      <td>NaN</td>\n",
       "      <td>NaN</td>\n",
       "    </tr>\n",
       "    <tr>\n",
       "      <th>2022-03-24 16:18:00+00:00</th>\n",
       "      <td>1467.500000</td>\n",
       "      <td>26.600000</td>\n",
       "      <td>38.450000</td>\n",
       "      <td>NaN</td>\n",
       "      <td>NaN</td>\n",
       "    </tr>\n",
       "    <tr>\n",
       "      <th>2022-03-24 16:19:00+00:00</th>\n",
       "      <td>1486.650000</td>\n",
       "      <td>26.600000</td>\n",
       "      <td>38.600000</td>\n",
       "      <td>NaN</td>\n",
       "      <td>NaN</td>\n",
       "    </tr>\n",
       "    <tr>\n",
       "      <th>2022-03-24 16:20:00+00:00</th>\n",
       "      <td>1517.650000</td>\n",
       "      <td>26.700000</td>\n",
       "      <td>39.200000</td>\n",
       "      <td>NaN</td>\n",
       "      <td>NaN</td>\n",
       "    </tr>\n",
       "    <tr>\n",
       "      <th>2022-03-24 16:21:00+00:00</th>\n",
       "      <td>1584.600000</td>\n",
       "      <td>26.700000</td>\n",
       "      <td>39.300000</td>\n",
       "      <td>1.0</td>\n",
       "      <td>NaN</td>\n",
       "    </tr>\n",
       "    <tr>\n",
       "      <th>2022-03-24 16:22:00+00:00</th>\n",
       "      <td>1594.250000</td>\n",
       "      <td>26.700000</td>\n",
       "      <td>38.500000</td>\n",
       "      <td>NaN</td>\n",
       "      <td>NaN</td>\n",
       "    </tr>\n",
       "    <tr>\n",
       "      <th>2022-03-24 16:23:00+00:00</th>\n",
       "      <td>1213.550000</td>\n",
       "      <td>26.700000</td>\n",
       "      <td>34.050000</td>\n",
       "      <td>NaN</td>\n",
       "      <td>NaN</td>\n",
       "    </tr>\n",
       "    <tr>\n",
       "      <th>2022-03-24 16:24:00+00:00</th>\n",
       "      <td>920.166667</td>\n",
       "      <td>26.600000</td>\n",
       "      <td>29.933333</td>\n",
       "      <td>NaN</td>\n",
       "      <td>NaN</td>\n",
       "    </tr>\n",
       "    <tr>\n",
       "      <th>2022-03-24 16:25:00+00:00</th>\n",
       "      <td>798.450000</td>\n",
       "      <td>26.500000</td>\n",
       "      <td>28.050000</td>\n",
       "      <td>NaN</td>\n",
       "      <td>NaN</td>\n",
       "    </tr>\n",
       "    <tr>\n",
       "      <th>2022-03-24 16:26:00+00:00</th>\n",
       "      <td>732.666667</td>\n",
       "      <td>26.466667</td>\n",
       "      <td>27.000000</td>\n",
       "      <td>NaN</td>\n",
       "      <td>NaN</td>\n",
       "    </tr>\n",
       "    <tr>\n",
       "      <th>2022-03-24 16:27:00+00:00</th>\n",
       "      <td>690.666667</td>\n",
       "      <td>26.400000</td>\n",
       "      <td>26.100000</td>\n",
       "      <td>NaN</td>\n",
       "      <td>NaN</td>\n",
       "    </tr>\n",
       "    <tr>\n",
       "      <th>2022-03-24 16:28:00+00:00</th>\n",
       "      <td>665.700000</td>\n",
       "      <td>26.350000</td>\n",
       "      <td>26.050000</td>\n",
       "      <td>0.0</td>\n",
       "      <td>NaN</td>\n",
       "    </tr>\n",
       "    <tr>\n",
       "      <th>2022-03-24 16:29:00+00:00</th>\n",
       "      <td>733.600000</td>\n",
       "      <td>26.333333</td>\n",
       "      <td>27.866667</td>\n",
       "      <td>NaN</td>\n",
       "      <td>NaN</td>\n",
       "    </tr>\n",
       "    <tr>\n",
       "      <th>2022-03-24 16:30:00+00:00</th>\n",
       "      <td>824.800000</td>\n",
       "      <td>26.400000</td>\n",
       "      <td>28.533333</td>\n",
       "      <td>NaN</td>\n",
       "      <td>NaN</td>\n",
       "    </tr>\n",
       "    <tr>\n",
       "      <th>2022-03-24 16:31:00+00:00</th>\n",
       "      <td>850.350000</td>\n",
       "      <td>26.400000</td>\n",
       "      <td>29.050000</td>\n",
       "      <td>NaN</td>\n",
       "      <td>NaN</td>\n",
       "    </tr>\n",
       "  </tbody>\n",
       "</table>\n",
       "</div>"
      ],
      "text/plain": [
       "                           CIRCUITPY323d_PPM  CIRCUITPY323d_C  \\\n",
       "insert_time                                                     \n",
       "2022-03-24 16:02:00+00:00        1068.800000        26.600000   \n",
       "2022-03-24 16:03:00+00:00        1073.700000        26.500000   \n",
       "2022-03-24 16:04:00+00:00        1061.600000        26.400000   \n",
       "2022-03-24 16:05:00+00:00        1072.400000        26.400000   \n",
       "2022-03-24 16:06:00+00:00        1115.650000        26.400000   \n",
       "2022-03-24 16:07:00+00:00        1145.600000        26.400000   \n",
       "2022-03-24 16:08:00+00:00        1142.450000        26.400000   \n",
       "2022-03-24 16:09:00+00:00        1152.500000        26.400000   \n",
       "2022-03-24 16:10:00+00:00        1200.900000        26.400000   \n",
       "2022-03-24 16:11:00+00:00        1237.500000        26.450000   \n",
       "2022-03-24 16:12:00+00:00        1282.500000        26.500000   \n",
       "2022-03-24 16:13:00+00:00        1325.800000        26.500000   \n",
       "2022-03-24 16:14:00+00:00        1342.300000        26.500000   \n",
       "2022-03-24 16:15:00+00:00        1370.950000        26.500000   \n",
       "2022-03-24 16:16:00+00:00        1423.700000        26.550000   \n",
       "2022-03-24 16:17:00+00:00        1452.400000        26.600000   \n",
       "2022-03-24 16:18:00+00:00        1467.500000        26.600000   \n",
       "2022-03-24 16:19:00+00:00        1486.650000        26.600000   \n",
       "2022-03-24 16:20:00+00:00        1517.650000        26.700000   \n",
       "2022-03-24 16:21:00+00:00        1584.600000        26.700000   \n",
       "2022-03-24 16:22:00+00:00        1594.250000        26.700000   \n",
       "2022-03-24 16:23:00+00:00        1213.550000        26.700000   \n",
       "2022-03-24 16:24:00+00:00         920.166667        26.600000   \n",
       "2022-03-24 16:25:00+00:00         798.450000        26.500000   \n",
       "2022-03-24 16:26:00+00:00         732.666667        26.466667   \n",
       "2022-03-24 16:27:00+00:00         690.666667        26.400000   \n",
       "2022-03-24 16:28:00+00:00         665.700000        26.350000   \n",
       "2022-03-24 16:29:00+00:00         733.600000        26.333333   \n",
       "2022-03-24 16:30:00+00:00         824.800000        26.400000   \n",
       "2022-03-24 16:31:00+00:00         850.350000        26.400000   \n",
       "\n",
       "                           CIRCUITPY323d_%  CIRCUITPY825a_Window  \\\n",
       "insert_time                                                        \n",
       "2022-03-24 16:02:00+00:00        34.600000                   0.0   \n",
       "2022-03-24 16:03:00+00:00        32.500000                   NaN   \n",
       "2022-03-24 16:04:00+00:00        33.450000                   NaN   \n",
       "2022-03-24 16:05:00+00:00        33.950000                   NaN   \n",
       "2022-03-24 16:06:00+00:00        34.150000                   NaN   \n",
       "2022-03-24 16:07:00+00:00        34.700000                   NaN   \n",
       "2022-03-24 16:08:00+00:00        35.000000                   NaN   \n",
       "2022-03-24 16:09:00+00:00        35.550000                   NaN   \n",
       "2022-03-24 16:10:00+00:00        35.850000                   NaN   \n",
       "2022-03-24 16:11:00+00:00        36.250000                   NaN   \n",
       "2022-03-24 16:12:00+00:00        36.600000                   NaN   \n",
       "2022-03-24 16:13:00+00:00        36.800000                   NaN   \n",
       "2022-03-24 16:14:00+00:00        37.050000                   NaN   \n",
       "2022-03-24 16:15:00+00:00        37.350000                   NaN   \n",
       "2022-03-24 16:16:00+00:00        37.750000                   NaN   \n",
       "2022-03-24 16:17:00+00:00        38.000000                   NaN   \n",
       "2022-03-24 16:18:00+00:00        38.450000                   NaN   \n",
       "2022-03-24 16:19:00+00:00        38.600000                   NaN   \n",
       "2022-03-24 16:20:00+00:00        39.200000                   NaN   \n",
       "2022-03-24 16:21:00+00:00        39.300000                   1.0   \n",
       "2022-03-24 16:22:00+00:00        38.500000                   NaN   \n",
       "2022-03-24 16:23:00+00:00        34.050000                   NaN   \n",
       "2022-03-24 16:24:00+00:00        29.933333                   NaN   \n",
       "2022-03-24 16:25:00+00:00        28.050000                   NaN   \n",
       "2022-03-24 16:26:00+00:00        27.000000                   NaN   \n",
       "2022-03-24 16:27:00+00:00        26.100000                   NaN   \n",
       "2022-03-24 16:28:00+00:00        26.050000                   0.0   \n",
       "2022-03-24 16:29:00+00:00        27.866667                   NaN   \n",
       "2022-03-24 16:30:00+00:00        28.533333                   NaN   \n",
       "2022-03-24 16:31:00+00:00        29.050000                   NaN   \n",
       "\n",
       "                           CIRCUITPYbec9_Person  \n",
       "insert_time                                      \n",
       "2022-03-24 16:02:00+00:00                   NaN  \n",
       "2022-03-24 16:03:00+00:00                   NaN  \n",
       "2022-03-24 16:04:00+00:00                   NaN  \n",
       "2022-03-24 16:05:00+00:00                   NaN  \n",
       "2022-03-24 16:06:00+00:00                   NaN  \n",
       "2022-03-24 16:07:00+00:00                   NaN  \n",
       "2022-03-24 16:08:00+00:00                   NaN  \n",
       "2022-03-24 16:09:00+00:00                   NaN  \n",
       "2022-03-24 16:10:00+00:00                   NaN  \n",
       "2022-03-24 16:11:00+00:00                   NaN  \n",
       "2022-03-24 16:12:00+00:00                   NaN  \n",
       "2022-03-24 16:13:00+00:00                   NaN  \n",
       "2022-03-24 16:14:00+00:00                   NaN  \n",
       "2022-03-24 16:15:00+00:00                   NaN  \n",
       "2022-03-24 16:16:00+00:00                   NaN  \n",
       "2022-03-24 16:17:00+00:00                   NaN  \n",
       "2022-03-24 16:18:00+00:00                   NaN  \n",
       "2022-03-24 16:19:00+00:00                   NaN  \n",
       "2022-03-24 16:20:00+00:00                   NaN  \n",
       "2022-03-24 16:21:00+00:00                   NaN  \n",
       "2022-03-24 16:22:00+00:00                   NaN  \n",
       "2022-03-24 16:23:00+00:00                   NaN  \n",
       "2022-03-24 16:24:00+00:00                   NaN  \n",
       "2022-03-24 16:25:00+00:00                   NaN  \n",
       "2022-03-24 16:26:00+00:00                   NaN  \n",
       "2022-03-24 16:27:00+00:00                   NaN  \n",
       "2022-03-24 16:28:00+00:00                   NaN  \n",
       "2022-03-24 16:29:00+00:00                   NaN  \n",
       "2022-03-24 16:30:00+00:00                   NaN  \n",
       "2022-03-24 16:31:00+00:00                   NaN  "
      ]
     },
     "execution_count": 55,
     "metadata": {},
     "output_type": "execute_result"
    }
   ],
   "source": [
    "#pivot\n",
    "df_pivot = df.pivot_table(index='insert_time',columns=['sensor_id','unit1'],values='value1')\n",
    "#multindex to single index\n",
    "df_pivot.columns =\tdf_pivot.columns.map('_'.join)\n",
    "#resample on 5min time windows\n",
    "df_pivot = df_pivot.resample('1Min').agg({'CIRCUITPY323d_PPM':'mean', 'CIRCUITPY323d_C':'mean','CIRCUITPY323d_%':'mean','CIRCUITPY825a_Window':'last','CIRCUITPYbec9_Person':'last'})\n",
    "df_pivot.head(30)"
   ]
  },
  {
   "cell_type": "code",
   "execution_count": 56,
   "metadata": {
    "collapsed": false,
    "pycharm": {
     "name": "#%%\n"
    }
   },
   "outputs": [],
   "source": [
    "#neue Variable die die Luftqualität Quantitativ einordnet\n",
    "df_pivot['air_quality'] =np.where(np.floor(df_pivot['CIRCUITPY323d_PPM']).isin(range(600,1000)), 'good',\n",
    "                   np.where(np.floor(df_pivot['CIRCUITPY323d_PPM']).isin(range(1000,1400)), 'ok',\n",
    "                   np.where(np.floor(df_pivot['CIRCUITPY323d_PPM'])>1400, 'bad', 'top')))"
   ]
  },
  {
   "cell_type": "code",
   "execution_count": 57,
   "metadata": {
    "collapsed": false,
    "pycharm": {
     "name": "#%%\n"
    }
   },
   "outputs": [],
   "source": [
    "#select specific time window\n",
    "df_timewindow = df_pivot.loc['2022-04-15 12:00:00':'2022-05-04 23:50:00']"
   ]
  },
  {
   "cell_type": "code",
   "execution_count": 58,
   "metadata": {
    "collapsed": false,
    "pycharm": {
     "name": "#%%\n"
    }
   },
   "outputs": [
    {
     "name": "stderr",
     "output_type": "stream",
     "text": [
      "/Library/Frameworks/Python.framework/Versions/3.9/lib/python3.9/site-packages/pandas/core/generic.py:6392: SettingWithCopyWarning: \n",
      "A value is trying to be set on a copy of a slice from a DataFrame\n",
      "\n",
      "See the caveats in the documentation: https://pandas.pydata.org/pandas-docs/stable/user_guide/indexing.html#returning-a-view-versus-a-copy\n",
      "  return self._update_inplace(result)\n"
     ]
    },
    {
     "data": {
      "text/html": [
       "<div>\n",
       "<style scoped>\n",
       "    .dataframe tbody tr th:only-of-type {\n",
       "        vertical-align: middle;\n",
       "    }\n",
       "\n",
       "    .dataframe tbody tr th {\n",
       "        vertical-align: top;\n",
       "    }\n",
       "\n",
       "    .dataframe thead th {\n",
       "        text-align: right;\n",
       "    }\n",
       "</style>\n",
       "<table border=\"1\" class=\"dataframe\">\n",
       "  <thead>\n",
       "    <tr style=\"text-align: right;\">\n",
       "      <th></th>\n",
       "      <th>CIRCUITPY323d_PPM</th>\n",
       "      <th>CIRCUITPY323d_C</th>\n",
       "      <th>CIRCUITPY323d_%</th>\n",
       "      <th>CIRCUITPY825a_Window</th>\n",
       "      <th>CIRCUITPYbec9_Person</th>\n",
       "      <th>air_quality</th>\n",
       "    </tr>\n",
       "    <tr>\n",
       "      <th>insert_time</th>\n",
       "      <th></th>\n",
       "      <th></th>\n",
       "      <th></th>\n",
       "      <th></th>\n",
       "      <th></th>\n",
       "      <th></th>\n",
       "    </tr>\n",
       "  </thead>\n",
       "  <tbody>\n",
       "    <tr>\n",
       "      <th>2022-04-15 12:00:00+00:00</th>\n",
       "      <td>673.1</td>\n",
       "      <td>26.2</td>\n",
       "      <td>44.4</td>\n",
       "      <td>0.0</td>\n",
       "      <td>1.0</td>\n",
       "      <td>good</td>\n",
       "    </tr>\n",
       "    <tr>\n",
       "      <th>2022-04-15 12:01:00+00:00</th>\n",
       "      <td>667.7</td>\n",
       "      <td>26.3</td>\n",
       "      <td>44.4</td>\n",
       "      <td>0.0</td>\n",
       "      <td>1.0</td>\n",
       "      <td>good</td>\n",
       "    </tr>\n",
       "    <tr>\n",
       "      <th>2022-04-15 12:02:00+00:00</th>\n",
       "      <td>663.0</td>\n",
       "      <td>26.3</td>\n",
       "      <td>44.3</td>\n",
       "      <td>0.0</td>\n",
       "      <td>1.0</td>\n",
       "      <td>good</td>\n",
       "    </tr>\n",
       "    <tr>\n",
       "      <th>2022-04-15 12:03:00+00:00</th>\n",
       "      <td>659.3</td>\n",
       "      <td>26.3</td>\n",
       "      <td>44.4</td>\n",
       "      <td>0.0</td>\n",
       "      <td>1.0</td>\n",
       "      <td>good</td>\n",
       "    </tr>\n",
       "    <tr>\n",
       "      <th>2022-04-15 12:04:00+00:00</th>\n",
       "      <td>661.8</td>\n",
       "      <td>26.3</td>\n",
       "      <td>44.5</td>\n",
       "      <td>0.0</td>\n",
       "      <td>1.0</td>\n",
       "      <td>good</td>\n",
       "    </tr>\n",
       "    <tr>\n",
       "      <th>...</th>\n",
       "      <td>...</td>\n",
       "      <td>...</td>\n",
       "      <td>...</td>\n",
       "      <td>...</td>\n",
       "      <td>...</td>\n",
       "      <td>...</td>\n",
       "    </tr>\n",
       "    <tr>\n",
       "      <th>2022-05-04 23:46:00+00:00</th>\n",
       "      <td>693.6</td>\n",
       "      <td>26.0</td>\n",
       "      <td>45.8</td>\n",
       "      <td>0.0</td>\n",
       "      <td>0.0</td>\n",
       "      <td>good</td>\n",
       "    </tr>\n",
       "    <tr>\n",
       "      <th>2022-05-04 23:47:00+00:00</th>\n",
       "      <td>692.7</td>\n",
       "      <td>26.0</td>\n",
       "      <td>45.8</td>\n",
       "      <td>0.0</td>\n",
       "      <td>0.0</td>\n",
       "      <td>good</td>\n",
       "    </tr>\n",
       "    <tr>\n",
       "      <th>2022-05-04 23:48:00+00:00</th>\n",
       "      <td>689.6</td>\n",
       "      <td>26.0</td>\n",
       "      <td>45.7</td>\n",
       "      <td>0.0</td>\n",
       "      <td>0.0</td>\n",
       "      <td>good</td>\n",
       "    </tr>\n",
       "    <tr>\n",
       "      <th>2022-05-04 23:49:00+00:00</th>\n",
       "      <td>686.9</td>\n",
       "      <td>26.0</td>\n",
       "      <td>45.7</td>\n",
       "      <td>0.0</td>\n",
       "      <td>0.0</td>\n",
       "      <td>good</td>\n",
       "    </tr>\n",
       "    <tr>\n",
       "      <th>2022-05-04 23:50:00+00:00</th>\n",
       "      <td>684.3</td>\n",
       "      <td>26.0</td>\n",
       "      <td>45.7</td>\n",
       "      <td>0.0</td>\n",
       "      <td>0.0</td>\n",
       "      <td>good</td>\n",
       "    </tr>\n",
       "  </tbody>\n",
       "</table>\n",
       "<p>28071 rows × 6 columns</p>\n",
       "</div>"
      ],
      "text/plain": [
       "                           CIRCUITPY323d_PPM  CIRCUITPY323d_C  \\\n",
       "insert_time                                                     \n",
       "2022-04-15 12:00:00+00:00              673.1             26.2   \n",
       "2022-04-15 12:01:00+00:00              667.7             26.3   \n",
       "2022-04-15 12:02:00+00:00              663.0             26.3   \n",
       "2022-04-15 12:03:00+00:00              659.3             26.3   \n",
       "2022-04-15 12:04:00+00:00              661.8             26.3   \n",
       "...                                      ...              ...   \n",
       "2022-05-04 23:46:00+00:00              693.6             26.0   \n",
       "2022-05-04 23:47:00+00:00              692.7             26.0   \n",
       "2022-05-04 23:48:00+00:00              689.6             26.0   \n",
       "2022-05-04 23:49:00+00:00              686.9             26.0   \n",
       "2022-05-04 23:50:00+00:00              684.3             26.0   \n",
       "\n",
       "                           CIRCUITPY323d_%  CIRCUITPY825a_Window  \\\n",
       "insert_time                                                        \n",
       "2022-04-15 12:00:00+00:00             44.4                   0.0   \n",
       "2022-04-15 12:01:00+00:00             44.4                   0.0   \n",
       "2022-04-15 12:02:00+00:00             44.3                   0.0   \n",
       "2022-04-15 12:03:00+00:00             44.4                   0.0   \n",
       "2022-04-15 12:04:00+00:00             44.5                   0.0   \n",
       "...                                    ...                   ...   \n",
       "2022-05-04 23:46:00+00:00             45.8                   0.0   \n",
       "2022-05-04 23:47:00+00:00             45.8                   0.0   \n",
       "2022-05-04 23:48:00+00:00             45.7                   0.0   \n",
       "2022-05-04 23:49:00+00:00             45.7                   0.0   \n",
       "2022-05-04 23:50:00+00:00             45.7                   0.0   \n",
       "\n",
       "                           CIRCUITPYbec9_Person air_quality  \n",
       "insert_time                                                  \n",
       "2022-04-15 12:00:00+00:00                   1.0        good  \n",
       "2022-04-15 12:01:00+00:00                   1.0        good  \n",
       "2022-04-15 12:02:00+00:00                   1.0        good  \n",
       "2022-04-15 12:03:00+00:00                   1.0        good  \n",
       "2022-04-15 12:04:00+00:00                   1.0        good  \n",
       "...                                         ...         ...  \n",
       "2022-05-04 23:46:00+00:00                   0.0        good  \n",
       "2022-05-04 23:47:00+00:00                   0.0        good  \n",
       "2022-05-04 23:48:00+00:00                   0.0        good  \n",
       "2022-05-04 23:49:00+00:00                   0.0        good  \n",
       "2022-05-04 23:50:00+00:00                   0.0        good  \n",
       "\n",
       "[28071 rows x 6 columns]"
      ]
     },
     "execution_count": 58,
     "metadata": {},
     "output_type": "execute_result"
    }
   ],
   "source": [
    "#Fill Nan for window sensor\n",
    "df_timewindow['CIRCUITPY825a_Window'].fillna(method='ffill',inplace=True)\n",
    "df_timewindow['CIRCUITPY825a_Window'].fillna(method='bfill',inplace=True)\n",
    "#Fill Nan for people sensor\n",
    "df_timewindow['CIRCUITPYbec9_Person'].fillna(method='ffill',inplace=True)\n",
    "#Fill Nan for first entry for people sensor\n",
    "df_timewindow['CIRCUITPYbec9_Person'].fillna(method='bfill',inplace=True)\n",
    "\n",
    "\n",
    "\n",
    "df_timewindow"
   ]
  },
  {
   "cell_type": "code",
   "execution_count": 59,
   "metadata": {
    "collapsed": false,
    "pycharm": {
     "name": "#%%\n"
    }
   },
   "outputs": [
    {
     "data": {
      "text/plain": [
       "5280"
      ]
     },
     "execution_count": 59,
     "metadata": {},
     "output_type": "execute_result"
    }
   ],
   "source": [
    "df_timewindow[\"CIRCUITPY323d_PPM\"].isna().sum()"
   ]
  },
  {
   "cell_type": "code",
   "execution_count": 60,
   "metadata": {
    "collapsed": false,
    "pycharm": {
     "name": "#%%\n"
    }
   },
   "outputs": [
    {
     "data": {
      "text/plain": [
       "5285"
      ]
     },
     "execution_count": 60,
     "metadata": {},
     "output_type": "execute_result"
    }
   ],
   "source": [
    "df_timewindow[\"CIRCUITPY323d_C\"].isna().sum()"
   ]
  },
  {
   "cell_type": "code",
   "execution_count": 61,
   "metadata": {
    "collapsed": false,
    "pycharm": {
     "name": "#%%\n"
    }
   },
   "outputs": [
    {
     "data": {
      "text/plain": [
       "5274"
      ]
     },
     "execution_count": 61,
     "metadata": {},
     "output_type": "execute_result"
    }
   ],
   "source": [
    "df_timewindow[\"CIRCUITPY323d_%\"].isna().sum()"
   ]
  },
  {
   "cell_type": "code",
   "execution_count": 62,
   "metadata": {
    "collapsed": false,
    "pycharm": {
     "name": "#%%\n"
    }
   },
   "outputs": [
    {
     "data": {
      "text/plain": [
       "DatetimeIndex(['2022-04-15 12:00:00', '2022-04-15 12:01:00',\n",
       "               '2022-04-15 12:02:00', '2022-04-15 12:03:00',\n",
       "               '2022-04-15 12:04:00', '2022-04-15 12:05:00',\n",
       "               '2022-04-15 12:06:00', '2022-04-15 12:07:00',\n",
       "               '2022-04-15 12:08:00', '2022-04-15 12:09:00',\n",
       "               ...\n",
       "               '2022-05-04 23:41:00', '2022-05-04 23:42:00',\n",
       "               '2022-05-04 23:43:00', '2022-05-04 23:44:00',\n",
       "               '2022-05-04 23:45:00', '2022-05-04 23:46:00',\n",
       "               '2022-05-04 23:47:00', '2022-05-04 23:48:00',\n",
       "               '2022-05-04 23:49:00', '2022-05-04 23:50:00'],\n",
       "              dtype='datetime64[ns]', name='insert_time', length=28071, freq='T')"
      ]
     },
     "execution_count": 62,
     "metadata": {},
     "output_type": "execute_result"
    }
   ],
   "source": [
    "index = df_timewindow.index\n",
    "index.tz_convert(tz=None)"
   ]
  },
  {
   "cell_type": "code",
   "execution_count": 63,
   "metadata": {
    "collapsed": false,
    "pycharm": {
     "name": "#%%\n"
    }
   },
   "outputs": [],
   "source": [
    "df_timewindow = df_timewindow.resample('1Min').agg({'CIRCUITPY323d_PPM':'mean', 'CIRCUITPY323d_C':'mean','CIRCUITPY323d_%':'mean','CIRCUITPY825a_Window':'last','CIRCUITPYbec9_Person':'last','air_quality':'last'})\n",
    " #'slope': np.polyfit(x=df_timewindow.index.tz_convert(None), y=df_timewindow['CIRCUITPY323d_PPM'], deg=1)[0]}"
   ]
  },
  {
   "cell_type": "code",
   "execution_count": 64,
   "metadata": {
    "collapsed": false,
    "pycharm": {
     "name": "#%%\n"
    }
   },
   "outputs": [
    {
     "data": {
      "image/png": "[encoded data removed]",
      "text/plain": [
       "<Figure size 1440x360 with 4 Axes>"
      ]
     },
     "metadata": {
      "needs_background": "light"
     },
     "output_type": "display_data"
    }
   ],
   "source": [
    "#linechart cobined with bar chart\n",
    "#if windows sensor 1 blue line if windows sensor 0 red line\n",
    "# Use a boundary norm instead\n",
    "fig, ax1 = plt.subplots()\n",
    "#hide grid\n",
    "ax1 = df_timewindow['CIRCUITPY323d_PPM'].plot(kind='line',color='blue',label='PPM', grid=False)\n",
    "ax3 = ax1.twinx()\n",
    "ax3 = df_timewindow['CIRCUITPY323d_C'].plot(kind='line',color='red',label='C', grid=False,ylim=(0,30))\n",
    "ax4 = ax1.twinx()\n",
    "ax4 = df_timewindow['CIRCUITPY323d_%'].plot(kind='line',color='green',label='%', grid=False,ylim=(20,60))\n",
    "ax2 = ax1.twinx()\n",
    "ax2 = df_timewindow['CIRCUITPYbec9_Person'].plot(kind='line',color='black',label='People Count',ylim=(0,5))\n",
    "ax1.pcolorfast(ax1.get_xlim(), ax1.get_ylim(),df_timewindow['CIRCUITPY825a_Window'].values[np.newaxis],cmap='RdYlGn', alpha=0.3,label='Windows')\n",
    "#set size\n",
    "ax1.figure.set_size_inches(20, 5)\n",
    "#show legend\n",
    "ax1.legend(loc='upper left')\n",
    "ax2.legend(loc='upper right')\n",
    "ax3.legend(loc='center right')\n",
    "ax4.legend(loc='lower right')\n",
    "#additonal legend for window sensor\n",
    "\n",
    "\n",
    "plt.show()"
   ]
  },
  {
   "cell_type": "code",
   "execution_count": 65,
   "metadata": {
    "collapsed": false,
    "pycharm": {
     "name": "#%%\n"
    }
   },
   "outputs": [
    {
     "data": {
      "text/html": [
       "<div>\n",
       "<style scoped>\n",
       "    .dataframe tbody tr th:only-of-type {\n",
       "        vertical-align: middle;\n",
       "    }\n",
       "\n",
       "    .dataframe tbody tr th {\n",
       "        vertical-align: top;\n",
       "    }\n",
       "\n",
       "    .dataframe thead th {\n",
       "        text-align: right;\n",
       "    }\n",
       "</style>\n",
       "<table border=\"1\" class=\"dataframe\">\n",
       "  <thead>\n",
       "    <tr style=\"text-align: right;\">\n",
       "      <th></th>\n",
       "      <th>CIRCUITPY323d_PPM</th>\n",
       "      <th>CIRCUITPY323d_C</th>\n",
       "      <th>CIRCUITPY323d_%</th>\n",
       "      <th>CIRCUITPY825a_Window</th>\n",
       "      <th>CIRCUITPYbec9_Person</th>\n",
       "    </tr>\n",
       "  </thead>\n",
       "  <tbody>\n",
       "    <tr>\n",
       "      <th>CIRCUITPY323d_PPM</th>\n",
       "      <td>1.000000</td>\n",
       "      <td>0.249225</td>\n",
       "      <td>0.459236</td>\n",
       "      <td>-0.365715</td>\n",
       "      <td>0.063986</td>\n",
       "    </tr>\n",
       "    <tr>\n",
       "      <th>CIRCUITPY323d_C</th>\n",
       "      <td>0.249225</td>\n",
       "      <td>1.000000</td>\n",
       "      <td>0.174458</td>\n",
       "      <td>-0.200024</td>\n",
       "      <td>0.196349</td>\n",
       "    </tr>\n",
       "    <tr>\n",
       "      <th>CIRCUITPY323d_%</th>\n",
       "      <td>0.459236</td>\n",
       "      <td>0.174458</td>\n",
       "      <td>1.000000</td>\n",
       "      <td>-0.202230</td>\n",
       "      <td>-0.118184</td>\n",
       "    </tr>\n",
       "    <tr>\n",
       "      <th>CIRCUITPY825a_Window</th>\n",
       "      <td>-0.365715</td>\n",
       "      <td>-0.200024</td>\n",
       "      <td>-0.202230</td>\n",
       "      <td>1.000000</td>\n",
       "      <td>0.086111</td>\n",
       "    </tr>\n",
       "    <tr>\n",
       "      <th>CIRCUITPYbec9_Person</th>\n",
       "      <td>0.063986</td>\n",
       "      <td>0.196349</td>\n",
       "      <td>-0.118184</td>\n",
       "      <td>0.086111</td>\n",
       "      <td>1.000000</td>\n",
       "    </tr>\n",
       "  </tbody>\n",
       "</table>\n",
       "</div>"
      ],
      "text/plain": [
       "                      CIRCUITPY323d_PPM  CIRCUITPY323d_C  CIRCUITPY323d_%  \\\n",
       "CIRCUITPY323d_PPM              1.000000         0.249225         0.459236   \n",
       "CIRCUITPY323d_C                0.249225         1.000000         0.174458   \n",
       "CIRCUITPY323d_%                0.459236         0.174458         1.000000   \n",
       "CIRCUITPY825a_Window          -0.365715        -0.200024        -0.202230   \n",
       "CIRCUITPYbec9_Person           0.063986         0.196349        -0.118184   \n",
       "\n",
       "                      CIRCUITPY825a_Window  CIRCUITPYbec9_Person  \n",
       "CIRCUITPY323d_PPM                -0.365715              0.063986  \n",
       "CIRCUITPY323d_C                  -0.200024              0.196349  \n",
       "CIRCUITPY323d_%                  -0.202230             -0.118184  \n",
       "CIRCUITPY825a_Window              1.000000              0.086111  \n",
       "CIRCUITPYbec9_Person              0.086111              1.000000  "
      ]
     },
     "execution_count": 65,
     "metadata": {},
     "output_type": "execute_result"
    }
   ],
   "source": [
    "#calculate correleation between two columns\n",
    "df_timewindow.corr(method=\"spearman\")"
   ]
  },
  {
   "cell_type": "code",
   "execution_count": 66,
   "metadata": {
    "collapsed": false,
    "pycharm": {
     "name": "#%%\n"
    }
   },
   "outputs": [
    {
     "data": {
      "text/html": [
       "<div>\n",
       "<style scoped>\n",
       "    .dataframe tbody tr th:only-of-type {\n",
       "        vertical-align: middle;\n",
       "    }\n",
       "\n",
       "    .dataframe tbody tr th {\n",
       "        vertical-align: top;\n",
       "    }\n",
       "\n",
       "    .dataframe thead th {\n",
       "        text-align: right;\n",
       "    }\n",
       "</style>\n",
       "<table border=\"1\" class=\"dataframe\">\n",
       "  <thead>\n",
       "    <tr style=\"text-align: right;\">\n",
       "      <th></th>\n",
       "      <th>CIRCUITPY323d_PPM</th>\n",
       "      <th>CIRCUITPY323d_C</th>\n",
       "      <th>CIRCUITPY323d_%</th>\n",
       "      <th>CIRCUITPY825a_Window</th>\n",
       "      <th>CIRCUITPYbec9_Person</th>\n",
       "    </tr>\n",
       "  </thead>\n",
       "  <tbody>\n",
       "    <tr>\n",
       "      <th>CIRCUITPY323d_PPM</th>\n",
       "      <td>1.000000</td>\n",
       "      <td>0.353213</td>\n",
       "      <td>0.458411</td>\n",
       "      <td>-0.376430</td>\n",
       "      <td>0.082577</td>\n",
       "    </tr>\n",
       "    <tr>\n",
       "      <th>CIRCUITPY323d_C</th>\n",
       "      <td>0.353213</td>\n",
       "      <td>1.000000</td>\n",
       "      <td>0.253544</td>\n",
       "      <td>-0.228534</td>\n",
       "      <td>0.217990</td>\n",
       "    </tr>\n",
       "    <tr>\n",
       "      <th>CIRCUITPY323d_%</th>\n",
       "      <td>0.458411</td>\n",
       "      <td>0.253544</td>\n",
       "      <td>1.000000</td>\n",
       "      <td>-0.200166</td>\n",
       "      <td>-0.118615</td>\n",
       "    </tr>\n",
       "    <tr>\n",
       "      <th>CIRCUITPY825a_Window</th>\n",
       "      <td>-0.376430</td>\n",
       "      <td>-0.228534</td>\n",
       "      <td>-0.200166</td>\n",
       "      <td>1.000000</td>\n",
       "      <td>0.028571</td>\n",
       "    </tr>\n",
       "    <tr>\n",
       "      <th>CIRCUITPYbec9_Person</th>\n",
       "      <td>0.082577</td>\n",
       "      <td>0.217990</td>\n",
       "      <td>-0.118615</td>\n",
       "      <td>0.028571</td>\n",
       "      <td>1.000000</td>\n",
       "    </tr>\n",
       "  </tbody>\n",
       "</table>\n",
       "</div>"
      ],
      "text/plain": [
       "                      CIRCUITPY323d_PPM  CIRCUITPY323d_C  CIRCUITPY323d_%  \\\n",
       "CIRCUITPY323d_PPM              1.000000         0.353213         0.458411   \n",
       "CIRCUITPY323d_C                0.353213         1.000000         0.253544   \n",
       "CIRCUITPY323d_%                0.458411         0.253544         1.000000   \n",
       "CIRCUITPY825a_Window          -0.376430        -0.228534        -0.200166   \n",
       "CIRCUITPYbec9_Person           0.082577         0.217990        -0.118615   \n",
       "\n",
       "                      CIRCUITPY825a_Window  CIRCUITPYbec9_Person  \n",
       "CIRCUITPY323d_PPM                -0.376430              0.082577  \n",
       "CIRCUITPY323d_C                  -0.228534              0.217990  \n",
       "CIRCUITPY323d_%                  -0.200166             -0.118615  \n",
       "CIRCUITPY825a_Window              1.000000              0.028571  \n",
       "CIRCUITPYbec9_Person              0.028571              1.000000  "
      ]
     },
     "execution_count": 66,
     "metadata": {},
     "output_type": "execute_result"
    }
   ],
   "source": [
    "#calculate correleation between two columns\n",
    "df_timewindow.corr(method=\"pearson\")"
   ]
  },
  {
   "cell_type": "markdown",
   "metadata": {
    "collapsed": false,
    "pycharm": {
     "name": "#%% md\n"
    }
   },
   "source": [
    "Janis Ideen data wrangling"
   ]
  },
  {
   "cell_type": "code",
   "execution_count": 67,
   "metadata": {
    "collapsed": false,
    "pycharm": {
     "name": "#%%\n"
    }
   },
   "outputs": [
    {
     "name": "stdout",
     "output_type": "stream",
     "text": [
      "<class 'pandas.core.frame.DataFrame'>\n",
      "DatetimeIndex: 28071 entries, 2022-04-15 12:00:00+00:00 to 2022-05-04 23:50:00+00:00\n",
      "Freq: T\n",
      "Data columns (total 6 columns):\n",
      " #   Column                Non-Null Count  Dtype  \n",
      "---  ------                --------------  -----  \n",
      " 0   CIRCUITPY323d_PPM     22791 non-null  float64\n",
      " 1   CIRCUITPY323d_C       22786 non-null  float64\n",
      " 2   CIRCUITPY323d_%       22797 non-null  float64\n",
      " 3   CIRCUITPY825a_Window  28071 non-null  float64\n",
      " 4   CIRCUITPYbec9_Person  28071 non-null  float64\n",
      " 5   air_quality           28071 non-null  object \n",
      "dtypes: float64(5), object(1)\n",
      "memory usage: 1.5+ MB\n"
     ]
    }
   ],
   "source": [
    "df_timewindow.info()"
   ]
  },
  {
   "cell_type": "code",
   "execution_count": 68,
   "metadata": {
    "collapsed": false,
    "pycharm": {
     "name": "#%%\n"
    }
   },
   "outputs": [
    {
     "name": "stderr",
     "output_type": "stream",
     "text": [
      "/Library/Frameworks/Python.framework/Versions/3.9/lib/python3.9/site-packages/seaborn/_decorators.py:36: FutureWarning: Pass the following variable as a keyword arg: x. From version 0.12, the only valid positional argument will be `data`, and passing other arguments without an explicit keyword will result in an error or misinterpretation.\n",
      "  warnings.warn(\n",
      "/Library/Frameworks/Python.framework/Versions/3.9/lib/python3.9/site-packages/seaborn/distributions.py:2619: FutureWarning: `distplot` is a deprecated function and will be removed in a future version. Please adapt your code to use either `displot` (a figure-level function with similar flexibility) or `histplot` (an axes-level function for histograms).\n",
      "  warnings.warn(msg, FutureWarning)\n"
     ]
    },
    {
     "data": {
      "image/png": "[encoded data removed]",
      "text/plain": [
       "<Figure size 648x432 with 2 Axes>"
      ]
     },
     "metadata": {
      "needs_background": "light"
     },
     "output_type": "display_data"
    },
    {
     "name": "stderr",
     "output_type": "stream",
     "text": [
      "/Library/Frameworks/Python.framework/Versions/3.9/lib/python3.9/site-packages/seaborn/_decorators.py:36: FutureWarning: Pass the following variable as a keyword arg: x. From version 0.12, the only valid positional argument will be `data`, and passing other arguments without an explicit keyword will result in an error or misinterpretation.\n",
      "  warnings.warn(\n",
      "/Library/Frameworks/Python.framework/Versions/3.9/lib/python3.9/site-packages/seaborn/distributions.py:2619: FutureWarning: `distplot` is a deprecated function and will be removed in a future version. Please adapt your code to use either `displot` (a figure-level function with similar flexibility) or `histplot` (an axes-level function for histograms).\n",
      "  warnings.warn(msg, FutureWarning)\n"
     ]
    },
    {
     "data": {
      "image/png": "[encoded data removed]",
      "text/plain": [
       "<Figure size 648x432 with 2 Axes>"
      ]
     },
     "metadata": {
      "needs_background": "light"
     },
     "output_type": "display_data"
    },
    {
     "name": "stderr",
     "output_type": "stream",
     "text": [
      "/Library/Frameworks/Python.framework/Versions/3.9/lib/python3.9/site-packages/seaborn/_decorators.py:36: FutureWarning: Pass the following variable as a keyword arg: x. From version 0.12, the only valid positional argument will be `data`, and passing other arguments without an explicit keyword will result in an error or misinterpretation.\n",
      "  warnings.warn(\n",
      "/Library/Frameworks/Python.framework/Versions/3.9/lib/python3.9/site-packages/seaborn/distributions.py:2619: FutureWarning: `distplot` is a deprecated function and will be removed in a future version. Please adapt your code to use either `displot` (a figure-level function with similar flexibility) or `histplot` (an axes-level function for histograms).\n",
      "  warnings.warn(msg, FutureWarning)\n"
     ]
    },
    {
     "data": {
      "image/png": "[encoded data removed]",
      "text/plain": [
       "<Figure size 648x432 with 2 Axes>"
      ]
     },
     "metadata": {
      "needs_background": "light"
     },
     "output_type": "display_data"
    },
    {
     "name": "stderr",
     "output_type": "stream",
     "text": [
      "/Library/Frameworks/Python.framework/Versions/3.9/lib/python3.9/site-packages/seaborn/_decorators.py:36: FutureWarning: Pass the following variable as a keyword arg: x. From version 0.12, the only valid positional argument will be `data`, and passing other arguments without an explicit keyword will result in an error or misinterpretation.\n",
      "  warnings.warn(\n",
      "/Library/Frameworks/Python.framework/Versions/3.9/lib/python3.9/site-packages/seaborn/distributions.py:2619: FutureWarning: `distplot` is a deprecated function and will be removed in a future version. Please adapt your code to use either `displot` (a figure-level function with similar flexibility) or `histplot` (an axes-level function for histograms).\n",
      "  warnings.warn(msg, FutureWarning)\n"
     ]
    },
    {
     "data": {
      "image/png": "[encoded data removed]",
      "text/plain": [
       "<Figure size 648x432 with 2 Axes>"
      ]
     },
     "metadata": {
      "needs_background": "light"
     },
     "output_type": "display_data"
    }
   ],
   "source": [
    "#detect outliers in PPM data\n",
    "#print boxlot\n",
    "utils.overview(df_timewindow, \"CIRCUITPY323d_PPM\")\n",
    "utils.overview(df_timewindow, \"CIRCUITPY323d_C\")\n",
    "utils.overview(df_timewindow, \"CIRCUITPY323d_%\")\n",
    "utils.overview(df_timewindow, \"CIRCUITPYbec9_Person\")"
   ]
  },
  {
   "cell_type": "code",
   "execution_count": 69,
   "metadata": {
    "collapsed": false,
    "pycharm": {
     "name": "#%%\n"
    }
   },
   "outputs": [
    {
     "name": "stdout",
     "output_type": "stream",
     "text": [
      "1413.1999999999998\n",
      "320.0\n"
     ]
    }
   ],
   "source": [
    "print(df_timewindow['CIRCUITPY323d_PPM'].max())\n",
    "print(df_timewindow['CIRCUITPY323d_PPM'].min())"
   ]
  },
  {
   "cell_type": "code",
   "execution_count": 70,
   "metadata": {
    "collapsed": false,
    "pycharm": {
     "name": "#%%\n"
    }
   },
   "outputs": [
    {
     "data": {
      "text/plain": [
       "insert_time\n",
       "2022-04-15 12:00:00+00:00    False\n",
       "2022-04-15 12:01:00+00:00    False\n",
       "2022-04-15 12:02:00+00:00    False\n",
       "2022-04-15 12:03:00+00:00    False\n",
       "2022-04-15 12:04:00+00:00    False\n",
       "                             ...  \n",
       "2022-05-04 23:46:00+00:00    False\n",
       "2022-05-04 23:47:00+00:00    False\n",
       "2022-05-04 23:48:00+00:00    False\n",
       "2022-05-04 23:49:00+00:00    False\n",
       "2022-05-04 23:50:00+00:00    False\n",
       "Freq: T, Name: air_quality, Length: 28071, dtype: bool"
      ]
     },
     "execution_count": 70,
     "metadata": {},
     "output_type": "execute_result"
    }
   ],
   "source": [
    "df_timewindow[\"air_quality\"] == \"ok\""
   ]
  },
  {
   "cell_type": "code",
   "execution_count": 71,
   "metadata": {
    "collapsed": false,
    "pycharm": {
     "name": "#%%\n"
    }
   },
   "outputs": [],
   "source": [
    "#only keep CO2 values above 1000\n",
    "df_ppm_high = df_timewindow[df_timewindow[\"CIRCUITPY323d_PPM\"] >= 1000]"
   ]
  },
  {
   "cell_type": "code",
   "execution_count": 72,
   "metadata": {
    "collapsed": false,
    "pycharm": {
     "name": "#%%\n"
    }
   },
   "outputs": [
    {
     "data": {
      "text/html": [
       "<div>\n",
       "<style scoped>\n",
       "    .dataframe tbody tr th:only-of-type {\n",
       "        vertical-align: middle;\n",
       "    }\n",
       "\n",
       "    .dataframe tbody tr th {\n",
       "        vertical-align: top;\n",
       "    }\n",
       "\n",
       "    .dataframe thead th {\n",
       "        text-align: right;\n",
       "    }\n",
       "</style>\n",
       "<table border=\"1\" class=\"dataframe\">\n",
       "  <thead>\n",
       "    <tr style=\"text-align: right;\">\n",
       "      <th></th>\n",
       "      <th>CIRCUITPY323d_PPM</th>\n",
       "      <th>CIRCUITPY323d_C</th>\n",
       "      <th>CIRCUITPY323d_%</th>\n",
       "      <th>CIRCUITPY825a_Window</th>\n",
       "      <th>CIRCUITPYbec9_Person</th>\n",
       "      <th>air_quality</th>\n",
       "    </tr>\n",
       "    <tr>\n",
       "      <th>insert_time</th>\n",
       "      <th></th>\n",
       "      <th></th>\n",
       "      <th></th>\n",
       "      <th></th>\n",
       "      <th></th>\n",
       "      <th></th>\n",
       "    </tr>\n",
       "  </thead>\n",
       "  <tbody>\n",
       "    <tr>\n",
       "      <th>2022-04-15 15:16:00+00:00</th>\n",
       "      <td>1039.5</td>\n",
       "      <td>26.5</td>\n",
       "      <td>44.4</td>\n",
       "      <td>0.0</td>\n",
       "      <td>2.0</td>\n",
       "      <td>ok</td>\n",
       "    </tr>\n",
       "    <tr>\n",
       "      <th>2022-04-16 08:09:00+00:00</th>\n",
       "      <td>1000.7</td>\n",
       "      <td>26.4</td>\n",
       "      <td>44.1</td>\n",
       "      <td>0.0</td>\n",
       "      <td>2.0</td>\n",
       "      <td>ok</td>\n",
       "    </tr>\n",
       "    <tr>\n",
       "      <th>2022-04-16 08:10:00+00:00</th>\n",
       "      <td>1006.0</td>\n",
       "      <td>26.4</td>\n",
       "      <td>44.1</td>\n",
       "      <td>0.0</td>\n",
       "      <td>2.0</td>\n",
       "      <td>ok</td>\n",
       "    </tr>\n",
       "    <tr>\n",
       "      <th>2022-04-16 08:11:00+00:00</th>\n",
       "      <td>1004.7</td>\n",
       "      <td>26.4</td>\n",
       "      <td>44.1</td>\n",
       "      <td>0.0</td>\n",
       "      <td>2.0</td>\n",
       "      <td>ok</td>\n",
       "    </tr>\n",
       "    <tr>\n",
       "      <th>2022-04-16 08:12:00+00:00</th>\n",
       "      <td>1009.8</td>\n",
       "      <td>26.5</td>\n",
       "      <td>44.4</td>\n",
       "      <td>0.0</td>\n",
       "      <td>3.0</td>\n",
       "      <td>ok</td>\n",
       "    </tr>\n",
       "    <tr>\n",
       "      <th>...</th>\n",
       "      <td>...</td>\n",
       "      <td>...</td>\n",
       "      <td>...</td>\n",
       "      <td>...</td>\n",
       "      <td>...</td>\n",
       "      <td>...</td>\n",
       "    </tr>\n",
       "    <tr>\n",
       "      <th>2022-05-04 06:39:00+00:00</th>\n",
       "      <td>1149.7</td>\n",
       "      <td>26.0</td>\n",
       "      <td>43.6</td>\n",
       "      <td>1.0</td>\n",
       "      <td>1.0</td>\n",
       "      <td>ok</td>\n",
       "    </tr>\n",
       "    <tr>\n",
       "      <th>2022-05-04 06:40:00+00:00</th>\n",
       "      <td>1099.9</td>\n",
       "      <td>26.0</td>\n",
       "      <td>43.5</td>\n",
       "      <td>0.0</td>\n",
       "      <td>1.0</td>\n",
       "      <td>ok</td>\n",
       "    </tr>\n",
       "    <tr>\n",
       "      <th>2022-05-04 06:41:00+00:00</th>\n",
       "      <td>1054.8</td>\n",
       "      <td>25.9</td>\n",
       "      <td>43.1</td>\n",
       "      <td>0.0</td>\n",
       "      <td>1.0</td>\n",
       "      <td>ok</td>\n",
       "    </tr>\n",
       "    <tr>\n",
       "      <th>2022-05-04 06:42:00+00:00</th>\n",
       "      <td>1007.5</td>\n",
       "      <td>25.9</td>\n",
       "      <td>43.2</td>\n",
       "      <td>1.0</td>\n",
       "      <td>1.0</td>\n",
       "      <td>ok</td>\n",
       "    </tr>\n",
       "    <tr>\n",
       "      <th>2022-05-04 06:43:00+00:00</th>\n",
       "      <td>1000.0</td>\n",
       "      <td>25.9</td>\n",
       "      <td>43.2</td>\n",
       "      <td>1.0</td>\n",
       "      <td>1.0</td>\n",
       "      <td>ok</td>\n",
       "    </tr>\n",
       "  </tbody>\n",
       "</table>\n",
       "<p>236 rows × 6 columns</p>\n",
       "</div>"
      ],
      "text/plain": [
       "                           CIRCUITPY323d_PPM  CIRCUITPY323d_C  \\\n",
       "insert_time                                                     \n",
       "2022-04-15 15:16:00+00:00             1039.5             26.5   \n",
       "2022-04-16 08:09:00+00:00             1000.7             26.4   \n",
       "2022-04-16 08:10:00+00:00             1006.0             26.4   \n",
       "2022-04-16 08:11:00+00:00             1004.7             26.4   \n",
       "2022-04-16 08:12:00+00:00             1009.8             26.5   \n",
       "...                                      ...              ...   \n",
       "2022-05-04 06:39:00+00:00             1149.7             26.0   \n",
       "2022-05-04 06:40:00+00:00             1099.9             26.0   \n",
       "2022-05-04 06:41:00+00:00             1054.8             25.9   \n",
       "2022-05-04 06:42:00+00:00             1007.5             25.9   \n",
       "2022-05-04 06:43:00+00:00             1000.0             25.9   \n",
       "\n",
       "                           CIRCUITPY323d_%  CIRCUITPY825a_Window  \\\n",
       "insert_time                                                        \n",
       "2022-04-15 15:16:00+00:00             44.4                   0.0   \n",
       "2022-04-16 08:09:00+00:00             44.1                   0.0   \n",
       "2022-04-16 08:10:00+00:00             44.1                   0.0   \n",
       "2022-04-16 08:11:00+00:00             44.1                   0.0   \n",
       "2022-04-16 08:12:00+00:00             44.4                   0.0   \n",
       "...                                    ...                   ...   \n",
       "2022-05-04 06:39:00+00:00             43.6                   1.0   \n",
       "2022-05-04 06:40:00+00:00             43.5                   0.0   \n",
       "2022-05-04 06:41:00+00:00             43.1                   0.0   \n",
       "2022-05-04 06:42:00+00:00             43.2                   1.0   \n",
       "2022-05-04 06:43:00+00:00             43.2                   1.0   \n",
       "\n",
       "                           CIRCUITPYbec9_Person air_quality  \n",
       "insert_time                                                  \n",
       "2022-04-15 15:16:00+00:00                   2.0          ok  \n",
       "2022-04-16 08:09:00+00:00                   2.0          ok  \n",
       "2022-04-16 08:10:00+00:00                   2.0          ok  \n",
       "2022-04-16 08:11:00+00:00                   2.0          ok  \n",
       "2022-04-16 08:12:00+00:00                   3.0          ok  \n",
       "...                                         ...         ...  \n",
       "2022-05-04 06:39:00+00:00                   1.0          ok  \n",
       "2022-05-04 06:40:00+00:00                   1.0          ok  \n",
       "2022-05-04 06:41:00+00:00                   1.0          ok  \n",
       "2022-05-04 06:42:00+00:00                   1.0          ok  \n",
       "2022-05-04 06:43:00+00:00                   1.0          ok  \n",
       "\n",
       "[236 rows x 6 columns]"
      ]
     },
     "execution_count": 72,
     "metadata": {},
     "output_type": "execute_result"
    }
   ],
   "source": [
    "df_ppm_high"
   ]
  },
  {
   "cell_type": "markdown",
   "metadata": {
    "collapsed": false,
    "pycharm": {
     "name": "#%% md\n"
    }
   },
   "source": [
    "Wie ist der Zusammenhang zwischen Luftqualität und Frequenz bzw. Dauer des Lüftens?"
   ]
  },
  {
   "cell_type": "code",
   "execution_count": 73,
   "metadata": {
    "collapsed": false,
    "pycharm": {
     "name": "#%%\n"
    }
   },
   "outputs": [],
   "source": [
    "#Wie stark sinkt der CO2 gehalt, wenn gelüftet wird?\n",
    "#Wie schnell steigt der CO2 gehalt zwischen den einzelnen Lüftugsintervallen"
   ]
  },
  {
   "cell_type": "code",
   "execution_count": 74,
   "metadata": {
    "collapsed": false,
    "pycharm": {
     "name": "#%%\n"
    }
   },
   "outputs": [
    {
     "data": {
      "text/html": [
       "<div>\n",
       "<style scoped>\n",
       "    .dataframe tbody tr th:only-of-type {\n",
       "        vertical-align: middle;\n",
       "    }\n",
       "\n",
       "    .dataframe tbody tr th {\n",
       "        vertical-align: top;\n",
       "    }\n",
       "\n",
       "    .dataframe thead th {\n",
       "        text-align: right;\n",
       "    }\n",
       "</style>\n",
       "<table border=\"1\" class=\"dataframe\">\n",
       "  <thead>\n",
       "    <tr style=\"text-align: right;\">\n",
       "      <th></th>\n",
       "      <th>CIRCUITPY323d_PPM</th>\n",
       "      <th>CIRCUITPY323d_C</th>\n",
       "      <th>CIRCUITPY323d_%</th>\n",
       "      <th>CIRCUITPY825a_Window</th>\n",
       "      <th>CIRCUITPYbec9_Person</th>\n",
       "      <th>air_quality</th>\n",
       "    </tr>\n",
       "    <tr>\n",
       "      <th>insert_time</th>\n",
       "      <th></th>\n",
       "      <th></th>\n",
       "      <th></th>\n",
       "      <th></th>\n",
       "      <th></th>\n",
       "      <th></th>\n",
       "    </tr>\n",
       "  </thead>\n",
       "  <tbody>\n",
       "    <tr>\n",
       "      <th>2022-04-15 14:30:00+00:00</th>\n",
       "      <td>679.4</td>\n",
       "      <td>26.5</td>\n",
       "      <td>44.6</td>\n",
       "      <td>1.0</td>\n",
       "      <td>0.0</td>\n",
       "      <td>good</td>\n",
       "    </tr>\n",
       "    <tr>\n",
       "      <th>2022-04-15 14:31:00+00:00</th>\n",
       "      <td>682.8</td>\n",
       "      <td>26.5</td>\n",
       "      <td>44.3</td>\n",
       "      <td>1.0</td>\n",
       "      <td>0.0</td>\n",
       "      <td>good</td>\n",
       "    </tr>\n",
       "    <tr>\n",
       "      <th>2022-04-15 14:32:00+00:00</th>\n",
       "      <td>655.9</td>\n",
       "      <td>26.5</td>\n",
       "      <td>43.6</td>\n",
       "      <td>1.0</td>\n",
       "      <td>0.0</td>\n",
       "      <td>good</td>\n",
       "    </tr>\n",
       "    <tr>\n",
       "      <th>2022-04-15 14:33:00+00:00</th>\n",
       "      <td>573.8</td>\n",
       "      <td>26.5</td>\n",
       "      <td>43.0</td>\n",
       "      <td>1.0</td>\n",
       "      <td>0.0</td>\n",
       "      <td>top</td>\n",
       "    </tr>\n",
       "    <tr>\n",
       "      <th>2022-04-15 14:34:00+00:00</th>\n",
       "      <td>508.1</td>\n",
       "      <td>26.5</td>\n",
       "      <td>42.5</td>\n",
       "      <td>1.0</td>\n",
       "      <td>0.0</td>\n",
       "      <td>top</td>\n",
       "    </tr>\n",
       "    <tr>\n",
       "      <th>...</th>\n",
       "      <td>...</td>\n",
       "      <td>...</td>\n",
       "      <td>...</td>\n",
       "      <td>...</td>\n",
       "      <td>...</td>\n",
       "      <td>...</td>\n",
       "    </tr>\n",
       "    <tr>\n",
       "      <th>2022-05-04 13:15:00+00:00</th>\n",
       "      <td>390.0</td>\n",
       "      <td>25.8</td>\n",
       "      <td>39.2</td>\n",
       "      <td>1.0</td>\n",
       "      <td>0.0</td>\n",
       "      <td>top</td>\n",
       "    </tr>\n",
       "    <tr>\n",
       "      <th>2022-05-04 13:16:00+00:00</th>\n",
       "      <td>387.3</td>\n",
       "      <td>25.8</td>\n",
       "      <td>38.6</td>\n",
       "      <td>1.0</td>\n",
       "      <td>0.0</td>\n",
       "      <td>top</td>\n",
       "    </tr>\n",
       "    <tr>\n",
       "      <th>2022-05-04 13:17:00+00:00</th>\n",
       "      <td>382.1</td>\n",
       "      <td>25.8</td>\n",
       "      <td>37.7</td>\n",
       "      <td>1.0</td>\n",
       "      <td>0.0</td>\n",
       "      <td>top</td>\n",
       "    </tr>\n",
       "    <tr>\n",
       "      <th>2022-05-04 19:23:00+00:00</th>\n",
       "      <td>653.8</td>\n",
       "      <td>26.5</td>\n",
       "      <td>44.1</td>\n",
       "      <td>1.0</td>\n",
       "      <td>1.0</td>\n",
       "      <td>good</td>\n",
       "    </tr>\n",
       "    <tr>\n",
       "      <th>2022-05-04 19:39:00+00:00</th>\n",
       "      <td>696.6</td>\n",
       "      <td>26.5</td>\n",
       "      <td>44.7</td>\n",
       "      <td>1.0</td>\n",
       "      <td>1.0</td>\n",
       "      <td>good</td>\n",
       "    </tr>\n",
       "  </tbody>\n",
       "</table>\n",
       "<p>3468 rows × 6 columns</p>\n",
       "</div>"
      ],
      "text/plain": [
       "                           CIRCUITPY323d_PPM  CIRCUITPY323d_C  \\\n",
       "insert_time                                                     \n",
       "2022-04-15 14:30:00+00:00              679.4             26.5   \n",
       "2022-04-15 14:31:00+00:00              682.8             26.5   \n",
       "2022-04-15 14:32:00+00:00              655.9             26.5   \n",
       "2022-04-15 14:33:00+00:00              573.8             26.5   \n",
       "2022-04-15 14:34:00+00:00              508.1             26.5   \n",
       "...                                      ...              ...   \n",
       "2022-05-04 13:15:00+00:00              390.0             25.8   \n",
       "2022-05-04 13:16:00+00:00              387.3             25.8   \n",
       "2022-05-04 13:17:00+00:00              382.1             25.8   \n",
       "2022-05-04 19:23:00+00:00              653.8             26.5   \n",
       "2022-05-04 19:39:00+00:00              696.6             26.5   \n",
       "\n",
       "                           CIRCUITPY323d_%  CIRCUITPY825a_Window  \\\n",
       "insert_time                                                        \n",
       "2022-04-15 14:30:00+00:00             44.6                   1.0   \n",
       "2022-04-15 14:31:00+00:00             44.3                   1.0   \n",
       "2022-04-15 14:32:00+00:00             43.6                   1.0   \n",
       "2022-04-15 14:33:00+00:00             43.0                   1.0   \n",
       "2022-04-15 14:34:00+00:00             42.5                   1.0   \n",
       "...                                    ...                   ...   \n",
       "2022-05-04 13:15:00+00:00             39.2                   1.0   \n",
       "2022-05-04 13:16:00+00:00             38.6                   1.0   \n",
       "2022-05-04 13:17:00+00:00             37.7                   1.0   \n",
       "2022-05-04 19:23:00+00:00             44.1                   1.0   \n",
       "2022-05-04 19:39:00+00:00             44.7                   1.0   \n",
       "\n",
       "                           CIRCUITPYbec9_Person air_quality  \n",
       "insert_time                                                  \n",
       "2022-04-15 14:30:00+00:00                   0.0        good  \n",
       "2022-04-15 14:31:00+00:00                   0.0        good  \n",
       "2022-04-15 14:32:00+00:00                   0.0        good  \n",
       "2022-04-15 14:33:00+00:00                   0.0         top  \n",
       "2022-04-15 14:34:00+00:00                   0.0         top  \n",
       "...                                         ...         ...  \n",
       "2022-05-04 13:15:00+00:00                   0.0         top  \n",
       "2022-05-04 13:16:00+00:00                   0.0         top  \n",
       "2022-05-04 13:17:00+00:00                   0.0         top  \n",
       "2022-05-04 19:23:00+00:00                   1.0        good  \n",
       "2022-05-04 19:39:00+00:00                   1.0        good  \n",
       "\n",
       "[3468 rows x 6 columns]"
      ]
     },
     "execution_count": 74,
     "metadata": {},
     "output_type": "execute_result"
    }
   ],
   "source": [
    "#new dataframes window open and closed\n",
    "df_window_open = df_timewindow[df_timewindow[\"CIRCUITPY825a_Window\"]==1]\n",
    "df_window_closed = df_timewindow[df_timewindow[\"CIRCUITPY825a_Window\"]==0]\n",
    "df_window_open"
   ]
  },
  {
   "cell_type": "code",
   "execution_count": 75,
   "metadata": {
    "collapsed": false,
    "pycharm": {
     "name": "#%%\n"
    }
   },
   "outputs": [],
   "source": [
    "#Mean time window open\n",
    "index_closed = [0]\n",
    "t_diff_closed = []\n",
    "for i in range(len(df_timewindow)):\n",
    "    if (df_timewindow.iloc[i]['CIRCUITPY825a_Window'] == 1.0) and (index_closed[-1] < i):\n",
    "        index_closed.append(i)\n",
    "        t_diff_closed.append(df_timewindow.index[index_closed[-1]] - df_timewindow.index[index_closed[-2]])\n",
    "        next_zero_closed = index_closed[-1]\n",
    "        while df_timewindow.iloc[next_zero_closed]['CIRCUITPY825a_Window'] != 0:\n",
    "            next_zero_closed += 1\n",
    "        index_closed.append(next_zero_closed)"
   ]
  },
  {
   "cell_type": "code",
   "execution_count": 76,
   "metadata": {
    "collapsed": false,
    "pycharm": {
     "name": "#%%\n"
    }
   },
   "outputs": [],
   "source": [
    "index_open = []\n",
    "t_diff_open = []\n",
    "next_step = 0\n",
    "while df_timewindow.iloc[next_step]['CIRCUITPY825a_Window'] != 1:\n",
    "    next_step += 1\n",
    "index_open.append(next_step)\n",
    "\n",
    "for i in range(next_step, len(df_timewindow)):\n",
    "    if (df_timewindow.iloc[i]['CIRCUITPY825a_Window'] == 0.0) and (index_open[-1] < i):\n",
    "        index_open.append(i)\n",
    "        t_diff_open.append(df_timewindow.index[index_open[-1]] - df_timewindow.index[index_open[-2]])\n",
    "        next_zero_open = index_open[-1]\n",
    "        while (next_zero_open < (len(df_timewindow)-2)):\n",
    "            if df_timewindow.iloc[next_zero_open]['CIRCUITPY825a_Window'] == 1.0:\n",
    "                break\n",
    "            else:\n",
    "                next_zero_open += 1\n",
    "        index_open.append(next_zero_open)"
   ]
  },
  {
   "cell_type": "code",
   "execution_count": 77,
   "metadata": {
    "collapsed": false,
    "pycharm": {
     "name": "#%%\n"
    }
   },
   "outputs": [
    {
     "name": "stdout",
     "output_type": "stream",
     "text": [
      "0 days 00:17:36.548223350\n"
     ]
    }
   ],
   "source": [
    "#Mean time window open\n",
    "print(np.mean(t_diff_open))"
   ]
  },
  {
   "cell_type": "code",
   "execution_count": 78,
   "metadata": {
    "collapsed": false,
    "pycharm": {
     "name": "#%%\n"
    }
   },
   "outputs": [
    {
     "name": "stdout",
     "output_type": "stream",
     "text": [
      "0 days 02:04:14.693877551\n"
     ]
    }
   ],
   "source": [
    "#Mean time window closed\n",
    "print(np.mean(t_diff_closed))"
   ]
  },
  {
   "cell_type": "code",
   "execution_count": 79,
   "metadata": {
    "collapsed": false,
    "pycharm": {
     "name": "#%%\n"
    }
   },
   "outputs": [],
   "source": [
    "df_mean_ppm_window = pd.DataFrame({\"mean_ppm_window_open\":[df_timewindow.iloc[index_open[0]:index_open[1]]['CIRCUITPY323d_PPM'].mean()],\"mean_ppm_window_closed\":[df_timewindow.iloc[index_closed[0]:index_closed[1]]['CIRCUITPY323d_PPM'].mean()]})"
   ]
  },
  {
   "cell_type": "code",
   "execution_count": 80,
   "metadata": {
    "collapsed": false,
    "pycharm": {
     "name": "#%%\n"
    }
   },
   "outputs": [
    {
     "data": {
      "text/html": [
       "<div>\n",
       "<style scoped>\n",
       "    .dataframe tbody tr th:only-of-type {\n",
       "        vertical-align: middle;\n",
       "    }\n",
       "\n",
       "    .dataframe tbody tr th {\n",
       "        vertical-align: top;\n",
       "    }\n",
       "\n",
       "    .dataframe thead th {\n",
       "        text-align: right;\n",
       "    }\n",
       "</style>\n",
       "<table border=\"1\" class=\"dataframe\">\n",
       "  <thead>\n",
       "    <tr style=\"text-align: right;\">\n",
       "      <th></th>\n",
       "      <th>mean_ppm_window_open</th>\n",
       "      <th>mean_ppm_window_closed</th>\n",
       "    </tr>\n",
       "  </thead>\n",
       "  <tbody>\n",
       "    <tr>\n",
       "      <th>0</th>\n",
       "      <td>569.78</td>\n",
       "      <td>701.667687</td>\n",
       "    </tr>\n",
       "  </tbody>\n",
       "</table>\n",
       "</div>"
      ],
      "text/plain": [
       "   mean_ppm_window_open  mean_ppm_window_closed\n",
       "0                569.78              701.667687"
      ]
     },
     "execution_count": 80,
     "metadata": {},
     "output_type": "execute_result"
    }
   ],
   "source": [
    "df_mean_ppm_window"
   ]
  },
  {
   "cell_type": "code",
   "execution_count": 81,
   "metadata": {
    "collapsed": false,
    "pycharm": {
     "name": "#%%\n"
    }
   },
   "outputs": [
    {
     "data": {
      "text/plain": [
       "<Figure size 1440x360 with 0 Axes>"
      ]
     },
     "metadata": {},
     "output_type": "display_data"
    },
    {
     "data": {
      "image/png": "[encoded data removed]",
      "text/plain": [
       "<Figure size 432x288 with 1 Axes>"
      ]
     },
     "metadata": {
      "needs_background": "light"
     },
     "output_type": "display_data"
    }
   ],
   "source": [
    "#barplot of mean ppm values\n",
    "plt.figure(figsize=(20,5))\n",
    "df_mean_ppm_window.plot(kind='bar',color=['green','red'],grid=True,ylim=(400,800))\n",
    "plt.show()"
   ]
  },
  {
   "cell_type": "code",
   "execution_count": 82,
   "metadata": {
    "collapsed": false,
    "pycharm": {
     "name": "#%%\n"
    }
   },
   "outputs": [],
   "source": [
    "#Create new dataframe with time window open and change in ppm\n",
    "df_timewindow_open = pd.DataFrame({\"time_diff\": t_diff_open, \"ppm_diff\":0, \"ppm_per_min\":0, \"people_counter\":0})"
   ]
  },
  {
   "cell_type": "code",
   "execution_count": 83,
   "metadata": {
    "collapsed": false,
    "pycharm": {
     "name": "#%%\n"
    }
   },
   "outputs": [
    {
     "data": {
      "text/html": [
       "<div>\n",
       "<style scoped>\n",
       "    .dataframe tbody tr th:only-of-type {\n",
       "        vertical-align: middle;\n",
       "    }\n",
       "\n",
       "    .dataframe tbody tr th {\n",
       "        vertical-align: top;\n",
       "    }\n",
       "\n",
       "    .dataframe thead th {\n",
       "        text-align: right;\n",
       "    }\n",
       "</style>\n",
       "<table border=\"1\" class=\"dataframe\">\n",
       "  <thead>\n",
       "    <tr style=\"text-align: right;\">\n",
       "      <th></th>\n",
       "      <th>time_diff</th>\n",
       "      <th>ppm_diff</th>\n",
       "      <th>ppm_per_min</th>\n",
       "      <th>people_counter</th>\n",
       "    </tr>\n",
       "  </thead>\n",
       "  <tbody>\n",
       "    <tr>\n",
       "      <th>0</th>\n",
       "      <td>0 days 00:10:00</td>\n",
       "      <td>0</td>\n",
       "      <td>0</td>\n",
       "      <td>0</td>\n",
       "    </tr>\n",
       "    <tr>\n",
       "      <th>1</th>\n",
       "      <td>0 days 00:01:00</td>\n",
       "      <td>0</td>\n",
       "      <td>0</td>\n",
       "      <td>0</td>\n",
       "    </tr>\n",
       "    <tr>\n",
       "      <th>2</th>\n",
       "      <td>0 days 00:01:00</td>\n",
       "      <td>0</td>\n",
       "      <td>0</td>\n",
       "      <td>0</td>\n",
       "    </tr>\n",
       "    <tr>\n",
       "      <th>3</th>\n",
       "      <td>0 days 00:01:00</td>\n",
       "      <td>0</td>\n",
       "      <td>0</td>\n",
       "      <td>0</td>\n",
       "    </tr>\n",
       "    <tr>\n",
       "      <th>4</th>\n",
       "      <td>0 days 00:29:00</td>\n",
       "      <td>0</td>\n",
       "      <td>0</td>\n",
       "      <td>0</td>\n",
       "    </tr>\n",
       "    <tr>\n",
       "      <th>...</th>\n",
       "      <td>...</td>\n",
       "      <td>...</td>\n",
       "      <td>...</td>\n",
       "      <td>...</td>\n",
       "    </tr>\n",
       "    <tr>\n",
       "      <th>192</th>\n",
       "      <td>0 days 00:25:00</td>\n",
       "      <td>0</td>\n",
       "      <td>0</td>\n",
       "      <td>0</td>\n",
       "    </tr>\n",
       "    <tr>\n",
       "      <th>193</th>\n",
       "      <td>0 days 00:03:00</td>\n",
       "      <td>0</td>\n",
       "      <td>0</td>\n",
       "      <td>0</td>\n",
       "    </tr>\n",
       "    <tr>\n",
       "      <th>194</th>\n",
       "      <td>0 days 00:01:00</td>\n",
       "      <td>0</td>\n",
       "      <td>0</td>\n",
       "      <td>0</td>\n",
       "    </tr>\n",
       "    <tr>\n",
       "      <th>195</th>\n",
       "      <td>0 days 00:01:00</td>\n",
       "      <td>0</td>\n",
       "      <td>0</td>\n",
       "      <td>0</td>\n",
       "    </tr>\n",
       "    <tr>\n",
       "      <th>196</th>\n",
       "      <td>0 days 00:01:00</td>\n",
       "      <td>0</td>\n",
       "      <td>0</td>\n",
       "      <td>0</td>\n",
       "    </tr>\n",
       "  </tbody>\n",
       "</table>\n",
       "<p>197 rows × 4 columns</p>\n",
       "</div>"
      ],
      "text/plain": [
       "          time_diff  ppm_diff  ppm_per_min  people_counter\n",
       "0   0 days 00:10:00         0            0               0\n",
       "1   0 days 00:01:00         0            0               0\n",
       "2   0 days 00:01:00         0            0               0\n",
       "3   0 days 00:01:00         0            0               0\n",
       "4   0 days 00:29:00         0            0               0\n",
       "..              ...       ...          ...             ...\n",
       "192 0 days 00:25:00         0            0               0\n",
       "193 0 days 00:03:00         0            0               0\n",
       "194 0 days 00:01:00         0            0               0\n",
       "195 0 days 00:01:00         0            0               0\n",
       "196 0 days 00:01:00         0            0               0\n",
       "\n",
       "[197 rows x 4 columns]"
      ]
     },
     "execution_count": 83,
     "metadata": {},
     "output_type": "execute_result"
    }
   ],
   "source": [
    "df_timewindow_open"
   ]
  },
  {
   "cell_type": "code",
   "execution_count": 84,
   "metadata": {
    "collapsed": false,
    "pycharm": {
     "name": "#%%\n"
    }
   },
   "outputs": [
    {
     "name": "stderr",
     "output_type": "stream",
     "text": [
      "/var/folders/v2/51sbk7ln57325w479zxv0dqc0000gn/T/ipykernel_42635/1108542509.py:3: SettingWithCopyWarning: \n",
      "A value is trying to be set on a copy of a slice from a DataFrame\n",
      "\n",
      "See the caveats in the documentation: https://pandas.pydata.org/pandas-docs/stable/user_guide/indexing.html#returning-a-view-versus-a-copy\n",
      "  df_timewindow_open[\"ppm_diff\"][count] = df_timewindow[\"CIRCUITPY323d_PPM\"][index_open[i+1]] - df_timewindow[\"CIRCUITPY323d_PPM\"][index_open[i]]\n",
      "/var/folders/v2/51sbk7ln57325w479zxv0dqc0000gn/T/ipykernel_42635/1108542509.py:4: SettingWithCopyWarning: \n",
      "A value is trying to be set on a copy of a slice from a DataFrame\n",
      "\n",
      "See the caveats in the documentation: https://pandas.pydata.org/pandas-docs/stable/user_guide/indexing.html#returning-a-view-versus-a-copy\n",
      "  df_timewindow_open[\"people_counter\"][count] = (df_timewindow[\"CIRCUITPYbec9_Person\"][index_open[i+1]] + df_timewindow[\"CIRCUITPYbec9_Person\"][index_open[i]])//2\n",
      "/Library/Frameworks/Python.framework/Versions/3.9/lib/python3.9/site-packages/pandas/core/indexing.py:1732: SettingWithCopyWarning: \n",
      "A value is trying to be set on a copy of a slice from a DataFrame\n",
      "\n",
      "See the caveats in the documentation: https://pandas.pydata.org/pandas-docs/stable/user_guide/indexing.html#returning-a-view-versus-a-copy\n",
      "  self._setitem_single_block(indexer, value, name)\n"
     ]
    }
   ],
   "source": [
    "count = 0\n",
    "for i in range(0,(len(index_open)-1),2):\n",
    "    df_timewindow_open[\"ppm_diff\"][count] = df_timewindow[\"CIRCUITPY323d_PPM\"][index_open[i+1]] - df_timewindow[\"CIRCUITPY323d_PPM\"][index_open[i]]\n",
    "    df_timewindow_open[\"people_counter\"][count] = (df_timewindow[\"CIRCUITPYbec9_Person\"][index_open[i+1]] + df_timewindow[\"CIRCUITPYbec9_Person\"][index_open[i]])//2\n",
    "    count += 1"
   ]
  },
  {
   "cell_type": "code",
   "execution_count": 85,
   "metadata": {
    "collapsed": false,
    "pycharm": {
     "name": "#%%\n"
    }
   },
   "outputs": [
    {
     "name": "stderr",
     "output_type": "stream",
     "text": [
      "/var/folders/v2/51sbk7ln57325w479zxv0dqc0000gn/T/ipykernel_42635/2856896265.py:3: SettingWithCopyWarning: \n",
      "A value is trying to be set on a copy of a slice from a DataFrame\n",
      "\n",
      "See the caveats in the documentation: https://pandas.pydata.org/pandas-docs/stable/user_guide/indexing.html#returning-a-view-versus-a-copy\n",
      "  df_timewindow_open[\"ppm_per_min\"][i] = df_timewindow_open[\"ppm_diff\"][i]/(df_timewindow_open[\"time_diff\"][i].seconds/60)\n"
     ]
    }
   ],
   "source": [
    "#fill ppm_per_min with ppm_diff/time_diff\n",
    "for i in range(len(df_timewindow_open)):\n",
    "    df_timewindow_open[\"ppm_per_min\"][i] = df_timewindow_open[\"ppm_diff\"][i]/(df_timewindow_open[\"time_diff\"][i].seconds/60)"
   ]
  },
  {
   "cell_type": "code",
   "execution_count": 86,
   "metadata": {
    "collapsed": false,
    "pycharm": {
     "name": "#%%\n"
    }
   },
   "outputs": [],
   "source": [
    "df_timewindow_open.dropna(inplace=True)"
   ]
  },
  {
   "cell_type": "code",
   "execution_count": 87,
   "metadata": {
    "collapsed": false,
    "pycharm": {
     "name": "#%%\n"
    }
   },
   "outputs": [],
   "source": [
    "df_timewindow_open = df_timewindow_open[df_timewindow_open[\"time_diff\"] > pd.Timedelta(minutes=1)]"
   ]
  },
  {
   "cell_type": "code",
   "execution_count": 88,
   "metadata": {
    "collapsed": false,
    "pycharm": {
     "name": "#%%\n"
    }
   },
   "outputs": [
    {
     "data": {
      "text/html": [
       "<div>\n",
       "<style scoped>\n",
       "    .dataframe tbody tr th:only-of-type {\n",
       "        vertical-align: middle;\n",
       "    }\n",
       "\n",
       "    .dataframe tbody tr th {\n",
       "        vertical-align: top;\n",
       "    }\n",
       "\n",
       "    .dataframe thead th {\n",
       "        text-align: right;\n",
       "    }\n",
       "</style>\n",
       "<table border=\"1\" class=\"dataframe\">\n",
       "  <thead>\n",
       "    <tr style=\"text-align: right;\">\n",
       "      <th></th>\n",
       "      <th>time_diff</th>\n",
       "      <th>ppm_diff</th>\n",
       "      <th>ppm_per_min</th>\n",
       "      <th>people_counter</th>\n",
       "    </tr>\n",
       "  </thead>\n",
       "  <tbody>\n",
       "    <tr>\n",
       "      <th>0</th>\n",
       "      <td>0 days 00:10:00</td>\n",
       "      <td>-168.0</td>\n",
       "      <td>-16.000000</td>\n",
       "      <td>0</td>\n",
       "    </tr>\n",
       "    <tr>\n",
       "      <th>4</th>\n",
       "      <td>0 days 00:29:00</td>\n",
       "      <td>-411.9</td>\n",
       "      <td>-14.203448</td>\n",
       "      <td>1</td>\n",
       "    </tr>\n",
       "    <tr>\n",
       "      <th>6</th>\n",
       "      <td>0 days 00:03:00</td>\n",
       "      <td>-118.2</td>\n",
       "      <td>-39.400000</td>\n",
       "      <td>0</td>\n",
       "    </tr>\n",
       "    <tr>\n",
       "      <th>8</th>\n",
       "      <td>0 days 00:07:00</td>\n",
       "      <td>-268.1</td>\n",
       "      <td>-38.300000</td>\n",
       "      <td>0</td>\n",
       "    </tr>\n",
       "    <tr>\n",
       "      <th>9</th>\n",
       "      <td>0 days 00:06:00</td>\n",
       "      <td>-161.6</td>\n",
       "      <td>-26.933333</td>\n",
       "      <td>0</td>\n",
       "    </tr>\n",
       "    <tr>\n",
       "      <th>...</th>\n",
       "      <td>...</td>\n",
       "      <td>...</td>\n",
       "      <td>...</td>\n",
       "      <td>...</td>\n",
       "    </tr>\n",
       "    <tr>\n",
       "      <th>189</th>\n",
       "      <td>0 days 00:10:00</td>\n",
       "      <td>-324.6</td>\n",
       "      <td>-32.460000</td>\n",
       "      <td>0</td>\n",
       "    </tr>\n",
       "    <tr>\n",
       "      <th>190</th>\n",
       "      <td>0 days 00:05:00</td>\n",
       "      <td>-234.2</td>\n",
       "      <td>-46.840000</td>\n",
       "      <td>0</td>\n",
       "    </tr>\n",
       "    <tr>\n",
       "      <th>191</th>\n",
       "      <td>0 days 00:04:00</td>\n",
       "      <td>-117.1</td>\n",
       "      <td>-29.275000</td>\n",
       "      <td>0</td>\n",
       "    </tr>\n",
       "    <tr>\n",
       "      <th>192</th>\n",
       "      <td>0 days 00:25:00</td>\n",
       "      <td>-172.3</td>\n",
       "      <td>-6.892000</td>\n",
       "      <td>0</td>\n",
       "    </tr>\n",
       "    <tr>\n",
       "      <th>193</th>\n",
       "      <td>0 days 00:03:00</td>\n",
       "      <td>-11.6</td>\n",
       "      <td>-3.866667</td>\n",
       "      <td>0</td>\n",
       "    </tr>\n",
       "  </tbody>\n",
       "</table>\n",
       "<p>99 rows × 4 columns</p>\n",
       "</div>"
      ],
      "text/plain": [
       "          time_diff  ppm_diff  ppm_per_min  people_counter\n",
       "0   0 days 00:10:00    -168.0   -16.000000               0\n",
       "4   0 days 00:29:00    -411.9   -14.203448               1\n",
       "6   0 days 00:03:00    -118.2   -39.400000               0\n",
       "8   0 days 00:07:00    -268.1   -38.300000               0\n",
       "9   0 days 00:06:00    -161.6   -26.933333               0\n",
       "..              ...       ...          ...             ...\n",
       "189 0 days 00:10:00    -324.6   -32.460000               0\n",
       "190 0 days 00:05:00    -234.2   -46.840000               0\n",
       "191 0 days 00:04:00    -117.1   -29.275000               0\n",
       "192 0 days 00:25:00    -172.3    -6.892000               0\n",
       "193 0 days 00:03:00     -11.6    -3.866667               0\n",
       "\n",
       "[99 rows x 4 columns]"
      ]
     },
     "execution_count": 88,
     "metadata": {},
     "output_type": "execute_result"
    }
   ],
   "source": [
    "df_timewindow_open"
   ]
  },
  {
   "cell_type": "code",
   "execution_count": 89,
   "metadata": {
    "collapsed": false,
    "pycharm": {
     "name": "#%%\n"
    }
   },
   "outputs": [
    {
     "data": {
      "text/plain": [
       "-25.167263436661898"
      ]
     },
     "execution_count": 89,
     "metadata": {},
     "output_type": "execute_result"
    }
   ],
   "source": [
    "df_timewindow_open[\"ppm_per_min\"].mean()"
   ]
  },
  {
   "cell_type": "code",
   "execution_count": 90,
   "metadata": {
    "collapsed": false,
    "pycharm": {
     "name": "#%%\n"
    }
   },
   "outputs": [
    {
     "data": {
      "text/plain": [
       "Timedelta('0 days 00:29:50.303030303')"
      ]
     },
     "execution_count": 90,
     "metadata": {},
     "output_type": "execute_result"
    }
   ],
   "source": [
    "df_timewindow_open[\"time_diff\"].mean()"
   ]
  },
  {
   "cell_type": "code",
   "execution_count": 91,
   "metadata": {
    "collapsed": false,
    "pycharm": {
     "name": "#%%\n"
    }
   },
   "outputs": [
    {
     "data": {
      "text/plain": [
       "<AxesSubplot:xlabel='people_counter', ylabel='ppm_diff'>"
      ]
     },
     "execution_count": 91,
     "metadata": {},
     "output_type": "execute_result"
    },
    {
     "data": {
      "image/png": "[encoded data removed]",
      "text/plain": [
       "<Figure size 432x288 with 1 Axes>"
      ]
     },
     "metadata": {
      "needs_background": "light"
     },
     "output_type": "display_data"
    }
   ],
   "source": [
    "sns.barplot(x=df_timewindow_open[\"people_counter\"], y=df_timewindow_open[\"ppm_diff\"])"
   ]
  },
  {
   "cell_type": "code",
   "execution_count": 93,
   "metadata": {
    "collapsed": false,
    "pycharm": {
     "name": "#%%\n"
    }
   },
   "outputs": [],
   "source": [
    "#Create new dataframe with time window closed and change in ppm\n",
    "df_timewindow_closed = pd.DataFrame({\"time_diff\": t_diff_closed, \"ppm_diff\":0, \"ppm_per_min\":0, \"people_counter\":0})"
   ]
  },
  {
   "cell_type": "code",
   "execution_count": 94,
   "metadata": {
    "collapsed": false,
    "pycharm": {
     "name": "#%%\n"
    }
   },
   "outputs": [
    {
     "name": "stderr",
     "output_type": "stream",
     "text": [
      "/var/folders/v2/51sbk7ln57325w479zxv0dqc0000gn/T/ipykernel_42635/3380125426.py:3: SettingWithCopyWarning: \n",
      "A value is trying to be set on a copy of a slice from a DataFrame\n",
      "\n",
      "See the caveats in the documentation: https://pandas.pydata.org/pandas-docs/stable/user_guide/indexing.html#returning-a-view-versus-a-copy\n",
      "  df_timewindow_closed[\"ppm_diff\"][count] = df_timewindow[\"CIRCUITPY323d_PPM\"][index_closed[i+1]] - df_timewindow[\"CIRCUITPY323d_PPM\"][index_closed[i]]\n",
      "/var/folders/v2/51sbk7ln57325w479zxv0dqc0000gn/T/ipykernel_42635/3380125426.py:4: SettingWithCopyWarning: \n",
      "A value is trying to be set on a copy of a slice from a DataFrame\n",
      "\n",
      "See the caveats in the documentation: https://pandas.pydata.org/pandas-docs/stable/user_guide/indexing.html#returning-a-view-versus-a-copy\n",
      "  df_timewindow_closed[\"people_counter\"][count] = (df_timewindow[\"CIRCUITPYbec9_Person\"][index_closed[i+1]] + df_timewindow[\"CIRCUITPYbec9_Person\"][index_closed[i]])//2\n",
      "/Library/Frameworks/Python.framework/Versions/3.9/lib/python3.9/site-packages/pandas/core/indexing.py:1732: SettingWithCopyWarning: \n",
      "A value is trying to be set on a copy of a slice from a DataFrame\n",
      "\n",
      "See the caveats in the documentation: https://pandas.pydata.org/pandas-docs/stable/user_guide/indexing.html#returning-a-view-versus-a-copy\n",
      "  self._setitem_single_block(indexer, value, name)\n"
     ]
    }
   ],
   "source": [
    "count = 0\n",
    "for i in range(0,(len(index_closed)-1),2):\n",
    "    df_timewindow_closed[\"ppm_diff\"][count] = df_timewindow[\"CIRCUITPY323d_PPM\"][index_closed[i+1]] - df_timewindow[\"CIRCUITPY323d_PPM\"][index_closed[i]]\n",
    "    df_timewindow_closed[\"people_counter\"][count] = (df_timewindow[\"CIRCUITPYbec9_Person\"][index_closed[i+1]] + df_timewindow[\"CIRCUITPYbec9_Person\"][index_closed[i]])//2\n",
    "    count += 1"
   ]
  },
  {
   "cell_type": "code",
   "execution_count": 95,
   "metadata": {
    "collapsed": false,
    "pycharm": {
     "name": "#%%\n"
    }
   },
   "outputs": [
    {
     "name": "stderr",
     "output_type": "stream",
     "text": [
      "/var/folders/v2/51sbk7ln57325w479zxv0dqc0000gn/T/ipykernel_42635/2486988627.py:3: SettingWithCopyWarning: \n",
      "A value is trying to be set on a copy of a slice from a DataFrame\n",
      "\n",
      "See the caveats in the documentation: https://pandas.pydata.org/pandas-docs/stable/user_guide/indexing.html#returning-a-view-versus-a-copy\n",
      "  df_timewindow_closed[\"ppm_per_min\"][i] = df_timewindow_closed[\"ppm_diff\"][i]/(df_timewindow_closed[\"time_diff\"][i].seconds/60)\n"
     ]
    }
   ],
   "source": [
    "#fill ppm_per_min with ppm_diff/time_diff\n",
    "for i in range(len(df_timewindow_closed)):\n",
    "    df_timewindow_closed[\"ppm_per_min\"][i] = df_timewindow_closed[\"ppm_diff\"][i]/(df_timewindow_closed[\"time_diff\"][i].seconds/60)"
   ]
  },
  {
   "cell_type": "code",
   "execution_count": 96,
   "metadata": {
    "collapsed": false,
    "pycharm": {
     "name": "#%%\n"
    }
   },
   "outputs": [],
   "source": [
    "df_timewindow_closed.dropna(inplace=True)"
   ]
  },
  {
   "cell_type": "code",
   "execution_count": 97,
   "metadata": {
    "collapsed": false,
    "pycharm": {
     "name": "#%%\n"
    }
   },
   "outputs": [],
   "source": [
    "df_timewindow_closed = df_timewindow_closed[df_timewindow_closed[\"time_diff\"] > pd.Timedelta(minutes=1)]\n",
    "df_timewindow_closed = df_timewindow_closed[df_timewindow_closed[\"ppm_diff\"] > 0 ]"
   ]
  },
  {
   "cell_type": "code",
   "execution_count": 98,
   "metadata": {
    "collapsed": false,
    "pycharm": {
     "name": "#%%\n"
    }
   },
   "outputs": [
    {
     "data": {
      "text/html": [
       "<div>\n",
       "<style scoped>\n",
       "    .dataframe tbody tr th:only-of-type {\n",
       "        vertical-align: middle;\n",
       "    }\n",
       "\n",
       "    .dataframe tbody tr th {\n",
       "        vertical-align: top;\n",
       "    }\n",
       "\n",
       "    .dataframe thead th {\n",
       "        text-align: right;\n",
       "    }\n",
       "</style>\n",
       "<table border=\"1\" class=\"dataframe\">\n",
       "  <thead>\n",
       "    <tr style=\"text-align: right;\">\n",
       "      <th></th>\n",
       "      <th>time_diff</th>\n",
       "      <th>ppm_diff</th>\n",
       "      <th>ppm_per_min</th>\n",
       "      <th>people_counter</th>\n",
       "    </tr>\n",
       "  </thead>\n",
       "  <tbody>\n",
       "    <tr>\n",
       "      <th>0</th>\n",
       "      <td>0 days 02:30:00</td>\n",
       "      <td>6.0</td>\n",
       "      <td>0.000000</td>\n",
       "      <td>0</td>\n",
       "    </tr>\n",
       "    <tr>\n",
       "      <th>1</th>\n",
       "      <td>0 days 00:13:00</td>\n",
       "      <td>92.0</td>\n",
       "      <td>7.000000</td>\n",
       "      <td>0</td>\n",
       "    </tr>\n",
       "    <tr>\n",
       "      <th>3</th>\n",
       "      <td>0 days 00:09:00</td>\n",
       "      <td>11.6</td>\n",
       "      <td>1.288889</td>\n",
       "      <td>1</td>\n",
       "    </tr>\n",
       "    <tr>\n",
       "      <th>4</th>\n",
       "      <td>0 days 00:33:00</td>\n",
       "      <td>8.6</td>\n",
       "      <td>0.260606</td>\n",
       "      <td>1</td>\n",
       "    </tr>\n",
       "    <tr>\n",
       "      <th>5</th>\n",
       "      <td>0 days 00:13:00</td>\n",
       "      <td>359.2</td>\n",
       "      <td>27.630769</td>\n",
       "      <td>2</td>\n",
       "    </tr>\n",
       "    <tr>\n",
       "      <th>...</th>\n",
       "      <td>...</td>\n",
       "      <td>...</td>\n",
       "      <td>...</td>\n",
       "      <td>...</td>\n",
       "    </tr>\n",
       "    <tr>\n",
       "      <th>186</th>\n",
       "      <td>0 days 09:57:00</td>\n",
       "      <td>283.4</td>\n",
       "      <td>0.474707</td>\n",
       "      <td>0</td>\n",
       "    </tr>\n",
       "    <tr>\n",
       "      <th>190</th>\n",
       "      <td>0 days 01:11:00</td>\n",
       "      <td>250.4</td>\n",
       "      <td>3.526761</td>\n",
       "      <td>0</td>\n",
       "    </tr>\n",
       "    <tr>\n",
       "      <th>191</th>\n",
       "      <td>0 days 01:14:00</td>\n",
       "      <td>302.7</td>\n",
       "      <td>4.090541</td>\n",
       "      <td>0</td>\n",
       "    </tr>\n",
       "    <tr>\n",
       "      <th>194</th>\n",
       "      <td>0 days 06:05:00</td>\n",
       "      <td>275.4</td>\n",
       "      <td>0.754521</td>\n",
       "      <td>1</td>\n",
       "    </tr>\n",
       "    <tr>\n",
       "      <th>195</th>\n",
       "      <td>0 days 00:15:00</td>\n",
       "      <td>38.5</td>\n",
       "      <td>2.566667</td>\n",
       "      <td>1</td>\n",
       "    </tr>\n",
       "  </tbody>\n",
       "</table>\n",
       "<p>121 rows × 4 columns</p>\n",
       "</div>"
      ],
      "text/plain": [
       "          time_diff  ppm_diff  ppm_per_min  people_counter\n",
       "0   0 days 02:30:00       6.0     0.000000               0\n",
       "1   0 days 00:13:00      92.0     7.000000               0\n",
       "3   0 days 00:09:00      11.6     1.288889               1\n",
       "4   0 days 00:33:00       8.6     0.260606               1\n",
       "5   0 days 00:13:00     359.2    27.630769               2\n",
       "..              ...       ...          ...             ...\n",
       "186 0 days 09:57:00     283.4     0.474707               0\n",
       "190 0 days 01:11:00     250.4     3.526761               0\n",
       "191 0 days 01:14:00     302.7     4.090541               0\n",
       "194 0 days 06:05:00     275.4     0.754521               1\n",
       "195 0 days 00:15:00      38.5     2.566667               1\n",
       "\n",
       "[121 rows x 4 columns]"
      ]
     },
     "execution_count": 98,
     "metadata": {},
     "output_type": "execute_result"
    }
   ],
   "source": [
    "df_timewindow_closed"
   ]
  },
  {
   "cell_type": "code",
   "execution_count": 99,
   "metadata": {
    "collapsed": false,
    "pycharm": {
     "name": "#%%\n"
    }
   },
   "outputs": [
    {
     "data": {
      "text/plain": [
       "5.234750392537529"
      ]
     },
     "execution_count": 99,
     "metadata": {},
     "output_type": "execute_result"
    }
   ],
   "source": [
    "df_timewindow_closed[\"ppm_per_min\"].mean()"
   ]
  },
  {
   "cell_type": "code",
   "execution_count": 100,
   "metadata": {
    "collapsed": false,
    "pycharm": {
     "name": "#%%\n"
    }
   },
   "outputs": [
    {
     "data": {
      "text/plain": [
       "Timedelta('0 days 02:22:11.900826446')"
      ]
     },
     "execution_count": 100,
     "metadata": {},
     "output_type": "execute_result"
    }
   ],
   "source": [
    "df_timewindow_closed[\"time_diff\"].mean()"
   ]
  },
  {
   "cell_type": "code",
   "execution_count": 101,
   "metadata": {
    "collapsed": false,
    "pycharm": {
     "name": "#%%\n"
    }
   },
   "outputs": [],
   "source": [
    "df_lueften_daten = pd.DataFrame(columns = [\"ppm_wert\", \"zeit_diff\"])"
   ]
  },
  {
   "cell_type": "code",
   "execution_count": 102,
   "metadata": {
    "collapsed": false,
    "pycharm": {
     "name": "#%%\n"
    }
   },
   "outputs": [
    {
     "data": {
      "text/html": [
       "<div>\n",
       "<style scoped>\n",
       "    .dataframe tbody tr th:only-of-type {\n",
       "        vertical-align: middle;\n",
       "    }\n",
       "\n",
       "    .dataframe tbody tr th {\n",
       "        vertical-align: top;\n",
       "    }\n",
       "\n",
       "    .dataframe thead th {\n",
       "        text-align: right;\n",
       "    }\n",
       "</style>\n",
       "<table border=\"1\" class=\"dataframe\">\n",
       "  <thead>\n",
       "    <tr style=\"text-align: right;\">\n",
       "      <th></th>\n",
       "      <th>ppm_wert</th>\n",
       "      <th>zeit_diff</th>\n",
       "    </tr>\n",
       "  </thead>\n",
       "  <tbody>\n",
       "  </tbody>\n",
       "</table>\n",
       "</div>"
      ],
      "text/plain": [
       "Empty DataFrame\n",
       "Columns: [ppm_wert, zeit_diff]\n",
       "Index: []"
      ]
     },
     "execution_count": 102,
     "metadata": {},
     "output_type": "execute_result"
    }
   ],
   "source": [
    "df_lueften_daten"
   ]
  },
  {
   "cell_type": "code",
   "execution_count": 103,
   "metadata": {
    "collapsed": false,
    "pycharm": {
     "name": "#%%\n"
    }
   },
   "outputs": [],
   "source": [
    "summe_ppm = 600\n",
    "time_delta = 0\n",
    "index = 0\n",
    "while summe_ppm < 1000:\n",
    "    df_lueften_daten = df_lueften_daten.append({\"ppm_wert\": summe_ppm}, ignore_index=True)\n",
    "    df_lueften_daten[\"zeit_diff\"][index] = time_delta\n",
    "    time_delta += 1\n",
    "    summe_ppm += df_timewindow_closed[\"ppm_per_min\"].mean()\n",
    "    index += 1\n",
    "while summe_ppm > 600:\n",
    "    df_lueften_daten = df_lueften_daten.append({\"ppm_wert\": summe_ppm}, ignore_index=True)\n",
    "    df_lueften_daten[\"zeit_diff\"][index] = time_delta\n",
    "    time_delta += 1\n",
    "    summe_ppm -= df_timewindow_closed[\"ppm_per_min\"].mean()\n",
    "    index += 1"
   ]
  },
  {
   "cell_type": "code",
   "execution_count": 104,
   "metadata": {
    "collapsed": false,
    "pycharm": {
     "name": "#%%\n"
    }
   },
   "outputs": [
    {
     "data": {
      "text/html": [
       "<div>\n",
       "<style scoped>\n",
       "    .dataframe tbody tr th:only-of-type {\n",
       "        vertical-align: middle;\n",
       "    }\n",
       "\n",
       "    .dataframe tbody tr th {\n",
       "        vertical-align: top;\n",
       "    }\n",
       "\n",
       "    .dataframe thead th {\n",
       "        text-align: right;\n",
       "    }\n",
       "</style>\n",
       "<table border=\"1\" class=\"dataframe\">\n",
       "  <thead>\n",
       "    <tr style=\"text-align: right;\">\n",
       "      <th></th>\n",
       "      <th>ppm_wert</th>\n",
       "      <th>zeit_diff</th>\n",
       "    </tr>\n",
       "  </thead>\n",
       "  <tbody>\n",
       "    <tr>\n",
       "      <th>0</th>\n",
       "      <td>600.000000</td>\n",
       "      <td>0.0</td>\n",
       "    </tr>\n",
       "    <tr>\n",
       "      <th>1</th>\n",
       "      <td>605.234750</td>\n",
       "      <td>1.0</td>\n",
       "    </tr>\n",
       "    <tr>\n",
       "      <th>2</th>\n",
       "      <td>610.469501</td>\n",
       "      <td>2.0</td>\n",
       "    </tr>\n",
       "    <tr>\n",
       "      <th>3</th>\n",
       "      <td>615.704251</td>\n",
       "      <td>3.0</td>\n",
       "    </tr>\n",
       "    <tr>\n",
       "      <th>4</th>\n",
       "      <td>620.939002</td>\n",
       "      <td>4.0</td>\n",
       "    </tr>\n",
       "    <tr>\n",
       "      <th>...</th>\n",
       "      <td>...</td>\n",
       "      <td>...</td>\n",
       "    </tr>\n",
       "    <tr>\n",
       "      <th>149</th>\n",
       "      <td>626.173752</td>\n",
       "      <td>149.0</td>\n",
       "    </tr>\n",
       "    <tr>\n",
       "      <th>150</th>\n",
       "      <td>620.939002</td>\n",
       "      <td>150.0</td>\n",
       "    </tr>\n",
       "    <tr>\n",
       "      <th>151</th>\n",
       "      <td>615.704251</td>\n",
       "      <td>151.0</td>\n",
       "    </tr>\n",
       "    <tr>\n",
       "      <th>152</th>\n",
       "      <td>610.469501</td>\n",
       "      <td>152.0</td>\n",
       "    </tr>\n",
       "    <tr>\n",
       "      <th>153</th>\n",
       "      <td>605.234750</td>\n",
       "      <td>153.0</td>\n",
       "    </tr>\n",
       "  </tbody>\n",
       "</table>\n",
       "<p>154 rows × 2 columns</p>\n",
       "</div>"
      ],
      "text/plain": [
       "       ppm_wert  zeit_diff\n",
       "0    600.000000        0.0\n",
       "1    605.234750        1.0\n",
       "2    610.469501        2.0\n",
       "3    615.704251        3.0\n",
       "4    620.939002        4.0\n",
       "..          ...        ...\n",
       "149  626.173752      149.0\n",
       "150  620.939002      150.0\n",
       "151  615.704251      151.0\n",
       "152  610.469501      152.0\n",
       "153  605.234750      153.0\n",
       "\n",
       "[154 rows x 2 columns]"
      ]
     },
     "execution_count": 104,
     "metadata": {},
     "output_type": "execute_result"
    }
   ],
   "source": [
    "df_lueften_daten"
   ]
  },
  {
   "cell_type": "code",
   "execution_count": 105,
   "metadata": {
    "collapsed": false,
    "pycharm": {
     "name": "#%%\n"
    }
   },
   "outputs": [
    {
     "data": {
      "text/plain": [
       "<AxesSubplot:xlabel='zeit_diff', ylabel='ppm_wert'>"
      ]
     },
     "execution_count": 105,
     "metadata": {},
     "output_type": "execute_result"
    },
    {
     "data": {
      "image/png": "[encoded data removed]",
      "text/plain": [
       "<Figure size 1440x720 with 1 Axes>"
      ]
     },
     "metadata": {
      "needs_background": "light"
     },
     "output_type": "display_data"
    }
   ],
   "source": [
    "#plot ppm_wert vs zeit_diff\n",
    "plt.figure(figsize=(20,10))\n",
    "sns.lineplot(x=\"zeit_diff\", y=\"ppm_wert\", data=df_lueften_daten)"
   ]
  }
 ],
 "metadata": {
  "interpreter": {
   "hash": "949777d72b0d2535278d3dc13498b2535136f6dfe0678499012e853ee9abcab1"
  },
  "kernelspec": {
   "display_name": "Python 3.9.7 64-bit",
   "language": "python",
   "name": "python3"
  },
  "language_info": {
   "codemirror_mode": {
    "name": "ipython",
    "version": 3
   },
   "file_extension": ".py",
   "mimetype": "text/x-python",
   "name": "python",
   "nbconvert_exporter": "python",
   "pygments_lexer": "ipython3",
   "version": "3.9.7"
  },
  "orig_nbformat": 4
 },
 "nbformat": 4,
 "nbformat_minor": 2
}
