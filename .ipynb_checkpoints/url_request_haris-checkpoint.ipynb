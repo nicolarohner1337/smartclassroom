{
 "cells": [
  {
   "cell_type": "code",
   "execution_count": 1,
   "metadata": {},
   "outputs": [
    {
     "name": "stdout",
     "output_type": "stream",
     "text": [
      "dict_keys(['items', 'hasMore', 'limit', 'offset', 'count', 'links'])\n"
     ]
    }
   ],
   "source": [
    "import requests\n",
    "import pandas as pd\n",
    "\n",
    "url = 'https://glusfqycvwrucp9-db202202211424.adb.eu-zurich-1.oraclecloudapps.com/ords/sensor_datalake1/sens/insert/'\n",
    "\n",
    "response_ = requests.get(url)\n",
    "response_ = response_.json()\n",
    "print(response_.keys())"
   ]
  },
  {
   "cell_type": "code",
   "execution_count": 2,
   "metadata": {},
   "outputs": [
    {
     "data": {
      "text/plain": [
       "True"
      ]
     },
     "execution_count": 2,
     "metadata": {},
     "output_type": "execute_result"
    }
   ],
   "source": [
    "response_['hasMore']"
   ]
  },
  {
   "cell_type": "code",
   "execution_count": 3,
   "metadata": {},
   "outputs": [
    {
     "data": {
      "text/plain": [
       "[{'rel': 'self',\n",
       "  'href': 'https://glusfqycvwrucp9-db202202211424.adb.eu-zurich-1.oraclecloudapps.com/ords/sensor_datalake1/sens/insert/'},\n",
       " {'rel': 'edit',\n",
       "  'href': 'https://glusfqycvwrucp9-db202202211424.adb.eu-zurich-1.oraclecloudapps.com/ords/sensor_datalake1/sens/insert/'},\n",
       " {'rel': 'describedby',\n",
       "  'href': 'https://glusfqycvwrucp9-db202202211424.adb.eu-zurich-1.oraclecloudapps.com/ords/sensor_datalake1/metadata-catalog/sens/insert/'},\n",
       " {'rel': 'first',\n",
       "  'href': 'https://glusfqycvwrucp9-db202202211424.adb.eu-zurich-1.oraclecloudapps.com/ords/sensor_datalake1/sens/insert/'},\n",
       " {'rel': 'next',\n",
       "  'href': 'https://glusfqycvwrucp9-db202202211424.adb.eu-zurich-1.oraclecloudapps.com/ords/sensor_datalake1/sens/insert/?offset=200'}]"
      ]
     },
     "execution_count": 3,
     "metadata": {},
     "output_type": "execute_result"
    }
   ],
   "source": [
    "response_['links']"
   ]
  },
  {
   "cell_type": "code",
   "execution_count": 4,
   "metadata": {},
   "outputs": [
    {
     "name": "stdout",
     "output_type": "stream",
     "text": [
      "https://glusfqycvwrucp9-db202202211424.adb.eu-zurich-1.oraclecloudapps.com/ords/sensor_datalake1/sens/insert/?offset=200\n"
     ]
    }
   ],
   "source": [
    "for elem in response_['links']:\n",
    "    for k, v in elem.items():\n",
    "        pass\n",
    "        if v == 'next':\n",
    "            print(elem['href'])"
   ]
  },
  {
   "cell_type": "code",
   "execution_count": 5,
   "metadata": {},
   "outputs": [],
   "source": [
    "def get_all_pages(url, liste=[]):\n",
    "    '''return database items'''\n",
    "    response_ = requests.get(url)\n",
    "    response_ = response_.json()\n",
    "    if response_['hasMore'] != True:\n",
    "        #liste.append(response_['items'])\n",
    "        return liste\n",
    "    else:\n",
    "        liste.append(response_['items'])\n",
    "        for elem in response_['links']:\n",
    "            for k, v in elem.items():\n",
    "                if v == 'next':\n",
    "                    new_url = elem['href']\n",
    "        return get_all_pages(new_url, liste)\n",
    "result = get_all_pages(url)\n",
    "#print(result)"
   ]
  },
  {
   "cell_type": "code",
   "execution_count": 6,
   "metadata": {},
   "outputs": [],
   "source": [
    "def to_data_frame(url_result):\n",
    "    output = pd.DataFrame()\n",
    "    for lists in url_result:\n",
    "        for dicti in lists:\n",
    "            output = output.append(dicti, ignore_index=True)\n",
    "    return output\n",
    "data_frame = to_data_frame(get_all_pages(url))"
   ]
  },
  {
   "cell_type": "code",
   "execution_count": 7,
   "metadata": {},
   "outputs": [],
   "source": [
    "data_frame.to_excel('db_data.xlsx', index=False)"
   ]
  },
  {
   "cell_type": "code",
   "execution_count": 8,
   "metadata": {},
   "outputs": [
    {
     "data": {
      "text/html": [
       "<div>\n",
       "<style scoped>\n",
       "    .dataframe tbody tr th:only-of-type {\n",
       "        vertical-align: middle;\n",
       "    }\n",
       "\n",
       "    .dataframe tbody tr th {\n",
       "        vertical-align: top;\n",
       "    }\n",
       "\n",
       "    .dataframe thead th {\n",
       "        text-align: right;\n",
       "    }\n",
       "</style>\n",
       "<table border=\"1\" class=\"dataframe\">\n",
       "  <thead>\n",
       "    <tr style=\"text-align: right;\">\n",
       "      <th></th>\n",
       "      <th>entry_id</th>\n",
       "      <th>insert_time</th>\n",
       "      <th>sensor_id</th>\n",
       "      <th>unit1</th>\n",
       "      <th>value1</th>\n",
       "    </tr>\n",
       "  </thead>\n",
       "  <tbody>\n",
       "    <tr>\n",
       "      <th>0</th>\n",
       "      <td>838.0</td>\n",
       "      <td>2022-03-17T13:26:08.881Z</td>\n",
       "      <td>CIRCUITPY825a</td>\n",
       "      <td>Window</td>\n",
       "      <td>0.0</td>\n",
       "    </tr>\n",
       "    <tr>\n",
       "      <th>1</th>\n",
       "      <td>842.0</td>\n",
       "      <td>2022-03-17T13:26:36.072Z</td>\n",
       "      <td>CIRCUITPY323d</td>\n",
       "      <td>%</td>\n",
       "      <td>34.3</td>\n",
       "    </tr>\n",
       "    <tr>\n",
       "      <th>2</th>\n",
       "      <td>847.0</td>\n",
       "      <td>2022-03-17T13:27:06.677Z</td>\n",
       "      <td>CIRCUITPYbec9</td>\n",
       "      <td>Window</td>\n",
       "      <td>0.0</td>\n",
       "    </tr>\n",
       "    <tr>\n",
       "      <th>3</th>\n",
       "      <td>853.0</td>\n",
       "      <td>2022-03-17T13:27:57.358Z</td>\n",
       "      <td>CIRCUITPY825a</td>\n",
       "      <td>Window</td>\n",
       "      <td>0.0</td>\n",
       "    </tr>\n",
       "    <tr>\n",
       "      <th>4</th>\n",
       "      <td>856.0</td>\n",
       "      <td>2022-03-17T13:28:25.393Z</td>\n",
       "      <td>CIRCUITPYbec9</td>\n",
       "      <td>Window</td>\n",
       "      <td>0.0</td>\n",
       "    </tr>\n",
       "  </tbody>\n",
       "</table>\n",
       "</div>"
      ],
      "text/plain": [
       "   entry_id               insert_time      sensor_id   unit1  value1\n",
       "0     838.0  2022-03-17T13:26:08.881Z  CIRCUITPY825a  Window     0.0\n",
       "1     842.0  2022-03-17T13:26:36.072Z  CIRCUITPY323d       %    34.3\n",
       "2     847.0  2022-03-17T13:27:06.677Z  CIRCUITPYbec9  Window     0.0\n",
       "3     853.0  2022-03-17T13:27:57.358Z  CIRCUITPY825a  Window     0.0\n",
       "4     856.0  2022-03-17T13:28:25.393Z  CIRCUITPYbec9  Window     0.0"
      ]
     },
     "execution_count": 8,
     "metadata": {},
     "output_type": "execute_result"
    }
   ],
   "source": [
    "data_frame.head()"
   ]
  },
  {
   "cell_type": "code",
   "execution_count": 9,
   "metadata": {},
   "outputs": [
    {
     "data": {
      "text/html": [
       "<div>\n",
       "<style scoped>\n",
       "    .dataframe tbody tr th:only-of-type {\n",
       "        vertical-align: middle;\n",
       "    }\n",
       "\n",
       "    .dataframe tbody tr th {\n",
       "        vertical-align: top;\n",
       "    }\n",
       "\n",
       "    .dataframe thead th {\n",
       "        text-align: right;\n",
       "    }\n",
       "</style>\n",
       "<table border=\"1\" class=\"dataframe\">\n",
       "  <thead>\n",
       "    <tr style=\"text-align: right;\">\n",
       "      <th></th>\n",
       "      <th>entry_id</th>\n",
       "      <th>insert_time</th>\n",
       "      <th>sensor_id</th>\n",
       "      <th>unit1</th>\n",
       "      <th>value1</th>\n",
       "    </tr>\n",
       "  </thead>\n",
       "  <tbody>\n",
       "    <tr>\n",
       "      <th>126</th>\n",
       "      <td>836.0</td>\n",
       "      <td>2022-03-17T13:26:05.032Z</td>\n",
       "      <td>CIRCUITPY323d</td>\n",
       "      <td>C</td>\n",
       "      <td>25.2</td>\n",
       "    </tr>\n",
       "    <tr>\n",
       "      <th>326</th>\n",
       "      <td>836.0</td>\n",
       "      <td>2022-03-17T13:26:05.032Z</td>\n",
       "      <td>CIRCUITPY323d</td>\n",
       "      <td>C</td>\n",
       "      <td>25.2</td>\n",
       "    </tr>\n",
       "    <tr>\n",
       "      <th>0</th>\n",
       "      <td>838.0</td>\n",
       "      <td>2022-03-17T13:26:08.881Z</td>\n",
       "      <td>CIRCUITPY825a</td>\n",
       "      <td>Window</td>\n",
       "      <td>0.0</td>\n",
       "    </tr>\n",
       "    <tr>\n",
       "      <th>200</th>\n",
       "      <td>838.0</td>\n",
       "      <td>2022-03-17T13:26:08.881Z</td>\n",
       "      <td>CIRCUITPY825a</td>\n",
       "      <td>Window</td>\n",
       "      <td>0.0</td>\n",
       "    </tr>\n",
       "    <tr>\n",
       "      <th>373</th>\n",
       "      <td>839.0</td>\n",
       "      <td>2022-03-17T13:26:11.366Z</td>\n",
       "      <td>CIRCUITPYbec9</td>\n",
       "      <td>Window</td>\n",
       "      <td>0.0</td>\n",
       "    </tr>\n",
       "  </tbody>\n",
       "</table>\n",
       "</div>"
      ],
      "text/plain": [
       "     entry_id               insert_time      sensor_id   unit1  value1\n",
       "126     836.0  2022-03-17T13:26:05.032Z  CIRCUITPY323d       C    25.2\n",
       "326     836.0  2022-03-17T13:26:05.032Z  CIRCUITPY323d       C    25.2\n",
       "0       838.0  2022-03-17T13:26:08.881Z  CIRCUITPY825a  Window     0.0\n",
       "200     838.0  2022-03-17T13:26:08.881Z  CIRCUITPY825a  Window     0.0\n",
       "373     839.0  2022-03-17T13:26:11.366Z  CIRCUITPYbec9  Window     0.0"
      ]
     },
     "execution_count": 9,
     "metadata": {},
     "output_type": "execute_result"
    }
   ],
   "source": [
    "data_frame_sorted = data_frame.sort_values(['entry_id'])\n",
    "data_frame_sorted.head()"
   ]
  },
  {
   "cell_type": "code",
   "execution_count": null,
   "metadata": {},
   "outputs": [],
   "source": []
  }
 ],
 "metadata": {
  "interpreter": {
   "hash": "ac59ebe37160ed0dfa835113d9b8498d9f09ceb179beaac4002f036b9467c963"
  },
  "kernelspec": {
   "display_name": "Python 3",
   "language": "python",
   "name": "python3"
  },
  "language_info": {
   "codemirror_mode": {
    "name": "ipython",
    "version": 3
   },
   "file_extension": ".py",
   "mimetype": "text/x-python",
   "name": "python",
   "nbconvert_exporter": "python",
   "pygments_lexer": "ipython3",
   "version": "3.8.8"
  }
 },
 "nbformat": 4,
 "nbformat_minor": 2
}
