{
 "cells": [
  {
   "cell_type": "code",
   "execution_count": 8,
   "metadata": {
    "collapsed": false,
    "pycharm": {
     "is_executing": true,
     "name": "#%%\n"
    }
   },
   "outputs": [],
   "source": [
    "import pathlib\n",
    "import seaborn as sns\n",
    "import utils\n",
    "import pandas as pd\n",
    "import requests\n",
    "import numpy as np\n",
    "import matplotlib.pyplot as plt\n",
    "import numpy as np"
   ]
  },
  {
   "cell_type": "code",
   "execution_count": 4,
   "metadata": {
    "pycharm": {
     "is_executing": true
    }
   },
   "outputs": [],
   "source": [
    "url = 'https://glusfqycvwrucp9-db202202211424.adb.eu-zurich-1.oraclecloudapps.com/ords/sensor_datalake1/sens/insert/'\n",
    "\n",
    "df = utils.get_all_pages(url)\n",
    "\n"
   ]
  },
  {
   "cell_type": "code",
   "execution_count": 5,
   "metadata": {
    "pycharm": {
     "is_executing": true
    }
   },
   "outputs": [
    {
     "data": {
      "text/html": [
       "<div>\n",
       "<style scoped>\n",
       "    .dataframe tbody tr th:only-of-type {\n",
       "        vertical-align: middle;\n",
       "    }\n",
       "\n",
       "    .dataframe tbody tr th {\n",
       "        vertical-align: top;\n",
       "    }\n",
       "\n",
       "    .dataframe thead th {\n",
       "        text-align: right;\n",
       "    }\n",
       "</style>\n",
       "<table border=\"1\" class=\"dataframe\">\n",
       "  <thead>\n",
       "    <tr style=\"text-align: right;\">\n",
       "      <th></th>\n",
       "      <th>entry_id</th>\n",
       "      <th>insert_time</th>\n",
       "      <th>sensor_id</th>\n",
       "      <th>value1</th>\n",
       "      <th>unit1</th>\n",
       "    </tr>\n",
       "  </thead>\n",
       "  <tbody>\n",
       "    <tr>\n",
       "      <th>0</th>\n",
       "      <td>2291</td>\n",
       "      <td>2022-03-30T14:49:51.283Z</td>\n",
       "      <td>CIRCUITPY323d</td>\n",
       "      <td>785.0</td>\n",
       "      <td>PPM</td>\n",
       "    </tr>\n",
       "    <tr>\n",
       "      <th>1</th>\n",
       "      <td>2304</td>\n",
       "      <td>2022-03-30T14:56:37.668Z</td>\n",
       "      <td>CIRCUITPY323d</td>\n",
       "      <td>27.4</td>\n",
       "      <td>C</td>\n",
       "    </tr>\n",
       "    <tr>\n",
       "      <th>2</th>\n",
       "      <td>2307</td>\n",
       "      <td>2022-03-30T14:57:37.983Z</td>\n",
       "      <td>CIRCUITPY323d</td>\n",
       "      <td>27.4</td>\n",
       "      <td>C</td>\n",
       "    </tr>\n",
       "    <tr>\n",
       "      <th>3</th>\n",
       "      <td>2311</td>\n",
       "      <td>2022-03-30T14:58:40.293Z</td>\n",
       "      <td>CIRCUITPY323d</td>\n",
       "      <td>31.1</td>\n",
       "      <td>%</td>\n",
       "    </tr>\n",
       "    <tr>\n",
       "      <th>4</th>\n",
       "      <td>2328</td>\n",
       "      <td>2022-03-30T15:04:41.298Z</td>\n",
       "      <td>CIRCUITPY323d</td>\n",
       "      <td>27.7</td>\n",
       "      <td>C</td>\n",
       "    </tr>\n",
       "  </tbody>\n",
       "</table>\n",
       "</div>"
      ],
      "text/plain": [
       "   entry_id               insert_time      sensor_id  value1 unit1\n",
       "0      2291  2022-03-30T14:49:51.283Z  CIRCUITPY323d   785.0   PPM\n",
       "1      2304  2022-03-30T14:56:37.668Z  CIRCUITPY323d    27.4     C\n",
       "2      2307  2022-03-30T14:57:37.983Z  CIRCUITPY323d    27.4     C\n",
       "3      2311  2022-03-30T14:58:40.293Z  CIRCUITPY323d    31.1     %\n",
       "4      2328  2022-03-30T15:04:41.298Z  CIRCUITPY323d    27.7     C"
      ]
     },
     "execution_count": 5,
     "metadata": {},
     "output_type": "execute_result"
    }
   ],
   "source": [
    "df.head()"
   ]
  },
  {
   "cell_type": "code",
   "execution_count": 6,
   "metadata": {
    "pycharm": {
     "is_executing": true
    }
   },
   "outputs": [
    {
     "name": "stdout",
     "output_type": "stream",
     "text": [
      "<class 'pandas.core.frame.DataFrame'>\n",
      "RangeIndex: 96741 entries, 0 to 96740\n",
      "Data columns (total 5 columns):\n",
      " #   Column       Non-Null Count  Dtype              \n",
      "---  ------       --------------  -----              \n",
      " 0   entry_id     96741 non-null  int64              \n",
      " 1   insert_time  96741 non-null  datetime64[ns, UTC]\n",
      " 2   sensor_id    96741 non-null  object             \n",
      " 3   value1       96741 non-null  float64            \n",
      " 4   unit1        96741 non-null  object             \n",
      "dtypes: datetime64[ns, UTC](1), float64(1), int64(1), object(2)\n",
      "memory usage: 3.7+ MB\n"
     ]
    }
   ],
   "source": [
    "#convert inser_time to timedate\n",
    "df['insert_time'] = pd.to_datetime(df['insert_time'])\n",
    "#and add 2 hours to insert time\n",
    "df['insert_time'] = df['insert_time'] + pd.Timedelta(hours=2)\n",
    "\n",
    "df.info()"
   ]
  },
  {
   "cell_type": "code",
   "execution_count": 10,
   "metadata": {
    "pycharm": {
     "is_executing": true
    }
   },
   "outputs": [
    {
     "data": {
      "text/html": [
       "<div>\n",
       "<style scoped>\n",
       "    .dataframe tbody tr th:only-of-type {\n",
       "        vertical-align: middle;\n",
       "    }\n",
       "\n",
       "    .dataframe tbody tr th {\n",
       "        vertical-align: top;\n",
       "    }\n",
       "\n",
       "    .dataframe thead th {\n",
       "        text-align: right;\n",
       "    }\n",
       "</style>\n",
       "<table border=\"1\" class=\"dataframe\">\n",
       "  <thead>\n",
       "    <tr style=\"text-align: right;\">\n",
       "      <th></th>\n",
       "      <th>CIRCUITPY323d_PPM</th>\n",
       "      <th>CIRCUITPY323d_C</th>\n",
       "      <th>CIRCUITPY323d_%</th>\n",
       "      <th>CIRCUITPY825a_Window</th>\n",
       "      <th>CIRCUITPYbec9_Person</th>\n",
       "    </tr>\n",
       "    <tr>\n",
       "      <th>insert_time</th>\n",
       "      <th></th>\n",
       "      <th></th>\n",
       "      <th></th>\n",
       "      <th></th>\n",
       "      <th></th>\n",
       "    </tr>\n",
       "  </thead>\n",
       "  <tbody>\n",
       "    <tr>\n",
       "      <th>2022-03-24 16:02:00+00:00</th>\n",
       "      <td>1068.800000</td>\n",
       "      <td>26.600000</td>\n",
       "      <td>34.600000</td>\n",
       "      <td>0.0</td>\n",
       "      <td>NaN</td>\n",
       "    </tr>\n",
       "    <tr>\n",
       "      <th>2022-03-24 16:03:00+00:00</th>\n",
       "      <td>1073.700000</td>\n",
       "      <td>26.500000</td>\n",
       "      <td>32.500000</td>\n",
       "      <td>NaN</td>\n",
       "      <td>NaN</td>\n",
       "    </tr>\n",
       "    <tr>\n",
       "      <th>2022-03-24 16:04:00+00:00</th>\n",
       "      <td>1061.600000</td>\n",
       "      <td>26.400000</td>\n",
       "      <td>33.450000</td>\n",
       "      <td>NaN</td>\n",
       "      <td>NaN</td>\n",
       "    </tr>\n",
       "    <tr>\n",
       "      <th>2022-03-24 16:05:00+00:00</th>\n",
       "      <td>1072.400000</td>\n",
       "      <td>26.400000</td>\n",
       "      <td>33.950000</td>\n",
       "      <td>NaN</td>\n",
       "      <td>NaN</td>\n",
       "    </tr>\n",
       "    <tr>\n",
       "      <th>2022-03-24 16:06:00+00:00</th>\n",
       "      <td>1115.650000</td>\n",
       "      <td>26.400000</td>\n",
       "      <td>34.150000</td>\n",
       "      <td>NaN</td>\n",
       "      <td>NaN</td>\n",
       "    </tr>\n",
       "    <tr>\n",
       "      <th>2022-03-24 16:07:00+00:00</th>\n",
       "      <td>1145.600000</td>\n",
       "      <td>26.400000</td>\n",
       "      <td>34.700000</td>\n",
       "      <td>NaN</td>\n",
       "      <td>NaN</td>\n",
       "    </tr>\n",
       "    <tr>\n",
       "      <th>2022-03-24 16:08:00+00:00</th>\n",
       "      <td>1142.450000</td>\n",
       "      <td>26.400000</td>\n",
       "      <td>35.000000</td>\n",
       "      <td>NaN</td>\n",
       "      <td>NaN</td>\n",
       "    </tr>\n",
       "    <tr>\n",
       "      <th>2022-03-24 16:09:00+00:00</th>\n",
       "      <td>1152.500000</td>\n",
       "      <td>26.400000</td>\n",
       "      <td>35.550000</td>\n",
       "      <td>NaN</td>\n",
       "      <td>NaN</td>\n",
       "    </tr>\n",
       "    <tr>\n",
       "      <th>2022-03-24 16:10:00+00:00</th>\n",
       "      <td>1200.900000</td>\n",
       "      <td>26.400000</td>\n",
       "      <td>35.850000</td>\n",
       "      <td>NaN</td>\n",
       "      <td>NaN</td>\n",
       "    </tr>\n",
       "    <tr>\n",
       "      <th>2022-03-24 16:11:00+00:00</th>\n",
       "      <td>1237.500000</td>\n",
       "      <td>26.450000</td>\n",
       "      <td>36.250000</td>\n",
       "      <td>NaN</td>\n",
       "      <td>NaN</td>\n",
       "    </tr>\n",
       "    <tr>\n",
       "      <th>2022-03-24 16:12:00+00:00</th>\n",
       "      <td>1282.500000</td>\n",
       "      <td>26.500000</td>\n",
       "      <td>36.600000</td>\n",
       "      <td>NaN</td>\n",
       "      <td>NaN</td>\n",
       "    </tr>\n",
       "    <tr>\n",
       "      <th>2022-03-24 16:13:00+00:00</th>\n",
       "      <td>1325.800000</td>\n",
       "      <td>26.500000</td>\n",
       "      <td>36.800000</td>\n",
       "      <td>NaN</td>\n",
       "      <td>NaN</td>\n",
       "    </tr>\n",
       "    <tr>\n",
       "      <th>2022-03-24 16:14:00+00:00</th>\n",
       "      <td>1342.300000</td>\n",
       "      <td>26.500000</td>\n",
       "      <td>37.050000</td>\n",
       "      <td>NaN</td>\n",
       "      <td>NaN</td>\n",
       "    </tr>\n",
       "    <tr>\n",
       "      <th>2022-03-24 16:15:00+00:00</th>\n",
       "      <td>1370.950000</td>\n",
       "      <td>26.500000</td>\n",
       "      <td>37.350000</td>\n",
       "      <td>NaN</td>\n",
       "      <td>NaN</td>\n",
       "    </tr>\n",
       "    <tr>\n",
       "      <th>2022-03-24 16:16:00+00:00</th>\n",
       "      <td>1423.700000</td>\n",
       "      <td>26.550000</td>\n",
       "      <td>37.750000</td>\n",
       "      <td>NaN</td>\n",
       "      <td>NaN</td>\n",
       "    </tr>\n",
       "    <tr>\n",
       "      <th>2022-03-24 16:17:00+00:00</th>\n",
       "      <td>1452.400000</td>\n",
       "      <td>26.600000</td>\n",
       "      <td>38.000000</td>\n",
       "      <td>NaN</td>\n",
       "      <td>NaN</td>\n",
       "    </tr>\n",
       "    <tr>\n",
       "      <th>2022-03-24 16:18:00+00:00</th>\n",
       "      <td>1467.500000</td>\n",
       "      <td>26.600000</td>\n",
       "      <td>38.450000</td>\n",
       "      <td>NaN</td>\n",
       "      <td>NaN</td>\n",
       "    </tr>\n",
       "    <tr>\n",
       "      <th>2022-03-24 16:19:00+00:00</th>\n",
       "      <td>1486.650000</td>\n",
       "      <td>26.600000</td>\n",
       "      <td>38.600000</td>\n",
       "      <td>NaN</td>\n",
       "      <td>NaN</td>\n",
       "    </tr>\n",
       "    <tr>\n",
       "      <th>2022-03-24 16:20:00+00:00</th>\n",
       "      <td>1517.650000</td>\n",
       "      <td>26.700000</td>\n",
       "      <td>39.200000</td>\n",
       "      <td>NaN</td>\n",
       "      <td>NaN</td>\n",
       "    </tr>\n",
       "    <tr>\n",
       "      <th>2022-03-24 16:21:00+00:00</th>\n",
       "      <td>1584.600000</td>\n",
       "      <td>26.700000</td>\n",
       "      <td>39.300000</td>\n",
       "      <td>1.0</td>\n",
       "      <td>NaN</td>\n",
       "    </tr>\n",
       "    <tr>\n",
       "      <th>2022-03-24 16:22:00+00:00</th>\n",
       "      <td>1594.250000</td>\n",
       "      <td>26.700000</td>\n",
       "      <td>38.500000</td>\n",
       "      <td>NaN</td>\n",
       "      <td>NaN</td>\n",
       "    </tr>\n",
       "    <tr>\n",
       "      <th>2022-03-24 16:23:00+00:00</th>\n",
       "      <td>1213.550000</td>\n",
       "      <td>26.700000</td>\n",
       "      <td>34.050000</td>\n",
       "      <td>NaN</td>\n",
       "      <td>NaN</td>\n",
       "    </tr>\n",
       "    <tr>\n",
       "      <th>2022-03-24 16:24:00+00:00</th>\n",
       "      <td>920.166667</td>\n",
       "      <td>26.600000</td>\n",
       "      <td>29.933333</td>\n",
       "      <td>NaN</td>\n",
       "      <td>NaN</td>\n",
       "    </tr>\n",
       "    <tr>\n",
       "      <th>2022-03-24 16:25:00+00:00</th>\n",
       "      <td>798.450000</td>\n",
       "      <td>26.500000</td>\n",
       "      <td>28.050000</td>\n",
       "      <td>NaN</td>\n",
       "      <td>NaN</td>\n",
       "    </tr>\n",
       "    <tr>\n",
       "      <th>2022-03-24 16:26:00+00:00</th>\n",
       "      <td>732.666667</td>\n",
       "      <td>26.466667</td>\n",
       "      <td>27.000000</td>\n",
       "      <td>NaN</td>\n",
       "      <td>NaN</td>\n",
       "    </tr>\n",
       "    <tr>\n",
       "      <th>2022-03-24 16:27:00+00:00</th>\n",
       "      <td>690.666667</td>\n",
       "      <td>26.400000</td>\n",
       "      <td>26.100000</td>\n",
       "      <td>NaN</td>\n",
       "      <td>NaN</td>\n",
       "    </tr>\n",
       "    <tr>\n",
       "      <th>2022-03-24 16:28:00+00:00</th>\n",
       "      <td>665.700000</td>\n",
       "      <td>26.350000</td>\n",
       "      <td>26.050000</td>\n",
       "      <td>0.0</td>\n",
       "      <td>NaN</td>\n",
       "    </tr>\n",
       "    <tr>\n",
       "      <th>2022-03-24 16:29:00+00:00</th>\n",
       "      <td>733.600000</td>\n",
       "      <td>26.333333</td>\n",
       "      <td>27.866667</td>\n",
       "      <td>NaN</td>\n",
       "      <td>NaN</td>\n",
       "    </tr>\n",
       "    <tr>\n",
       "      <th>2022-03-24 16:30:00+00:00</th>\n",
       "      <td>824.800000</td>\n",
       "      <td>26.400000</td>\n",
       "      <td>28.533333</td>\n",
       "      <td>NaN</td>\n",
       "      <td>NaN</td>\n",
       "    </tr>\n",
       "    <tr>\n",
       "      <th>2022-03-24 16:31:00+00:00</th>\n",
       "      <td>850.350000</td>\n",
       "      <td>26.400000</td>\n",
       "      <td>29.050000</td>\n",
       "      <td>NaN</td>\n",
       "      <td>NaN</td>\n",
       "    </tr>\n",
       "  </tbody>\n",
       "</table>\n",
       "</div>"
      ],
      "text/plain": [
       "                           CIRCUITPY323d_PPM  CIRCUITPY323d_C  \\\n",
       "insert_time                                                     \n",
       "2022-03-24 16:02:00+00:00        1068.800000        26.600000   \n",
       "2022-03-24 16:03:00+00:00        1073.700000        26.500000   \n",
       "2022-03-24 16:04:00+00:00        1061.600000        26.400000   \n",
       "2022-03-24 16:05:00+00:00        1072.400000        26.400000   \n",
       "2022-03-24 16:06:00+00:00        1115.650000        26.400000   \n",
       "2022-03-24 16:07:00+00:00        1145.600000        26.400000   \n",
       "2022-03-24 16:08:00+00:00        1142.450000        26.400000   \n",
       "2022-03-24 16:09:00+00:00        1152.500000        26.400000   \n",
       "2022-03-24 16:10:00+00:00        1200.900000        26.400000   \n",
       "2022-03-24 16:11:00+00:00        1237.500000        26.450000   \n",
       "2022-03-24 16:12:00+00:00        1282.500000        26.500000   \n",
       "2022-03-24 16:13:00+00:00        1325.800000        26.500000   \n",
       "2022-03-24 16:14:00+00:00        1342.300000        26.500000   \n",
       "2022-03-24 16:15:00+00:00        1370.950000        26.500000   \n",
       "2022-03-24 16:16:00+00:00        1423.700000        26.550000   \n",
       "2022-03-24 16:17:00+00:00        1452.400000        26.600000   \n",
       "2022-03-24 16:18:00+00:00        1467.500000        26.600000   \n",
       "2022-03-24 16:19:00+00:00        1486.650000        26.600000   \n",
       "2022-03-24 16:20:00+00:00        1517.650000        26.700000   \n",
       "2022-03-24 16:21:00+00:00        1584.600000        26.700000   \n",
       "2022-03-24 16:22:00+00:00        1594.250000        26.700000   \n",
       "2022-03-24 16:23:00+00:00        1213.550000        26.700000   \n",
       "2022-03-24 16:24:00+00:00         920.166667        26.600000   \n",
       "2022-03-24 16:25:00+00:00         798.450000        26.500000   \n",
       "2022-03-24 16:26:00+00:00         732.666667        26.466667   \n",
       "2022-03-24 16:27:00+00:00         690.666667        26.400000   \n",
       "2022-03-24 16:28:00+00:00         665.700000        26.350000   \n",
       "2022-03-24 16:29:00+00:00         733.600000        26.333333   \n",
       "2022-03-24 16:30:00+00:00         824.800000        26.400000   \n",
       "2022-03-24 16:31:00+00:00         850.350000        26.400000   \n",
       "\n",
       "                           CIRCUITPY323d_%  CIRCUITPY825a_Window  \\\n",
       "insert_time                                                        \n",
       "2022-03-24 16:02:00+00:00        34.600000                   0.0   \n",
       "2022-03-24 16:03:00+00:00        32.500000                   NaN   \n",
       "2022-03-24 16:04:00+00:00        33.450000                   NaN   \n",
       "2022-03-24 16:05:00+00:00        33.950000                   NaN   \n",
       "2022-03-24 16:06:00+00:00        34.150000                   NaN   \n",
       "2022-03-24 16:07:00+00:00        34.700000                   NaN   \n",
       "2022-03-24 16:08:00+00:00        35.000000                   NaN   \n",
       "2022-03-24 16:09:00+00:00        35.550000                   NaN   \n",
       "2022-03-24 16:10:00+00:00        35.850000                   NaN   \n",
       "2022-03-24 16:11:00+00:00        36.250000                   NaN   \n",
       "2022-03-24 16:12:00+00:00        36.600000                   NaN   \n",
       "2022-03-24 16:13:00+00:00        36.800000                   NaN   \n",
       "2022-03-24 16:14:00+00:00        37.050000                   NaN   \n",
       "2022-03-24 16:15:00+00:00        37.350000                   NaN   \n",
       "2022-03-24 16:16:00+00:00        37.750000                   NaN   \n",
       "2022-03-24 16:17:00+00:00        38.000000                   NaN   \n",
       "2022-03-24 16:18:00+00:00        38.450000                   NaN   \n",
       "2022-03-24 16:19:00+00:00        38.600000                   NaN   \n",
       "2022-03-24 16:20:00+00:00        39.200000                   NaN   \n",
       "2022-03-24 16:21:00+00:00        39.300000                   1.0   \n",
       "2022-03-24 16:22:00+00:00        38.500000                   NaN   \n",
       "2022-03-24 16:23:00+00:00        34.050000                   NaN   \n",
       "2022-03-24 16:24:00+00:00        29.933333                   NaN   \n",
       "2022-03-24 16:25:00+00:00        28.050000                   NaN   \n",
       "2022-03-24 16:26:00+00:00        27.000000                   NaN   \n",
       "2022-03-24 16:27:00+00:00        26.100000                   NaN   \n",
       "2022-03-24 16:28:00+00:00        26.050000                   0.0   \n",
       "2022-03-24 16:29:00+00:00        27.866667                   NaN   \n",
       "2022-03-24 16:30:00+00:00        28.533333                   NaN   \n",
       "2022-03-24 16:31:00+00:00        29.050000                   NaN   \n",
       "\n",
       "                           CIRCUITPYbec9_Person  \n",
       "insert_time                                      \n",
       "2022-03-24 16:02:00+00:00                   NaN  \n",
       "2022-03-24 16:03:00+00:00                   NaN  \n",
       "2022-03-24 16:04:00+00:00                   NaN  \n",
       "2022-03-24 16:05:00+00:00                   NaN  \n",
       "2022-03-24 16:06:00+00:00                   NaN  \n",
       "2022-03-24 16:07:00+00:00                   NaN  \n",
       "2022-03-24 16:08:00+00:00                   NaN  \n",
       "2022-03-24 16:09:00+00:00                   NaN  \n",
       "2022-03-24 16:10:00+00:00                   NaN  \n",
       "2022-03-24 16:11:00+00:00                   NaN  \n",
       "2022-03-24 16:12:00+00:00                   NaN  \n",
       "2022-03-24 16:13:00+00:00                   NaN  \n",
       "2022-03-24 16:14:00+00:00                   NaN  \n",
       "2022-03-24 16:15:00+00:00                   NaN  \n",
       "2022-03-24 16:16:00+00:00                   NaN  \n",
       "2022-03-24 16:17:00+00:00                   NaN  \n",
       "2022-03-24 16:18:00+00:00                   NaN  \n",
       "2022-03-24 16:19:00+00:00                   NaN  \n",
       "2022-03-24 16:20:00+00:00                   NaN  \n",
       "2022-03-24 16:21:00+00:00                   NaN  \n",
       "2022-03-24 16:22:00+00:00                   NaN  \n",
       "2022-03-24 16:23:00+00:00                   NaN  \n",
       "2022-03-24 16:24:00+00:00                   NaN  \n",
       "2022-03-24 16:25:00+00:00                   NaN  \n",
       "2022-03-24 16:26:00+00:00                   NaN  \n",
       "2022-03-24 16:27:00+00:00                   NaN  \n",
       "2022-03-24 16:28:00+00:00                   NaN  \n",
       "2022-03-24 16:29:00+00:00                   NaN  \n",
       "2022-03-24 16:30:00+00:00                   NaN  \n",
       "2022-03-24 16:31:00+00:00                   NaN  "
      ]
     },
     "execution_count": 10,
     "metadata": {},
     "output_type": "execute_result"
    }
   ],
   "source": [
    "#pivot\n",
    "df_pivot = df.pivot_table(index='insert_time',columns=['sensor_id','unit1'],values='value1')\n",
    "#multindex to single index\n",
    "df_pivot.columns =\tdf_pivot.columns.map('_'.join)\n",
    "#resample on 5min time windows\n",
    "\n",
    "df_pivot = df_pivot.resample('1Min').agg({'CIRCUITPY323d_PPM':'mean', 'CIRCUITPY323d_C':'mean','CIRCUITPY323d_%':'mean','CIRCUITPY323d_%':'mean','CIRCUITPY825a_Window':'last','CIRCUITPYbec9_Person':'last'})\n",
    "df_pivot.head(30)"
   ]
  },
  {
   "cell_type": "code",
   "execution_count": 12,
   "metadata": {
    "collapsed": false,
    "pycharm": {
     "is_executing": true,
     "name": "#%%\n"
    }
   },
   "outputs": [],
   "source": [
    "#neue Variable die die Luftqualität Quantitativ einordnet\n",
    "df_pivot['air_quality'] =np.where(df_pivot['CIRCUITPY323d_PPM']>600, 'good',\n",
    "                   np.where(df_pivot['CIRCUITPY323d_PPM']>1000, 'ok',\n",
    "                   np.where(df_pivot['CIRCUITPY323d_PPM']>1400, 'bad', 'top')))\n"
   ]
  },
  {
   "cell_type": "code",
   "execution_count": 49,
   "metadata": {
    "pycharm": {
     "is_executing": true
    }
   },
   "outputs": [],
   "source": [
    "#select specific time window\n",
    "df_timewindow = df_pivot.loc['2022-04-23 00:00:00':'2022-04-23 23:50:00']"
   ]
  },
  {
   "cell_type": "code",
   "execution_count": 40,
   "metadata": {
    "pycharm": {
     "is_executing": true
    }
   },
   "outputs": [
    {
     "name": "stderr",
     "output_type": "stream",
     "text": [
      "/Library/Frameworks/Python.framework/Versions/3.9/lib/python3.9/site-packages/pandas/core/generic.py:6392: SettingWithCopyWarning: \n",
      "A value is trying to be set on a copy of a slice from a DataFrame\n",
      "\n",
      "See the caveats in the documentation: https://pandas.pydata.org/pandas-docs/stable/user_guide/indexing.html#returning-a-view-versus-a-copy\n",
      "  return self._update_inplace(result)\n"
     ]
    },
    {
     "data": {
      "text/html": [
       "<div>\n",
       "<style scoped>\n",
       "    .dataframe tbody tr th:only-of-type {\n",
       "        vertical-align: middle;\n",
       "    }\n",
       "\n",
       "    .dataframe tbody tr th {\n",
       "        vertical-align: top;\n",
       "    }\n",
       "\n",
       "    .dataframe thead th {\n",
       "        text-align: right;\n",
       "    }\n",
       "</style>\n",
       "<table border=\"1\" class=\"dataframe\">\n",
       "  <thead>\n",
       "    <tr style=\"text-align: right;\">\n",
       "      <th></th>\n",
       "      <th>CIRCUITPY323d_PPM</th>\n",
       "      <th>CIRCUITPY323d_C</th>\n",
       "      <th>CIRCUITPY323d_%</th>\n",
       "      <th>CIRCUITPY825a_Window</th>\n",
       "      <th>CIRCUITPYbec9_Person</th>\n",
       "      <th>air_quality</th>\n",
       "    </tr>\n",
       "    <tr>\n",
       "      <th>insert_time</th>\n",
       "      <th></th>\n",
       "      <th></th>\n",
       "      <th></th>\n",
       "      <th></th>\n",
       "      <th></th>\n",
       "      <th></th>\n",
       "    </tr>\n",
       "  </thead>\n",
       "  <tbody>\n",
       "    <tr>\n",
       "      <th>2022-04-23 18:00:00+00:00</th>\n",
       "      <td>579.4</td>\n",
       "      <td>25.3</td>\n",
       "      <td>41.3</td>\n",
       "      <td>1.0</td>\n",
       "      <td>1.0</td>\n",
       "      <td>top</td>\n",
       "    </tr>\n",
       "    <tr>\n",
       "      <th>2022-04-23 18:01:00+00:00</th>\n",
       "      <td>579.0</td>\n",
       "      <td>25.3</td>\n",
       "      <td>41.4</td>\n",
       "      <td>1.0</td>\n",
       "      <td>1.0</td>\n",
       "      <td>top</td>\n",
       "    </tr>\n",
       "    <tr>\n",
       "      <th>2022-04-23 18:02:00+00:00</th>\n",
       "      <td>566.9</td>\n",
       "      <td>25.2</td>\n",
       "      <td>40.9</td>\n",
       "      <td>1.0</td>\n",
       "      <td>1.0</td>\n",
       "      <td>top</td>\n",
       "    </tr>\n",
       "    <tr>\n",
       "      <th>2022-04-23 18:03:00+00:00</th>\n",
       "      <td>486.9</td>\n",
       "      <td>25.1</td>\n",
       "      <td>39.8</td>\n",
       "      <td>1.0</td>\n",
       "      <td>1.0</td>\n",
       "      <td>top</td>\n",
       "    </tr>\n",
       "    <tr>\n",
       "      <th>2022-04-23 18:04:00+00:00</th>\n",
       "      <td>449.4</td>\n",
       "      <td>25.0</td>\n",
       "      <td>39.1</td>\n",
       "      <td>1.0</td>\n",
       "      <td>1.0</td>\n",
       "      <td>top</td>\n",
       "    </tr>\n",
       "  </tbody>\n",
       "</table>\n",
       "</div>"
      ],
      "text/plain": [
       "                           CIRCUITPY323d_PPM  CIRCUITPY323d_C  \\\n",
       "insert_time                                                     \n",
       "2022-04-23 18:00:00+00:00              579.4             25.3   \n",
       "2022-04-23 18:01:00+00:00              579.0             25.3   \n",
       "2022-04-23 18:02:00+00:00              566.9             25.2   \n",
       "2022-04-23 18:03:00+00:00              486.9             25.1   \n",
       "2022-04-23 18:04:00+00:00              449.4             25.0   \n",
       "\n",
       "                           CIRCUITPY323d_%  CIRCUITPY825a_Window  \\\n",
       "insert_time                                                        \n",
       "2022-04-23 18:00:00+00:00             41.3                   1.0   \n",
       "2022-04-23 18:01:00+00:00             41.4                   1.0   \n",
       "2022-04-23 18:02:00+00:00             40.9                   1.0   \n",
       "2022-04-23 18:03:00+00:00             39.8                   1.0   \n",
       "2022-04-23 18:04:00+00:00             39.1                   1.0   \n",
       "\n",
       "                           CIRCUITPYbec9_Person air_quality  \n",
       "insert_time                                                  \n",
       "2022-04-23 18:00:00+00:00                   1.0         top  \n",
       "2022-04-23 18:01:00+00:00                   1.0         top  \n",
       "2022-04-23 18:02:00+00:00                   1.0         top  \n",
       "2022-04-23 18:03:00+00:00                   1.0         top  \n",
       "2022-04-23 18:04:00+00:00                   1.0         top  "
      ]
     },
     "execution_count": 40,
     "metadata": {},
     "output_type": "execute_result"
    }
   ],
   "source": [
    "#Fill Nan for window sensor\n",
    "df_timewindow['CIRCUITPY825a_Window'].fillna(method='ffill',inplace=True)\n",
    "df_timewindow['CIRCUITPY825a_Window'].fillna(method='bfill',inplace=True)\n",
    "#Fill Nan for people sensor\n",
    "df_timewindow['CIRCUITPYbec9_Person'].fillna(method='ffill',inplace=True)\n",
    "#Fill Nan for first entry for people sensor\n",
    "df_timewindow['CIRCUITPYbec9_Person'].fillna(method='bfill',inplace=True)\n",
    "\n",
    "df_timewindow.head(5)"
   ]
  },
  {
   "cell_type": "code",
   "execution_count": 50,
   "metadata": {
    "pycharm": {
     "is_executing": true
    }
   },
   "outputs": [
    {
     "data": {
      "image/png": "[encoded data removed]",
      "text/plain": [
       "<Figure size 1440x360 with 4 Axes>"
      ]
     },
     "metadata": {
      "needs_background": "light"
     },
     "output_type": "display_data"
    }
   ],
   "source": [
    "#linechart cobined with bar chart\n",
    "#if windows sensor 1 blue line if windows sensor 0 red line\n",
    "# Use a boundary norm instead\n",
    "fig, ax1 = plt.subplots()\n",
    "#hide grid\n",
    "ax1 = df_timewindow['CIRCUITPY323d_PPM'].plot(kind='line',color='blue',label='PPM', grid=False)\n",
    "ax3 = ax1.twinx()\n",
    "ax3 = df_timewindow['CIRCUITPY323d_C'].plot(kind='line',color='red',label='C', grid=False,ylim=(0,30))\n",
    "ax4 = ax1.twinx()\n",
    "ax4 = df_timewindow['CIRCUITPY323d_%'].plot(kind='line',color='green',label='%', grid=False,ylim=(20,60))\n",
    "ax2 = ax1.twinx()\n",
    "ax2 = df_timewindow['CIRCUITPYbec9_Person'].plot(kind='line',color='black',label='People Count',ylim=(0,5))\n",
    "ax1.pcolorfast(ax1.get_xlim(), ax1.get_ylim(),df_timewindow['CIRCUITPY825a_Window'].values[np.newaxis],cmap='RdYlGn', alpha=0.3,label='Windows')\n",
    "#set size\n",
    "ax1.figure.set_size_inches(20, 5)\n",
    "#show legend\n",
    "ax1.legend(loc='upper left')\n",
    "ax2.legend(loc='upper right')\n",
    "ax3.legend(loc='center right')\n",
    "ax4.legend(loc='lower right')\n",
    "#additonal legend for window sensor\n",
    "\n",
    "\n",
    "plt.show()"
   ]
  },
  {
   "cell_type": "code",
   "execution_count": 42,
   "metadata": {
    "pycharm": {
     "is_executing": true
    }
   },
   "outputs": [
    {
     "data": {
      "text/html": [
       "<div>\n",
       "<style scoped>\n",
       "    .dataframe tbody tr th:only-of-type {\n",
       "        vertical-align: middle;\n",
       "    }\n",
       "\n",
       "    .dataframe tbody tr th {\n",
       "        vertical-align: top;\n",
       "    }\n",
       "\n",
       "    .dataframe thead th {\n",
       "        text-align: right;\n",
       "    }\n",
       "</style>\n",
       "<table border=\"1\" class=\"dataframe\">\n",
       "  <thead>\n",
       "    <tr style=\"text-align: right;\">\n",
       "      <th></th>\n",
       "      <th>CIRCUITPY323d_PPM</th>\n",
       "      <th>CIRCUITPY323d_C</th>\n",
       "      <th>CIRCUITPY323d_%</th>\n",
       "      <th>CIRCUITPY825a_Window</th>\n",
       "      <th>CIRCUITPYbec9_Person</th>\n",
       "    </tr>\n",
       "  </thead>\n",
       "  <tbody>\n",
       "    <tr>\n",
       "      <th>CIRCUITPY323d_PPM</th>\n",
       "      <td>1.000000</td>\n",
       "      <td>0.978523</td>\n",
       "      <td>-0.094305</td>\n",
       "      <td>NaN</td>\n",
       "      <td>NaN</td>\n",
       "    </tr>\n",
       "    <tr>\n",
       "      <th>CIRCUITPY323d_C</th>\n",
       "      <td>0.978523</td>\n",
       "      <td>1.000000</td>\n",
       "      <td>-0.103575</td>\n",
       "      <td>NaN</td>\n",
       "      <td>NaN</td>\n",
       "    </tr>\n",
       "    <tr>\n",
       "      <th>CIRCUITPY323d_%</th>\n",
       "      <td>-0.094305</td>\n",
       "      <td>-0.103575</td>\n",
       "      <td>1.000000</td>\n",
       "      <td>NaN</td>\n",
       "      <td>NaN</td>\n",
       "    </tr>\n",
       "    <tr>\n",
       "      <th>CIRCUITPY825a_Window</th>\n",
       "      <td>NaN</td>\n",
       "      <td>NaN</td>\n",
       "      <td>NaN</td>\n",
       "      <td>NaN</td>\n",
       "      <td>NaN</td>\n",
       "    </tr>\n",
       "    <tr>\n",
       "      <th>CIRCUITPYbec9_Person</th>\n",
       "      <td>NaN</td>\n",
       "      <td>NaN</td>\n",
       "      <td>NaN</td>\n",
       "      <td>NaN</td>\n",
       "      <td>NaN</td>\n",
       "    </tr>\n",
       "  </tbody>\n",
       "</table>\n",
       "</div>"
      ],
      "text/plain": [
       "                      CIRCUITPY323d_PPM  CIRCUITPY323d_C  CIRCUITPY323d_%  \\\n",
       "CIRCUITPY323d_PPM              1.000000         0.978523        -0.094305   \n",
       "CIRCUITPY323d_C                0.978523         1.000000        -0.103575   \n",
       "CIRCUITPY323d_%               -0.094305        -0.103575         1.000000   \n",
       "CIRCUITPY825a_Window                NaN              NaN              NaN   \n",
       "CIRCUITPYbec9_Person                NaN              NaN              NaN   \n",
       "\n",
       "                      CIRCUITPY825a_Window  CIRCUITPYbec9_Person  \n",
       "CIRCUITPY323d_PPM                      NaN                   NaN  \n",
       "CIRCUITPY323d_C                        NaN                   NaN  \n",
       "CIRCUITPY323d_%                        NaN                   NaN  \n",
       "CIRCUITPY825a_Window                   NaN                   NaN  \n",
       "CIRCUITPYbec9_Person                   NaN                   NaN  "
      ]
     },
     "execution_count": 42,
     "metadata": {},
     "output_type": "execute_result"
    }
   ],
   "source": [
    "#calculate correleation between two columns\n",
    "df_timewindow.corr(method=\"spearman\")"
   ]
  },
  {
   "cell_type": "code",
   "execution_count": 43,
   "metadata": {
    "collapsed": false,
    "pycharm": {
     "name": "#%%\n"
    }
   },
   "outputs": [
    {
     "data": {
      "text/html": [
       "<div>\n",
       "<style scoped>\n",
       "    .dataframe tbody tr th:only-of-type {\n",
       "        vertical-align: middle;\n",
       "    }\n",
       "\n",
       "    .dataframe tbody tr th {\n",
       "        vertical-align: top;\n",
       "    }\n",
       "\n",
       "    .dataframe thead th {\n",
       "        text-align: right;\n",
       "    }\n",
       "</style>\n",
       "<table border=\"1\" class=\"dataframe\">\n",
       "  <thead>\n",
       "    <tr style=\"text-align: right;\">\n",
       "      <th></th>\n",
       "      <th>CIRCUITPY323d_PPM</th>\n",
       "      <th>CIRCUITPY323d_C</th>\n",
       "      <th>CIRCUITPY323d_%</th>\n",
       "      <th>CIRCUITPY825a_Window</th>\n",
       "      <th>CIRCUITPYbec9_Person</th>\n",
       "    </tr>\n",
       "  </thead>\n",
       "  <tbody>\n",
       "    <tr>\n",
       "      <th>CIRCUITPY323d_PPM</th>\n",
       "      <td>1.000000</td>\n",
       "      <td>0.890530</td>\n",
       "      <td>0.589598</td>\n",
       "      <td>NaN</td>\n",
       "      <td>NaN</td>\n",
       "    </tr>\n",
       "    <tr>\n",
       "      <th>CIRCUITPY323d_C</th>\n",
       "      <td>0.890530</td>\n",
       "      <td>1.000000</td>\n",
       "      <td>0.190288</td>\n",
       "      <td>NaN</td>\n",
       "      <td>NaN</td>\n",
       "    </tr>\n",
       "    <tr>\n",
       "      <th>CIRCUITPY323d_%</th>\n",
       "      <td>0.589598</td>\n",
       "      <td>0.190288</td>\n",
       "      <td>1.000000</td>\n",
       "      <td>NaN</td>\n",
       "      <td>NaN</td>\n",
       "    </tr>\n",
       "    <tr>\n",
       "      <th>CIRCUITPY825a_Window</th>\n",
       "      <td>NaN</td>\n",
       "      <td>NaN</td>\n",
       "      <td>NaN</td>\n",
       "      <td>NaN</td>\n",
       "      <td>NaN</td>\n",
       "    </tr>\n",
       "    <tr>\n",
       "      <th>CIRCUITPYbec9_Person</th>\n",
       "      <td>NaN</td>\n",
       "      <td>NaN</td>\n",
       "      <td>NaN</td>\n",
       "      <td>NaN</td>\n",
       "      <td>NaN</td>\n",
       "    </tr>\n",
       "  </tbody>\n",
       "</table>\n",
       "</div>"
      ],
      "text/plain": [
       "                      CIRCUITPY323d_PPM  CIRCUITPY323d_C  CIRCUITPY323d_%  \\\n",
       "CIRCUITPY323d_PPM              1.000000         0.890530         0.589598   \n",
       "CIRCUITPY323d_C                0.890530         1.000000         0.190288   \n",
       "CIRCUITPY323d_%                0.589598         0.190288         1.000000   \n",
       "CIRCUITPY825a_Window                NaN              NaN              NaN   \n",
       "CIRCUITPYbec9_Person                NaN              NaN              NaN   \n",
       "\n",
       "                      CIRCUITPY825a_Window  CIRCUITPYbec9_Person  \n",
       "CIRCUITPY323d_PPM                      NaN                   NaN  \n",
       "CIRCUITPY323d_C                        NaN                   NaN  \n",
       "CIRCUITPY323d_%                        NaN                   NaN  \n",
       "CIRCUITPY825a_Window                   NaN                   NaN  \n",
       "CIRCUITPYbec9_Person                   NaN                   NaN  "
      ]
     },
     "execution_count": 43,
     "metadata": {},
     "output_type": "execute_result"
    }
   ],
   "source": [
    "#calculate correleation between two columns\n",
    "df_timewindow.corr(method=\"pearson\")"
   ]
  },
  {
   "cell_type": "markdown",
   "metadata": {
    "collapsed": false,
    "pycharm": {
     "name": "#%% md\n"
    }
   },
   "source": [
    "Janis Ideen data wrangling"
   ]
  },
  {
   "cell_type": "code",
   "execution_count": 44,
   "metadata": {
    "collapsed": false,
    "pycharm": {
     "is_executing": true,
     "name": "#%%\n"
    }
   },
   "outputs": [
    {
     "name": "stdout",
     "output_type": "stream",
     "text": [
      "<class 'pandas.core.frame.DataFrame'>\n",
      "DatetimeIndex: 21 entries, 2022-04-23 18:00:00+00:00 to 2022-04-23 18:20:00+00:00\n",
      "Freq: T\n",
      "Data columns (total 6 columns):\n",
      " #   Column                Non-Null Count  Dtype  \n",
      "---  ------                --------------  -----  \n",
      " 0   CIRCUITPY323d_PPM     21 non-null     float64\n",
      " 1   CIRCUITPY323d_C       21 non-null     float64\n",
      " 2   CIRCUITPY323d_%       21 non-null     float64\n",
      " 3   CIRCUITPY825a_Window  21 non-null     float64\n",
      " 4   CIRCUITPYbec9_Person  21 non-null     float64\n",
      " 5   air_quality           21 non-null     object \n",
      "dtypes: float64(5), object(1)\n",
      "memory usage: 1.1+ KB\n"
     ]
    }
   ],
   "source": [
    "df_timewindow.info()"
   ]
  },
  {
   "cell_type": "code",
   "execution_count": 45,
   "metadata": {
    "collapsed": false,
    "pycharm": {
     "is_executing": true,
     "name": "#%%\n"
    }
   },
   "outputs": [
    {
     "name": "stderr",
     "output_type": "stream",
     "text": [
      "/Library/Frameworks/Python.framework/Versions/3.9/lib/python3.9/site-packages/seaborn/_decorators.py:36: FutureWarning: Pass the following variable as a keyword arg: x. From version 0.12, the only valid positional argument will be `data`, and passing other arguments without an explicit keyword will result in an error or misinterpretation.\n",
      "  warnings.warn(\n",
      "/Library/Frameworks/Python.framework/Versions/3.9/lib/python3.9/site-packages/seaborn/distributions.py:2619: FutureWarning: `distplot` is a deprecated function and will be removed in a future version. Please adapt your code to use either `displot` (a figure-level function with similar flexibility) or `histplot` (an axes-level function for histograms).\n",
      "  warnings.warn(msg, FutureWarning)\n"
     ]
    },
    {
     "data": {
      "image/png": "[encoded data removed]",
      "text/plain": [
       "<Figure size 648x432 with 2 Axes>"
      ]
     },
     "metadata": {
      "needs_background": "light"
     },
     "output_type": "display_data"
    },
    {
     "name": "stderr",
     "output_type": "stream",
     "text": [
      "/Library/Frameworks/Python.framework/Versions/3.9/lib/python3.9/site-packages/seaborn/_decorators.py:36: FutureWarning: Pass the following variable as a keyword arg: x. From version 0.12, the only valid positional argument will be `data`, and passing other arguments without an explicit keyword will result in an error or misinterpretation.\n",
      "  warnings.warn(\n",
      "/Library/Frameworks/Python.framework/Versions/3.9/lib/python3.9/site-packages/seaborn/distributions.py:2619: FutureWarning: `distplot` is a deprecated function and will be removed in a future version. Please adapt your code to use either `displot` (a figure-level function with similar flexibility) or `histplot` (an axes-level function for histograms).\n",
      "  warnings.warn(msg, FutureWarning)\n"
     ]
    },
    {
     "data": {
      "image/png": "[encoded data removed]",
      "text/plain": [
       "<Figure size 648x432 with 2 Axes>"
      ]
     },
     "metadata": {
      "needs_background": "light"
     },
     "output_type": "display_data"
    },
    {
     "name": "stderr",
     "output_type": "stream",
     "text": [
      "/Library/Frameworks/Python.framework/Versions/3.9/lib/python3.9/site-packages/seaborn/_decorators.py:36: FutureWarning: Pass the following variable as a keyword arg: x. From version 0.12, the only valid positional argument will be `data`, and passing other arguments without an explicit keyword will result in an error or misinterpretation.\n",
      "  warnings.warn(\n",
      "/Library/Frameworks/Python.framework/Versions/3.9/lib/python3.9/site-packages/seaborn/distributions.py:2619: FutureWarning: `distplot` is a deprecated function and will be removed in a future version. Please adapt your code to use either `displot` (a figure-level function with similar flexibility) or `histplot` (an axes-level function for histograms).\n",
      "  warnings.warn(msg, FutureWarning)\n"
     ]
    },
    {
     "data": {
      "image/png": "[encoded data removed]",
      "text/plain": [
       "<Figure size 648x432 with 2 Axes>"
      ]
     },
     "metadata": {
      "needs_background": "light"
     },
     "output_type": "display_data"
    },
    {
     "name": "stderr",
     "output_type": "stream",
     "text": [
      "/Library/Frameworks/Python.framework/Versions/3.9/lib/python3.9/site-packages/seaborn/_decorators.py:36: FutureWarning: Pass the following variable as a keyword arg: x. From version 0.12, the only valid positional argument will be `data`, and passing other arguments without an explicit keyword will result in an error or misinterpretation.\n",
      "  warnings.warn(\n",
      "/Library/Frameworks/Python.framework/Versions/3.9/lib/python3.9/site-packages/seaborn/distributions.py:2619: FutureWarning: `distplot` is a deprecated function and will be removed in a future version. Please adapt your code to use either `displot` (a figure-level function with similar flexibility) or `histplot` (an axes-level function for histograms).\n",
      "  warnings.warn(msg, FutureWarning)\n",
      "/Library/Frameworks/Python.framework/Versions/3.9/lib/python3.9/site-packages/seaborn/distributions.py:316: UserWarning: Dataset has 0 variance; skipping density estimate. Pass `warn_singular=False` to disable this warning.\n",
      "  warnings.warn(msg, UserWarning)\n"
     ]
    },
    {
     "data": {
      "image/png": "[encoded data removed]",
      "text/plain": [
       "<Figure size 648x432 with 2 Axes>"
      ]
     },
     "metadata": {
      "needs_background": "light"
     },
     "output_type": "display_data"
    }
   ],
   "source": [
    "#detect outliers in PPM data\n",
    "#print boxlot\n",
    "utils.overview(df_timewindow, \"CIRCUITPY323d_PPM\")\n",
    "utils.overview(df_timewindow, \"CIRCUITPY323d_C\")\n",
    "utils.overview(df_timewindow, \"CIRCUITPY323d_%\")\n",
    "utils.overview(df_timewindow, \"CIRCUITPYbec9_Person\")"
   ]
  },
  {
   "cell_type": "code",
   "execution_count": 46,
   "metadata": {
    "collapsed": false,
    "pycharm": {
     "is_executing": true,
     "name": "#%%\n"
    }
   },
   "outputs": [
    {
     "name": "stdout",
     "output_type": "stream",
     "text": [
      "579.4\n",
      "342.1\n"
     ]
    }
   ],
   "source": [
    "print(df_timewindow['CIRCUITPY323d_PPM'].max())\n",
    "print(df_timewindow['CIRCUITPY323d_PPM'].min())"
   ]
  },
  {
   "cell_type": "code",
   "execution_count": 47,
   "metadata": {
    "collapsed": false,
    "pycharm": {
     "is_executing": true,
     "name": "#%%\n"
    }
   },
   "outputs": [],
   "source": [
    "df_ppm_high = pd.DataFrame\n",
    "df_ppm_high = df_timewindow[df_timewindow[\"air_quality\"] == \"high\"]"
   ]
  },
  {
   "cell_type": "code",
   "execution_count": 48,
   "metadata": {
    "collapsed": false,
    "pycharm": {
     "is_executing": true,
     "name": "#%%\n"
    }
   },
   "outputs": [
    {
     "data": {
      "text/html": [
       "<div>\n",
       "<style scoped>\n",
       "    .dataframe tbody tr th:only-of-type {\n",
       "        vertical-align: middle;\n",
       "    }\n",
       "\n",
       "    .dataframe tbody tr th {\n",
       "        vertical-align: top;\n",
       "    }\n",
       "\n",
       "    .dataframe thead th {\n",
       "        text-align: right;\n",
       "    }\n",
       "</style>\n",
       "<table border=\"1\" class=\"dataframe\">\n",
       "  <thead>\n",
       "    <tr style=\"text-align: right;\">\n",
       "      <th></th>\n",
       "      <th>CIRCUITPY323d_PPM</th>\n",
       "      <th>CIRCUITPY323d_C</th>\n",
       "      <th>CIRCUITPY323d_%</th>\n",
       "      <th>CIRCUITPY825a_Window</th>\n",
       "      <th>CIRCUITPYbec9_Person</th>\n",
       "      <th>air_quality</th>\n",
       "    </tr>\n",
       "    <tr>\n",
       "      <th>insert_time</th>\n",
       "      <th></th>\n",
       "      <th></th>\n",
       "      <th></th>\n",
       "      <th></th>\n",
       "      <th></th>\n",
       "      <th></th>\n",
       "    </tr>\n",
       "  </thead>\n",
       "  <tbody>\n",
       "  </tbody>\n",
       "</table>\n",
       "</div>"
      ],
      "text/plain": [
       "Empty DataFrame\n",
       "Columns: [CIRCUITPY323d_PPM, CIRCUITPY323d_C, CIRCUITPY323d_%, CIRCUITPY825a_Window, CIRCUITPYbec9_Person, air_quality]\n",
       "Index: []"
      ]
     },
     "execution_count": 48,
     "metadata": {},
     "output_type": "execute_result"
    }
   ],
   "source": [
    "df_ppm_high"
   ]
  }
 ],
 "metadata": {
  "interpreter": {
   "hash": "aee8b7b246df8f9039afb4144a1f6fd8d2ca17a180786b69acc140d282b71a49"
  },
  "kernelspec": {
   "display_name": "Python 3.9.6 64-bit",
   "language": "python",
   "name": "python3"
  },
  "language_info": {
   "codemirror_mode": {
    "name": "ipython",
    "version": 3
   },
   "file_extension": ".py",
   "mimetype": "text/x-python",
   "name": "python",
   "nbconvert_exporter": "python",
   "pygments_lexer": "ipython3",
   "version": "3.9.7"
  },
  "orig_nbformat": 4
 },
 "nbformat": 4,
 "nbformat_minor": 2
}
