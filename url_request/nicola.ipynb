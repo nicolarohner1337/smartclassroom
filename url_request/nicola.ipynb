{
 "cells": [
  {
   "cell_type": "code",
   "execution_count": null,
   "metadata": {
    "pycharm": {
     "is_executing": true
    }
   },
   "outputs": [],
   "source": [
    "import pathlib\n",
    "import seaborn as sns\n",
    "import utils\n",
    "import pandas as pd\n",
    "import requests\n",
    "import numpy as np\n",
    "import matplotlib.pyplot as plt\n",
    "\n",
    "url = 'https://glusfqycvwrucp9-db202202211424.adb.eu-zurich-1.oraclecloudapps.com/ords/sensor_datalake1/sens/insert/'\n",
    "\n",
    "page_result = utils.get_all_pages(url)\n",
    "\n",
    "df = utils.to_data_frame(page_result)"
   ]
  },
  {
   "cell_type": "code",
   "execution_count": null,
   "metadata": {
    "pycharm": {
     "is_executing": true
    }
   },
   "outputs": [],
   "source": [
    "df"
   ]
  },
  {
   "cell_type": "code",
   "execution_count": null,
   "metadata": {
    "pycharm": {
     "is_executing": true
    }
   },
   "outputs": [],
   "source": [
    "#convert inser_time to timedate\n",
    "df['insert_time'] = pd.to_datetime(df['insert_time'])\n",
    "#and add 2 hours to insert time\n",
    "df['insert_time'] = df['insert_time'] + pd.Timedelta(hours=2)\n",
    "\n",
    "df.info()"
   ]
  },
  {
   "cell_type": "code",
   "execution_count": null,
   "metadata": {
    "pycharm": {
     "is_executing": true
    }
   },
   "outputs": [],
   "source": [
    "#pivot\n",
    "df_pivot = df.pivot_table(index='insert_time',columns=['sensor_id','unit1'],values='value1')\n",
    "#multindex to single index\n",
    "df_pivot.columns =\tdf_pivot.columns.map('_'.join)\n",
    "#resample on 5min time windows\n",
    "\n",
    "df_pivot = df_pivot.resample('5Min').agg({'CIRCUITPY323d_PPM':'mean', 'CIRCUITPY323d_C':'mean','CIRCUITPY323d_%':'mean','CIRCUITPY323d_%':'mean','CIRCUITPY825a_Window':'last','CIRCUITPYbec9_Person':'last'})\n",
    "df_pivot.head(30)"
   ]
  },
  {
   "cell_type": "code",
   "execution_count": null,
   "outputs": [],
   "source": [
    "#neue Variable die die Luftqualität Quantitativ einordnet\n",
    "df_pivot[\"air_quality\"] = 0\n",
    "for i in range(len(df_pivot)):\n",
    "    if df_pivot[\"CIRCUITPY323d_PPM\"][i] <= 800:\n",
    "        df_pivot[\"air_quality\"] = \"top\"\n",
    "    elif 800 < df_pivot[\"CIRCUITPY323d_PPM\"][i] <= 1000:\n",
    "        df_pivot[\"air_quality\"] = \"high\"\n",
    "    elif 1000 < df_pivot[\"CIRCUITPY323d_PPM\"][i] <= 1400:\n",
    "        df_pivot[\"air_quality\"] = \"medium\"\n",
    "    elif 1400 < df_pivot[\"CIRCUITPY323d_PPM\"][i]:\n",
    "        df_pivot[\"air_quality\"] = \"low\""
   ],
   "metadata": {
    "collapsed": false,
    "pycharm": {
     "name": "#%%\n"
    }
   }
  },
  {
   "cell_type": "code",
   "execution_count": null,
   "metadata": {
    "pycharm": {
     "is_executing": true
    }
   },
   "outputs": [],
   "source": [
    "#select specific time window\n",
    "df_timewindow = df_pivot.loc['2022-03-30 12:30:00':'2022-04-26 7:54:00']"
   ]
  },
  {
   "cell_type": "code",
   "execution_count": null,
   "metadata": {
    "pycharm": {
     "is_executing": true
    }
   },
   "outputs": [],
   "source": [
    "#Fill Nan for window sensor\n",
    "df_timewindow['CIRCUITPY825a_Window'].fillna(method='ffill',inplace=True)\n",
    "df_timewindow['CIRCUITPY825a_Window'].fillna(method='bfill',inplace=True)\n",
    "#Fill Nan for people sensor\n",
    "df_timewindow['CIRCUITPYbec9_Person'].fillna(method='ffill',inplace=True)\n",
    "#Fill Nan for first entry for people sensor\n",
    "df_timewindow['CIRCUITPYbec9_Person'].fillna(method='bfill',inplace=True)\n",
    "\n",
    "df_timewindow.head(5)"
   ]
  },
  {
   "cell_type": "code",
   "execution_count": null,
   "metadata": {
    "pycharm": {
     "is_executing": true
    }
   },
   "outputs": [],
   "source": [
    "#linechart cobined with bar chart\n",
    "#if windows sensor 1 blue line if windows sensor 0 red line\n",
    "# Use a boundary norm instead\n",
    "fig, ax1 = plt.subplots()\n",
    "#hide grid\n",
    "ax1 = df_timewindow['CIRCUITPY323d_PPM'].plot(kind='line',color='blue',label='PPM', grid=False)\n",
    "ax3 = ax1.twinx()\n",
    "ax3 = df_timewindow['CIRCUITPY323d_C'].plot(kind='line',color='red',label='C', grid=False,ylim=(0,30))\n",
    "ax4 = ax1.twinx()\n",
    "ax4 = df_timewindow['CIRCUITPY323d_%'].plot(kind='line',color='green',label='%', grid=False,ylim=(20,60))\n",
    "ax2 = ax1.twinx()\n",
    "ax2 = df_timewindow['CIRCUITPYbec9_Person'].plot(kind='line',color='red',label='People Count',ylim=(0,5))\n",
    "ax1.pcolorfast(ax1.get_xlim(), ax1.get_ylim(),df_timewindow['CIRCUITPY825a_Window'].values[np.newaxis],cmap='RdYlGn', alpha=0.3,label='Windows')\n",
    "#set size\n",
    "ax1.figure.set_size_inches(20, 5)\n",
    "#show legend\n",
    "ax1.legend(loc='upper left')\n",
    "ax2.legend(loc='upper right')\n",
    "ax3.legend(loc='center right')\n",
    "ax4.legend(loc='lower right')\n",
    "#additonal legend for window sensor\n",
    "\n",
    "\n",
    "plt.show()"
   ]
  },
  {
   "cell_type": "code",
   "execution_count": null,
   "metadata": {
    "pycharm": {
     "is_executing": true
    }
   },
   "outputs": [],
   "source": [
    "#calculate correleation between two columns\n",
    "df_timewindow.corr()"
   ]
  },
  {
   "cell_type": "markdown",
   "source": [
    "Janis Ideen data wrangling"
   ],
   "metadata": {
    "collapsed": false,
    "pycharm": {
     "name": "#%% md\n"
    }
   }
  },
  {
   "cell_type": "code",
   "execution_count": 33,
   "outputs": [
    {
     "name": "stdout",
     "output_type": "stream",
     "text": [
      "<class 'pandas.core.frame.DataFrame'>\n",
      "DatetimeIndex: 9511 entries, 2022-03-24 16:00:00+00:00 to 2022-04-26 16:30:00+00:00\n",
      "Freq: 5T\n",
      "Data columns (total 5 columns):\n",
      " #   Column                Non-Null Count  Dtype  \n",
      "---  ------                --------------  -----  \n",
      " 0   CIRCUITPY323d_PPM     6128 non-null   float64\n",
      " 1   CIRCUITPY323d_C       6127 non-null   float64\n",
      " 2   CIRCUITPY323d_%       6125 non-null   float64\n",
      " 3   CIRCUITPY825a_Window  7734 non-null   float64\n",
      " 4   CIRCUITPYbec9_Person  7733 non-null   float64\n",
      "dtypes: float64(5)\n",
      "memory usage: 703.9 KB\n"
     ]
    }
   ],
   "source": [
    "df_pivot.info()"
   ],
   "metadata": {
    "collapsed": false,
    "pycharm": {
     "name": "#%%\n"
    }
   }
  },
  {
   "cell_type": "code",
   "execution_count": 21,
   "outputs": [
    {
     "name": "stderr",
     "output_type": "stream",
     "text": [
      "/Users/janisfrolich/opt/anaconda3/lib/python3.9/site-packages/seaborn/_decorators.py:36: FutureWarning: Pass the following variable as a keyword arg: x. From version 0.12, the only valid positional argument will be `data`, and passing other arguments without an explicit keyword will result in an error or misinterpretation.\n",
      "  warnings.warn(\n",
      "/Users/janisfrolich/opt/anaconda3/lib/python3.9/site-packages/seaborn/_decorators.py:36: FutureWarning: Pass the following variable as a keyword arg: x. From version 0.12, the only valid positional argument will be `data`, and passing other arguments without an explicit keyword will result in an error or misinterpretation.\n",
      "  warnings.warn(\n",
      "/Users/janisfrolich/opt/anaconda3/lib/python3.9/site-packages/seaborn/_decorators.py:36: FutureWarning: Pass the following variable as a keyword arg: x. From version 0.12, the only valid positional argument will be `data`, and passing other arguments without an explicit keyword will result in an error or misinterpretation.\n",
      "  warnings.warn(\n",
      "/Users/janisfrolich/opt/anaconda3/lib/python3.9/site-packages/seaborn/_decorators.py:36: FutureWarning: Pass the following variable as a keyword arg: x. From version 0.12, the only valid positional argument will be `data`, and passing other arguments without an explicit keyword will result in an error or misinterpretation.\n",
      "  warnings.warn(\n"
     ]
    },
    {
     "data": {
      "text/plain": "<AxesSubplot:xlabel='CIRCUITPYbec9_Person'>"
     },
     "execution_count": 21,
     "metadata": {},
     "output_type": "execute_result"
    },
    {
     "data": {
      "text/plain": "<Figure size 432x288 with 1 Axes>",
      "image/png": "[encoded data removed]"
     },
     "metadata": {
      "needs_background": "light"
     },
     "output_type": "display_data"
    }
   ],
   "source": [
    "#detect outliers in PPM data\n",
    "#print boxlot\n",
    "utils.overview(df_pivot, \"CIRCUITPY323d_PPM\")\n",
    "utils.overview(df_pivot, \"CIRCUITPY323d_C\")\n",
    "utils.overview(df_pivot, \"CIRCUITPY323d_%\")\n",
    "utils.overview(df_pivot, \"CIRCUITPYbec9_Person\")"
   ],
   "metadata": {
    "collapsed": false,
    "pycharm": {
     "name": "#%%\n"
    }
   }
  },
  {
   "cell_type": "code",
   "execution_count": null,
   "outputs": [],
   "source": [
    "print(df_timewindow['CIRCUITPY323d_PPM'].max())\n",
    "print(df_timewindow['CIRCUITPY323d_PPM'].min())"
   ],
   "metadata": {
    "collapsed": false,
    "pycharm": {
     "name": "#%%\n"
    }
   }
  },
  {
   "cell_type": "code",
   "execution_count": null,
   "outputs": [],
   "source": [],
   "metadata": {
    "collapsed": false,
    "pycharm": {
     "name": "#%%\n"
    }
   }
  }
 ],
 "metadata": {
  "interpreter": {
   "hash": "aee8b7b246df8f9039afb4144a1f6fd8d2ca17a180786b69acc140d282b71a49"
  },
  "kernelspec": {
   "display_name": "Python 3.9.6 64-bit",
   "language": "python",
   "name": "python3"
  },
  "language_info": {
   "codemirror_mode": {
    "name": "ipython",
    "version": 3
   },
   "file_extension": ".py",
   "mimetype": "text/x-python",
   "name": "python",
   "nbconvert_exporter": "python",
   "pygments_lexer": "ipython3",
   "version": "3.9.7"
  },
  "orig_nbformat": 4
 },
 "nbformat": 4,
 "nbformat_minor": 2
}