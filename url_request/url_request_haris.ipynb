{
 "cells": [
  {
   "cell_type": "code",
   "execution_count": 1,
   "metadata": {},
   "outputs": [
    {
     "name": "stdout",
     "output_type": "stream",
     "text": [
      "dict_keys(['items', 'hasMore', 'limit', 'offset', 'count', 'links'])\n"
     ]
    }
   ],
   "source": [
    "import requests\n",
    "import pandas as pd\n",
    "\n",
    "url = 'https://glusfqycvwrucp9-db202202211424.adb.eu-zurich-1.oraclecloudapps.com/ords/sensor_datalake1/sens/insert/'\n",
    "\n",
    "response_ = requests.get(url)\n",
    "response_ = response_.json()\n",
    "print(response_.keys())"
   ]
  },
  {
   "cell_type": "code",
   "execution_count": 2,
   "metadata": {},
   "outputs": [
    {
     "data": {
      "text/plain": [
       "True"
      ]
     },
     "execution_count": 2,
     "metadata": {},
     "output_type": "execute_result"
    }
   ],
   "source": [
    "response_['hasMore']"
   ]
  },
  {
   "cell_type": "code",
   "execution_count": 3,
   "metadata": {},
   "outputs": [
    {
     "data": {
      "text/plain": [
       "[{'rel': 'self',\n",
       "  'href': 'https://glusfqycvwrucp9-db202202211424.adb.eu-zurich-1.oraclecloudapps.com/ords/sensor_datalake1/sens/insert/'},\n",
       " {'rel': 'edit',\n",
       "  'href': 'https://glusfqycvwrucp9-db202202211424.adb.eu-zurich-1.oraclecloudapps.com/ords/sensor_datalake1/sens/insert/'},\n",
       " {'rel': 'describedby',\n",
       "  'href': 'https://glusfqycvwrucp9-db202202211424.adb.eu-zurich-1.oraclecloudapps.com/ords/sensor_datalake1/metadata-catalog/sens/insert/'},\n",
       " {'rel': 'first',\n",
       "  'href': 'https://glusfqycvwrucp9-db202202211424.adb.eu-zurich-1.oraclecloudapps.com/ords/sensor_datalake1/sens/insert/'},\n",
       " {'rel': 'next',\n",
       "  'href': 'https://glusfqycvwrucp9-db202202211424.adb.eu-zurich-1.oraclecloudapps.com/ords/sensor_datalake1/sens/insert/?offset=200'}]"
      ]
     },
     "execution_count": 3,
     "metadata": {},
     "output_type": "execute_result"
    }
   ],
   "source": [
    "response_['links']"
   ]
  },
  {
   "cell_type": "code",
   "execution_count": 4,
   "metadata": {},
   "outputs": [
    {
     "name": "stdout",
     "output_type": "stream",
     "text": [
      "https://glusfqycvwrucp9-db202202211424.adb.eu-zurich-1.oraclecloudapps.com/ords/sensor_datalake1/sens/insert/?offset=200\n"
     ]
    }
   ],
   "source": [
    "for elem in response_['links']:\n",
    "    for k, v in elem.items():\n",
    "        pass\n",
    "        if v == 'next':\n",
    "            print(elem['href'])"
   ]
  },
  {
   "cell_type": "code",
   "execution_count": 5,
   "metadata": {},
   "outputs": [
    {
     "name": "stdout",
     "output_type": "stream",
     "text": [
      "1\n"
     ]
    }
   ],
   "source": [
    "def get_all_pages(url, liste=[]):\n",
    "    '''return database items'''\n",
    "    response_ = requests.get(url)\n",
    "    response_ = response_.json()\n",
    "    if response_['hasMore'] != True:\n",
    "        #liste.append(response_['items'])\n",
    "        return liste\n",
    "    else:\n",
    "        liste.append(response_['items'])\n",
    "        for elem in response_['links']:\n",
    "            for k, v in elem.items():\n",
    "                if v == 'next':\n",
    "                    new_url = elem['href']\n",
    "        return get_all_pages(new_url, liste)\n",
    "result = get_all_pages(url)\n",
    "print(len(result))"
   ]
  },
  {
   "cell_type": "code",
   "execution_count": 6,
   "metadata": {},
   "outputs": [
    {
     "name": "stdout",
     "output_type": "stream",
     "text": [
      "[{'entry_id': 838, 'insert_time': '2022-03-17T13:26:08.881Z', 'sensor_id': 'CIRCUITPY825a', 'value1': 0, 'unit1': 'Window'}, {'entry_id': 842, 'insert_time': '2022-03-17T13:26:36.072Z', 'sensor_id': 'CIRCUITPY323d', 'value1': 34.3, 'unit1': '%'}, {'entry_id': 847, 'insert_time': '2022-03-17T13:27:06.677Z', 'sensor_id': 'CIRCUITPYbec9', 'value1': 0, 'unit1': 'Window'}, {'entry_id': 853, 'insert_time': '2022-03-17T13:27:57.358Z', 'sensor_id': 'CIRCUITPY825a', 'value1': 0, 'unit1': 'Window'}, {'entry_id': 856, 'insert_time': '2022-03-17T13:28:25.393Z', 'sensor_id': 'CIRCUITPYbec9', 'value1': 0, 'unit1': 'Window'}, {'entry_id': 859, 'insert_time': '2022-03-17T13:28:49.356Z', 'sensor_id': 'CIRCUITPY323d', 'value1': 34.2, 'unit1': '%'}, {'entry_id': 884, 'insert_time': '2022-03-17T13:32:03.541Z', 'sensor_id': 'CIRCUITPYbec9', 'value1': 1, 'unit1': 'Window'}, {'entry_id': 868, 'insert_time': '2022-03-17T13:29:48.561Z', 'sensor_id': 'CIRCUITPYbec9', 'value1': 1, 'unit1': 'Window'}, {'entry_id': 876, 'insert_time': '2022-03-17T13:31:07.162Z', 'sensor_id': 'CIRCUITPY825a', 'value1': 1, 'unit1': 'Window'}, {'entry_id': 880, 'insert_time': '2022-03-17T13:31:33.371Z', 'sensor_id': 'CIRCUITPY323d', 'value1': 34.4, 'unit1': '%'}, {'entry_id': 883, 'insert_time': '2022-03-17T13:32:01.237Z', 'sensor_id': 'CIRCUITPY825a', 'value1': 1, 'unit1': 'Window'}, {'entry_id': 888, 'insert_time': '2022-03-17T13:32:30.150Z', 'sensor_id': 'CIRCUITPY825a', 'value1': 1, 'unit1': 'Window'}, {'entry_id': 891, 'insert_time': '2022-03-17T13:33:03.295Z', 'sensor_id': 'CIRCUITPYbec9', 'value1': 1, 'unit1': 'Window'}, {'entry_id': 896, 'insert_time': '2022-03-17T13:33:32.354Z', 'sensor_id': 'CIRCUITPYbec9', 'value1': 1, 'unit1': 'Window'}, {'entry_id': 899, 'insert_time': '2022-03-17T13:34:19.721Z', 'sensor_id': 'CIRCUITPY323d', 'value1': 660.7, 'unit1': 'PPM'}, {'entry_id': 902, 'insert_time': '2022-03-17T13:34:24.781Z', 'sensor_id': 'CIRCUITPY825a', 'value1': 1, 'unit1': 'Window'}, {'entry_id': 906, 'insert_time': '2022-03-17T13:35:14.328Z', 'sensor_id': 'CIRCUITPY323d', 'value1': 752.9, 'unit1': 'PPM'}, {'entry_id': 907, 'insert_time': '2022-03-17T13:35:15.411Z', 'sensor_id': 'CIRCUITPY323d', 'value1': 25.2, 'unit1': 'C'}, {'entry_id': 912, 'insert_time': '2022-03-17T13:35:42.834Z', 'sensor_id': 'CIRCUITPY323d', 'value1': 25.2, 'unit1': 'C'}, {'entry_id': 913, 'insert_time': '2022-03-17T13:35:43.973Z', 'sensor_id': 'CIRCUITPY323d', 'value1': 34.6, 'unit1': '%'}, {'entry_id': 918, 'insert_time': '2022-03-17T13:36:34.823Z', 'sensor_id': 'CIRCUITPY323d', 'value1': 701.2, 'unit1': 'PPM'}, {'entry_id': 920, 'insert_time': '2022-03-17T13:36:36.990Z', 'sensor_id': 'CIRCUITPY323d', 'value1': 34.7, 'unit1': '%'}, {'entry_id': 921, 'insert_time': '2022-03-17T13:36:39.125Z', 'sensor_id': 'CIRCUITPY825a', 'value1': 1, 'unit1': 'Window'}, {'entry_id': 922, 'insert_time': '2022-03-17T13:36:41.223Z', 'sensor_id': 'CIRCUITPYbec9', 'value1': 1, 'unit1': 'Window'}, {'entry_id': 924, 'insert_time': '2022-03-17T13:37:03.347Z', 'sensor_id': 'CIRCUITPY323d', 'value1': 25.1, 'unit1': 'C'}, {'entry_id': 929, 'insert_time': '2022-03-17T13:37:33.922Z', 'sensor_id': 'CIRCUITPYbec9', 'value1': 1, 'unit1': 'Window'}, {'entry_id': 934, 'insert_time': '2022-03-17T13:38:01.640Z', 'sensor_id': 'CIRCUITPYbec9', 'value1': 1, 'unit1': 'Window'}, {'entry_id': 939, 'insert_time': '2022-03-17T13:38:30.042Z', 'sensor_id': 'CIRCUITPYbec9', 'value1': 1, 'unit1': 'Window'}, {'entry_id': 943, 'insert_time': '2022-03-17T13:39:18.838Z', 'sensor_id': 'CIRCUITPY323d', 'value1': 25, 'unit1': 'C'}, {'entry_id': 951, 'insert_time': '2022-03-17T13:40:13.694Z', 'sensor_id': 'CIRCUITPY323d', 'value1': 35, 'unit1': '%'}, {'entry_id': 954, 'insert_time': '2022-03-17T13:40:40.205Z', 'sensor_id': 'CIRCUITPY323d', 'value1': 635.8, 'unit1': 'PPM'}, {'entry_id': 956, 'insert_time': '2022-03-17T13:40:42.336Z', 'sensor_id': 'CIRCUITPY323d', 'value1': 35, 'unit1': '%'}, {'entry_id': 958, 'insert_time': '2022-03-17T13:40:46.594Z', 'sensor_id': 'CIRCUITPYbec9', 'value1': 1, 'unit1': 'Window'}, {'entry_id': 969, 'insert_time': '2022-03-17T13:42:09.352Z', 'sensor_id': 'CIRCUITPY825a', 'value1': 1, 'unit1': 'Window'}, {'entry_id': 972, 'insert_time': '2022-03-17T13:42:34.114Z', 'sensor_id': 'CIRCUITPY323d', 'value1': 24.9, 'unit1': 'C'}, {'entry_id': 979, 'insert_time': '2022-03-17T13:43:05.924Z', 'sensor_id': 'CIRCUITPY825a', 'value1': 1, 'unit1': 'Window'}, {'entry_id': 980, 'insert_time': '2022-03-17T13:43:08.089Z', 'sensor_id': 'CIRCUITPYbec9', 'value1': 1, 'unit1': 'Window'}, {'entry_id': 988, 'insert_time': '2022-03-17T13:44:00.569Z', 'sensor_id': 'CIRCUITPY323d', 'value1': 35.2, 'unit1': '%'}, {'entry_id': 995, 'insert_time': '2022-03-17T13:44:33.648Z', 'sensor_id': 'CIRCUITPYbec9', 'value1': 1, 'unit1': 'Window'}, {'entry_id': 1007, 'insert_time': '2022-03-17T13:45:53.627Z', 'sensor_id': 'CIRCUITPY323d', 'value1': 25, 'unit1': 'C'}, {'entry_id': 1009, 'insert_time': '2022-03-17T13:45:57.328Z', 'sensor_id': 'CIRCUITPY825a', 'value1': 1, 'unit1': 'Window'}, {'entry_id': 1014, 'insert_time': '2022-03-17T13:46:25.321Z', 'sensor_id': 'CIRCUITPY825a', 'value1': 1, 'unit1': 'Window'}, {'entry_id': 1023, 'insert_time': '2022-03-17T13:47:46.729Z', 'sensor_id': 'CIRCUITPY323d', 'value1': 620.3, 'unit1': 'PPM'}, {'entry_id': 1025, 'insert_time': '2022-03-17T13:47:52.494Z', 'sensor_id': 'CIRCUITPY323d', 'value1': 35.2, 'unit1': '%'}, {'entry_id': 1029, 'insert_time': '2022-03-17T13:51:39.578Z', 'sensor_id': 'CIRCUITPY825a', 'value1': 1, 'unit1': 'Window'}, {'entry_id': 1033, 'insert_time': '2022-03-17T13:52:29.665Z', 'sensor_id': 'CIRCUITPY825a', 'value1': 1, 'unit1': 'Window'}, {'entry_id': 1035, 'insert_time': '2022-03-17T13:52:55.131Z', 'sensor_id': 'CIRCUITPY825a', 'value1': 1, 'unit1': 'Window'}, {'entry_id': 1036, 'insert_time': '2022-03-17T13:53:05.147Z', 'sensor_id': 'CIRCUITPYbec9', 'value1': 0, 'unit1': 'Window'}, {'entry_id': 1040, 'insert_time': '2022-03-17T13:54:39.598Z', 'sensor_id': 'CIRCUITPYbec9', 'value1': 0, 'unit1': 'Window'}, {'entry_id': 1045, 'insert_time': '2022-03-17T13:56:04.003Z', 'sensor_id': 'CIRCUITPY825a', 'value1': 1, 'unit1': 'Window'}, {'entry_id': 1046, 'insert_time': '2022-03-17T13:56:06.235Z', 'sensor_id': 'CIRCUITPYbec9', 'value1': 0, 'unit1': 'Window'}, {'entry_id': 1047, 'insert_time': '2022-03-17T13:56:29.662Z', 'sensor_id': 'CIRCUITPY825a', 'value1': 1, 'unit1': 'Window'}, {'entry_id': 1058, 'insert_time': '2022-03-17T13:58:41.447Z', 'sensor_id': 'CIRCUITPYbec9', 'value1': 0, 'unit1': 'Window'}, {'entry_id': 1059, 'insert_time': '2022-03-17T13:59:05.510Z', 'sensor_id': 'CIRCUITPY825a', 'value1': 1, 'unit1': 'Window'}, {'entry_id': 1060, 'insert_time': '2022-03-17T13:59:07.522Z', 'sensor_id': 'CIRCUITPYbec9', 'value1': 0, 'unit1': 'Window'}, {'entry_id': 1061, 'insert_time': '2022-03-17T13:59:31.286Z', 'sensor_id': 'CIRCUITPY825a', 'value1': 1, 'unit1': 'Window'}, {'entry_id': 1064, 'insert_time': '2022-03-17T13:59:59.363Z', 'sensor_id': 'CIRCUITPYbec9', 'value1': 0, 'unit1': 'Window'}, {'entry_id': 1065, 'insert_time': '2022-03-17T14:00:22.397Z', 'sensor_id': 'CIRCUITPY825a', 'value1': 1, 'unit1': 'Window'}, {'entry_id': 1068, 'insert_time': '2022-03-17T14:00:50.076Z', 'sensor_id': 'CIRCUITPYbec9', 'value1': 0, 'unit1': 'Window'}, {'entry_id': 1069, 'insert_time': '2022-03-17T14:01:12.392Z', 'sensor_id': 'CIRCUITPY825a', 'value1': 1, 'unit1': 'Window'}, {'entry_id': 1074, 'insert_time': '2022-03-17T14:02:03.602Z', 'sensor_id': 'CIRCUITPYbec9', 'value1': 0, 'unit1': 'Window'}, {'entry_id': 1075, 'insert_time': '2022-03-17T14:02:25.568Z', 'sensor_id': 'CIRCUITPY825a', 'value1': 1, 'unit1': 'Window'}, {'entry_id': 1078, 'insert_time': '2022-03-17T14:02:51.810Z', 'sensor_id': 'CIRCUITPYbec9', 'value1': 0, 'unit1': 'Window'}, {'entry_id': 1082, 'insert_time': '2022-03-17T14:03:40.649Z', 'sensor_id': 'CIRCUITPYbec9', 'value1': 1, 'unit1': 'Window'}, {'entry_id': 1088, 'insert_time': '2022-03-17T14:06:29.260Z', 'sensor_id': 'CIRCUITPYbec9', 'value1': 0, 'unit1': 'Window'}, {'entry_id': 1090, 'insert_time': '2022-03-17T14:07:16.163Z', 'sensor_id': 'CIRCUITPYbec9', 'value1': 0, 'unit1': 'Window'}, {'entry_id': 1095, 'insert_time': '2022-03-17T14:08:35.579Z', 'sensor_id': 'CIRCUITPY825a', 'value1': 1, 'unit1': 'Window'}, {'entry_id': 1099, 'insert_time': '2022-03-17T14:12:54.232Z', 'sensor_id': 'CIRCUITPYbec9', 'value1': 0, 'unit1': 'Window'}, {'entry_id': 1101, 'insert_time': '2022-03-17T14:13:48.070Z', 'sensor_id': 'CIRCUITPYbec9', 'value1': 0, 'unit1': 'Window'}, {'entry_id': 1102, 'insert_time': '2022-03-17T14:14:11.412Z', 'sensor_id': 'CIRCUITPYbec9', 'value1': 0, 'unit1': 'Window'}, {'entry_id': 1103, 'insert_time': '2022-03-17T14:15:27.787Z', 'sensor_id': 'CIRCUITPYbec9', 'value1': 0, 'unit1': 'Window'}, {'entry_id': 885, 'insert_time': '2022-03-17T13:32:25.391Z', 'sensor_id': 'CIRCUITPY323d', 'value1': 690.2, 'unit1': 'PPM'}, {'entry_id': 887, 'insert_time': '2022-03-17T13:32:27.843Z', 'sensor_id': 'CIRCUITPY323d', 'value1': 34.6, 'unit1': '%'}, {'entry_id': 889, 'insert_time': '2022-03-17T13:32:32.501Z', 'sensor_id': 'CIRCUITPYbec9', 'value1': 1, 'unit1': 'Window'}, {'entry_id': 892, 'insert_time': '2022-03-17T13:33:24.920Z', 'sensor_id': 'CIRCUITPY323d', 'value1': 675.2, 'unit1': 'PPM'}, {'entry_id': 897, 'insert_time': '2022-03-17T13:33:55.815Z', 'sensor_id': 'CIRCUITPY825a', 'value1': 1, 'unit1': 'Window'}, {'entry_id': 901, 'insert_time': '2022-03-17T13:34:22.305Z', 'sensor_id': 'CIRCUITPY323d', 'value1': 34.5, 'unit1': '%'}, {'entry_id': 905, 'insert_time': '2022-03-17T13:34:52.327Z', 'sensor_id': 'CIRCUITPYbec9', 'value1': 1, 'unit1': 'Window'}, {'entry_id': 914, 'insert_time': '2022-03-17T13:35:46.100Z', 'sensor_id': 'CIRCUITPY825a', 'value1': 1, 'unit1': 'Window'}, {'entry_id': 919, 'insert_time': '2022-03-17T13:36:35.920Z', 'sensor_id': 'CIRCUITPY323d', 'value1': 25.1, 'unit1': 'C'}, {'entry_id': 925, 'insert_time': '2022-03-17T13:37:04.425Z', 'sensor_id': 'CIRCUITPY323d', 'value1': 34.8, 'unit1': '%'}, {'entry_id': 927, 'insert_time': '2022-03-17T13:37:08.665Z', 'sensor_id': 'CIRCUITPYbec9', 'value1': 1, 'unit1': 'Window'}, {'entry_id': 928, 'insert_time': '2022-03-17T13:37:31.744Z', 'sensor_id': 'CIRCUITPY825a', 'value1': 1, 'unit1': 'Window'}, {'entry_id': 930, 'insert_time': '2022-03-17T13:37:55.340Z', 'sensor_id': 'CIRCUITPY323d', 'value1': 672.5, 'unit1': 'PPM'}, {'entry_id': 933, 'insert_time': '2022-03-17T13:37:59.570Z', 'sensor_id': 'CIRCUITPY825a', 'value1': 1, 'unit1': 'Window'}, {'entry_id': 935, 'insert_time': '2022-03-17T13:38:22.687Z', 'sensor_id': 'CIRCUITPY323d', 'value1': 663.9, 'unit1': 'PPM'}, {'entry_id': 940, 'insert_time': '2022-03-17T13:38:54.301Z', 'sensor_id': 'CIRCUITPY825a', 'value1': 1, 'unit1': 'Window'}, {'entry_id': 941, 'insert_time': '2022-03-17T13:38:56.642Z', 'sensor_id': 'CIRCUITPYbec9', 'value1': 1, 'unit1': 'Window'}, {'entry_id': 942, 'insert_time': '2022-03-17T13:39:17.795Z', 'sensor_id': 'CIRCUITPY323d', 'value1': 647.6, 'unit1': 'PPM'}, {'entry_id': 946, 'insert_time': '2022-03-17T13:39:24.047Z', 'sensor_id': 'CIRCUITPYbec9', 'value1': 1, 'unit1': 'Window'}, {'entry_id': 947, 'insert_time': '2022-03-17T13:39:48.218Z', 'sensor_id': 'CIRCUITPY825a', 'value1': 1, 'unit1': 'Window'}, {'entry_id': 952, 'insert_time': '2022-03-17T13:40:15.891Z', 'sensor_id': 'CIRCUITPY825a', 'value1': 1, 'unit1': 'Window'}, {'entry_id': 961, 'insert_time': '2022-03-17T13:41:12.403Z', 'sensor_id': 'CIRCUITPY323d', 'value1': 35, 'unit1': '%'}, {'entry_id': 963, 'insert_time': '2022-03-17T13:41:16.623Z', 'sensor_id': 'CIRCUITPYbec9', 'value1': 1, 'unit1': 'Window'}, {'entry_id': 964, 'insert_time': '2022-03-17T13:41:38.563Z', 'sensor_id': 'CIRCUITPY323d', 'value1': 631.5, 'unit1': 'PPM'}, {'entry_id': 967, 'insert_time': '2022-03-17T13:41:42.976Z', 'sensor_id': 'CIRCUITPY825a', 'value1': 1, 'unit1': 'Window'}, {'entry_id': 968, 'insert_time': '2022-03-17T13:41:45.757Z', 'sensor_id': 'CIRCUITPYbec9', 'value1': 1, 'unit1': 'Window'}, {'entry_id': 971, 'insert_time': '2022-03-17T13:42:32.989Z', 'sensor_id': 'CIRCUITPY323d', 'value1': 629.8, 'unit1': 'PPM'}, {'entry_id': 973, 'insert_time': '2022-03-17T13:42:35.281Z', 'sensor_id': 'CIRCUITPY323d', 'value1': 35.1, 'unit1': '%'}, {'entry_id': 975, 'insert_time': '2022-03-17T13:42:39.640Z', 'sensor_id': 'CIRCUITPYbec9', 'value1': 1, 'unit1': 'Window'}, {'entry_id': 977, 'insert_time': '2022-03-17T13:43:02.229Z', 'sensor_id': 'CIRCUITPY323d', 'value1': 24.9, 'unit1': 'C'}, {'entry_id': 981, 'insert_time': '2022-03-17T13:43:30.238Z', 'sensor_id': 'CIRCUITPY323d', 'value1': 633.1, 'unit1': 'PPM'}, {'entry_id': 982, 'insert_time': '2022-03-17T13:43:31.276Z', 'sensor_id': 'CIRCUITPY323d', 'value1': 24.9, 'unit1': 'C'}, {'entry_id': 983, 'insert_time': '2022-03-17T13:43:32.451Z', 'sensor_id': 'CIRCUITPY323d', 'value1': 35.2, 'unit1': '%'}, {'entry_id': 985, 'insert_time': '2022-03-17T13:43:36.877Z', 'sensor_id': 'CIRCUITPYbec9', 'value1': 1, 'unit1': 'Window'}, {'entry_id': 986, 'insert_time': '2022-03-17T13:43:58.319Z', 'sensor_id': 'CIRCUITPY323d', 'value1': 633.1, 'unit1': 'PPM'}, {'entry_id': 987, 'insert_time': '2022-03-17T13:43:59.493Z', 'sensor_id': 'CIRCUITPY323d', 'value1': 24.9, 'unit1': 'C'}, {'entry_id': 990, 'insert_time': '2022-03-17T13:44:05.201Z', 'sensor_id': 'CIRCUITPYbec9', 'value1': 1, 'unit1': 'Window'}, {'entry_id': 992, 'insert_time': '2022-03-17T13:44:28.410Z', 'sensor_id': 'CIRCUITPY323d', 'value1': 24.9, 'unit1': 'C'}, {'entry_id': 994, 'insert_time': '2022-03-17T13:44:31.572Z', 'sensor_id': 'CIRCUITPY825a', 'value1': 1, 'unit1': 'Window'}, {'entry_id': 1000, 'insert_time': '2022-03-17T13:45:01.850Z', 'sensor_id': 'CIRCUITPYbec9', 'value1': 1, 'unit1': 'Window'}, {'entry_id': 1002, 'insert_time': '2022-03-17T13:45:25.583Z', 'sensor_id': 'CIRCUITPY323d', 'value1': 24.9, 'unit1': 'C'}, {'entry_id': 845, 'insert_time': '2022-03-17T13:27:01.281Z', 'sensor_id': 'RASPBERRYPEOPLE', 'value1': 3, 'unit1': 'People'}, {'entry_id': 849, 'insert_time': '2022-03-17T13:27:29.218Z', 'sensor_id': 'CIRCUITPY323d', 'value1': 25.2, 'unit1': 'C'}, {'entry_id': 852, 'insert_time': '2022-03-17T13:27:35.029Z', 'sensor_id': 'CIRCUITPYbec9', 'value1': 0, 'unit1': 'Window'}, {'entry_id': 861, 'insert_time': '2022-03-17T13:28:53.936Z', 'sensor_id': 'CIRCUITPYbec9', 'value1': 1, 'unit1': 'Window'}, {'entry_id': 865, 'insert_time': '2022-03-17T13:29:42.687Z', 'sensor_id': 'CIRCUITPY323d', 'value1': 25.3, 'unit1': 'C'}, {'entry_id': 866, 'insert_time': '2022-03-17T13:29:43.971Z', 'sensor_id': 'CIRCUITPY323d', 'value1': 34.2, 'unit1': '%'}, {'entry_id': 869, 'insert_time': '2022-03-17T13:30:12.006Z', 'sensor_id': 'CIRCUITPY825a', 'value1': 1, 'unit1': 'Window'}, {'entry_id': 873, 'insert_time': '2022-03-17T13:30:38.897Z', 'sensor_id': 'CIRCUITPY323d', 'value1': 34.2, 'unit1': '%'}, {'entry_id': 879, 'insert_time': '2022-03-17T13:31:32.128Z', 'sensor_id': 'CIRCUITPY323d', 'value1': 25.3, 'unit1': 'C'}, {'entry_id': 882, 'insert_time': '2022-03-17T13:31:37.937Z', 'sensor_id': 'CIRCUITPYbec9', 'value1': 1, 'unit1': 'Window'}, {'entry_id': 1004, 'insert_time': '2022-03-17T13:45:28.747Z', 'sensor_id': 'CIRCUITPY825a', 'value1': 1, 'unit1': 'Window'}, {'entry_id': 1005, 'insert_time': '2022-03-17T13:45:30.803Z', 'sensor_id': 'CIRCUITPYbec9', 'value1': 1, 'unit1': 'Window'}, {'entry_id': 1010, 'insert_time': '2022-03-17T13:45:59.490Z', 'sensor_id': 'CIRCUITPYbec9', 'value1': 1, 'unit1': 'Window'}, {'entry_id': 1011, 'insert_time': '2022-03-17T13:46:20.779Z', 'sensor_id': 'CIRCUITPY323d', 'value1': 623.3, 'unit1': 'PPM'}, {'entry_id': 1017, 'insert_time': '2022-03-17T13:46:49.713Z', 'sensor_id': 'CIRCUITPY323d', 'value1': 24.9, 'unit1': 'C'}, {'entry_id': 1020, 'insert_time': '2022-03-17T13:46:55.040Z', 'sensor_id': 'CIRCUITPYbec9', 'value1': 1, 'unit1': 'Window'}, {'entry_id': 1028, 'insert_time': '2022-03-17T13:48:26.160Z', 'sensor_id': 'CIRCUITPY323d', 'value1': 622.9, 'unit1': 'PPM'}, {'entry_id': 1030, 'insert_time': '2022-03-17T13:51:42.358Z', 'sensor_id': 'CIRCUITPYbec9', 'value1': 0, 'unit1': 'Window'}, {'entry_id': 1031, 'insert_time': '2022-03-17T13:52:04.740Z', 'sensor_id': 'CIRCUITPY825a', 'value1': 1, 'unit1': 'Window'}, {'entry_id': 1032, 'insert_time': '2022-03-17T13:52:07.002Z', 'sensor_id': 'CIRCUITPYbec9', 'value1': 0, 'unit1': 'Window'}, {'entry_id': 1037, 'insert_time': '2022-03-17T13:53:57.639Z', 'sensor_id': 'CIRCUITPY825a', 'value1': 1, 'unit1': 'Window'}, {'entry_id': 1039, 'insert_time': '2022-03-17T13:54:29.167Z', 'sensor_id': 'CIRCUITPY825a', 'value1': 1, 'unit1': 'Window'}, {'entry_id': 1092, 'insert_time': '2022-03-17T14:07:48.200Z', 'sensor_id': 'CIRCUITPYbec9', 'value1': 0, 'unit1': 'Window'}, {'entry_id': 1093, 'insert_time': '2022-03-17T14:08:10.707Z', 'sensor_id': 'CIRCUITPY825a', 'value1': 1, 'unit1': 'Window'}, {'entry_id': 1097, 'insert_time': '2022-03-17T14:09:00.441Z', 'sensor_id': 'CIRCUITPY825a', 'value1': 1, 'unit1': 'Window'}, {'entry_id': 1100, 'insert_time': '2022-03-17T14:13:24.524Z', 'sensor_id': 'CIRCUITPYbec9', 'value1': 0, 'unit1': 'Window'}, {'entry_id': 836, 'insert_time': '2022-03-17T13:26:05.032Z', 'sensor_id': 'CIRCUITPY323d', 'value1': 25.2, 'unit1': 'C'}, {'entry_id': 841, 'insert_time': '2022-03-17T13:26:34.638Z', 'sensor_id': 'CIRCUITPY323d', 'value1': 25.2, 'unit1': 'C'}, {'entry_id': 843, 'insert_time': '2022-03-17T13:26:38.393Z', 'sensor_id': 'CIRCUITPY825a', 'value1': 0, 'unit1': 'Window'}, {'entry_id': 844, 'insert_time': '2022-03-17T13:26:40.986Z', 'sensor_id': 'CIRCUITPYbec9', 'value1': 0, 'unit1': 'Window'}, {'entry_id': 846, 'insert_time': '2022-03-17T13:27:04.319Z', 'sensor_id': 'CIRCUITPY825a', 'value1': 0, 'unit1': 'Window'}, {'entry_id': 858, 'insert_time': '2022-03-17T13:28:48.031Z', 'sensor_id': 'CIRCUITPY323d', 'value1': 25.3, 'unit1': 'C'}, {'entry_id': 860, 'insert_time': '2022-03-17T13:28:51.652Z', 'sensor_id': 'CIRCUITPY825a', 'value1': 0, 'unit1': 'Window'}, {'entry_id': 862, 'insert_time': '2022-03-17T13:29:17.317Z', 'sensor_id': 'CIRCUITPY825a', 'value1': 0, 'unit1': 'Window'}, {'entry_id': 863, 'insert_time': '2022-03-17T13:29:19.922Z', 'sensor_id': 'CIRCUITPYbec9', 'value1': 1, 'unit1': 'Window'}, {'entry_id': 872, 'insert_time': '2022-03-17T13:30:37.475Z', 'sensor_id': 'CIRCUITPY323d', 'value1': 25.3, 'unit1': 'C'}, {'entry_id': 864, 'insert_time': '2022-03-17T13:29:41.343Z', 'sensor_id': 'CIRCUITPY323d', 'value1': 660.4, 'unit1': 'PPM'}, {'entry_id': 874, 'insert_time': '2022-03-17T13:30:41.382Z', 'sensor_id': 'CIRCUITPY825a', 'value1': 1, 'unit1': 'Window'}, {'entry_id': 878, 'insert_time': '2022-03-17T13:31:30.820Z', 'sensor_id': 'CIRCUITPY323d', 'value1': 659.5, 'unit1': 'PPM'}, {'entry_id': 881, 'insert_time': '2022-03-17T13:31:35.663Z', 'sensor_id': 'CIRCUITPY825a', 'value1': 1, 'unit1': 'Window'}, {'entry_id': 886, 'insert_time': '2022-03-17T13:32:26.612Z', 'sensor_id': 'CIRCUITPY323d', 'value1': 25.3, 'unit1': 'C'}, {'entry_id': 890, 'insert_time': '2022-03-17T13:33:00.973Z', 'sensor_id': 'CIRCUITPY825a', 'value1': 1, 'unit1': 'Window'}, {'entry_id': 894, 'insert_time': '2022-03-17T13:33:27.584Z', 'sensor_id': 'CIRCUITPY323d', 'value1': 34.4, 'unit1': '%'}, {'entry_id': 900, 'insert_time': '2022-03-17T13:34:21.072Z', 'sensor_id': 'CIRCUITPY323d', 'value1': 25.3, 'unit1': 'C'}, {'entry_id': 903, 'insert_time': '2022-03-17T13:34:27.019Z', 'sensor_id': 'CIRCUITPYbec9', 'value1': 1, 'unit1': 'Window'}, {'entry_id': 904, 'insert_time': '2022-03-17T13:34:50.247Z', 'sensor_id': 'CIRCUITPY825a', 'value1': 1, 'unit1': 'Window'}, {'entry_id': 908, 'insert_time': '2022-03-17T13:35:16.486Z', 'sensor_id': 'CIRCUITPY323d', 'value1': 34.6, 'unit1': '%'}, {'entry_id': 909, 'insert_time': '2022-03-17T13:35:18.618Z', 'sensor_id': 'CIRCUITPY825a', 'value1': 1, 'unit1': 'Window'}, {'entry_id': 915, 'insert_time': '2022-03-17T13:35:48.224Z', 'sensor_id': 'CIRCUITPYbec9', 'value1': 1, 'unit1': 'Window'}, {'entry_id': 917, 'insert_time': '2022-03-17T13:36:13.564Z', 'sensor_id': 'CIRCUITPYbec9', 'value1': 1, 'unit1': 'Window'}, {'entry_id': 931, 'insert_time': '2022-03-17T13:37:56.450Z', 'sensor_id': 'CIRCUITPY323d', 'value1': 25.1, 'unit1': 'C'}, {'entry_id': 932, 'insert_time': '2022-03-17T13:37:57.505Z', 'sensor_id': 'CIRCUITPY323d', 'value1': 34.8, 'unit1': '%'}, {'entry_id': 936, 'insert_time': '2022-03-17T13:38:23.778Z', 'sensor_id': 'CIRCUITPY323d', 'value1': 25.1, 'unit1': 'C'}, {'entry_id': 945, 'insert_time': '2022-03-17T13:39:21.974Z', 'sensor_id': 'CIRCUITPY825a', 'value1': 1, 'unit1': 'Window'}, {'entry_id': 949, 'insert_time': '2022-03-17T13:40:11.488Z', 'sensor_id': 'CIRCUITPY323d', 'value1': 637.3, 'unit1': 'PPM'}, {'entry_id': 953, 'insert_time': '2022-03-17T13:40:17.996Z', 'sensor_id': 'CIRCUITPYbec9', 'value1': 1, 'unit1': 'Window'}, {'entry_id': 955, 'insert_time': '2022-03-17T13:40:41.274Z', 'sensor_id': 'CIRCUITPY323d', 'value1': 25, 'unit1': 'C'}, {'entry_id': 966, 'insert_time': '2022-03-17T13:41:40.799Z', 'sensor_id': 'CIRCUITPY323d', 'value1': 35, 'unit1': '%'}, {'entry_id': 1042, 'insert_time': '2022-03-17T13:55:16.331Z', 'sensor_id': 'CIRCUITPYbec9', 'value1': 0, 'unit1': 'Window'}, {'entry_id': 1043, 'insert_time': '2022-03-17T13:55:39.177Z', 'sensor_id': 'CIRCUITPY825a', 'value1': 1, 'unit1': 'Window'}, {'entry_id': 1044, 'insert_time': '2022-03-17T13:55:41.484Z', 'sensor_id': 'CIRCUITPYbec9', 'value1': 0, 'unit1': 'Window'}, {'entry_id': 1049, 'insert_time': '2022-03-17T13:56:54.428Z', 'sensor_id': 'CIRCUITPY825a', 'value1': 1, 'unit1': 'Window'}, {'entry_id': 1052, 'insert_time': '2022-03-17T13:57:23.240Z', 'sensor_id': 'CIRCUITPYbec9', 'value1': 0, 'unit1': 'Window'}, {'entry_id': 1055, 'insert_time': '2022-03-17T13:58:13.270Z', 'sensor_id': 'CIRCUITPY825a', 'value1': 1, 'unit1': 'Window'}, {'entry_id': 1056, 'insert_time': '2022-03-17T13:58:15.467Z', 'sensor_id': 'CIRCUITPYbec9', 'value1': 0, 'unit1': 'Window'}, {'entry_id': 1062, 'insert_time': '2022-03-17T13:59:33.667Z', 'sensor_id': 'CIRCUITPYbec9', 'value1': 0, 'unit1': 'Window'}, {'entry_id': 1066, 'insert_time': '2022-03-17T14:00:24.727Z', 'sensor_id': 'CIRCUITPYbec9', 'value1': 0, 'unit1': 'Window'}, {'entry_id': 1067, 'insert_time': '2022-03-17T14:00:47.347Z', 'sensor_id': 'CIRCUITPY825a', 'value1': 1, 'unit1': 'Window'}, {'entry_id': 1070, 'insert_time': '2022-03-17T14:01:14.761Z', 'sensor_id': 'CIRCUITPYbec9', 'value1': 0, 'unit1': 'Window'}, {'entry_id': 1072, 'insert_time': '2022-03-17T14:01:39.264Z', 'sensor_id': 'CIRCUITPYbec9', 'value1': 0, 'unit1': 'Window'}, {'entry_id': 1076, 'insert_time': '2022-03-17T14:02:27.694Z', 'sensor_id': 'CIRCUITPYbec9', 'value1': 0, 'unit1': 'Window'}, {'entry_id': 1077, 'insert_time': '2022-03-17T14:02:49.758Z', 'sensor_id': 'CIRCUITPY825a', 'value1': 1, 'unit1': 'Window'}, {'entry_id': 1079, 'insert_time': '2022-03-17T14:03:13.883Z', 'sensor_id': 'CIRCUITPY825a', 'value1': 1, 'unit1': 'Window'}, {'entry_id': 1081, 'insert_time': '2022-03-17T14:03:38.529Z', 'sensor_id': 'CIRCUITPY825a', 'value1': 1, 'unit1': 'Window'}, {'entry_id': 1086, 'insert_time': '2022-03-17T14:06:24.672Z', 'sensor_id': 'CIRCUITPY323d', 'value1': 24.9, 'unit1': 'C'}, {'entry_id': 1087, 'insert_time': '2022-03-17T14:06:26.027Z', 'sensor_id': 'CIRCUITPY323d', 'value1': 40.9, 'unit1': '%'}, {'entry_id': 1091, 'insert_time': '2022-03-17T14:07:44.072Z', 'sensor_id': 'CIRCUITPY825a', 'value1': 1, 'unit1': 'Window'}, {'entry_id': 1094, 'insert_time': '2022-03-17T14:08:13.217Z', 'sensor_id': 'CIRCUITPYbec9', 'value1': 0, 'unit1': 'Window'}, {'entry_id': 1098, 'insert_time': '2022-03-17T14:09:03.043Z', 'sensor_id': 'CIRCUITPYbec9', 'value1': 0, 'unit1': 'Window'}, {'entry_id': 839, 'insert_time': '2022-03-17T13:26:11.366Z', 'sensor_id': 'CIRCUITPYbec9', 'value1': 0, 'unit1': 'Window'}, {'entry_id': 840, 'insert_time': '2022-03-17T13:26:33.354Z', 'sensor_id': 'CIRCUITPY323d', 'value1': 656.2, 'unit1': 'PPM'}, {'entry_id': 848, 'insert_time': '2022-03-17T13:27:27.928Z', 'sensor_id': 'CIRCUITPY323d', 'value1': 657.1, 'unit1': 'PPM'}, {'entry_id': 850, 'insert_time': '2022-03-17T13:27:30.559Z', 'sensor_id': 'CIRCUITPY323d', 'value1': 34.2, 'unit1': '%'}, {'entry_id': 851, 'insert_time': '2022-03-17T13:27:32.797Z', 'sensor_id': 'CIRCUITPY825a', 'value1': 0, 'unit1': 'Window'}, {'entry_id': 857, 'insert_time': '2022-03-17T13:28:46.702Z', 'sensor_id': 'CIRCUITPY323d', 'value1': 658.7, 'unit1': 'PPM'}, {'entry_id': 875, 'insert_time': '2022-03-17T13:30:43.733Z', 'sensor_id': 'CIRCUITPYbec9', 'value1': 1, 'unit1': 'Window'}, {'entry_id': 877, 'insert_time': '2022-03-17T13:31:09.512Z', 'sensor_id': 'CIRCUITPYbec9', 'value1': 1, 'unit1': 'Window'}, {'entry_id': 898, 'insert_time': '2022-03-17T13:33:58.375Z', 'sensor_id': 'CIRCUITPYbec9', 'value1': 1, 'unit1': 'Window'}]\n"
     ]
    }
   ],
   "source": [
    "def to_data_frame(url_result):\n",
    "    output = pd.DataFrame()\n",
    "    for lists in url_result:\n",
    "        print(lists)\n",
    "        for dicti in lists:\n",
    "            output = output.append(dicti, ignore_index=True)\n",
    "    return output\n",
    "data_frame = to_data_frame(result)"
   ]
  },
  {
   "cell_type": "code",
   "execution_count": 7,
   "metadata": {},
   "outputs": [],
   "source": [
    "data_frame.to_excel('db_data.xlsx', index=False)"
   ]
  },
  {
   "cell_type": "code",
   "execution_count": 8,
   "metadata": {},
   "outputs": [
    {
     "data": {
      "text/html": [
       "<div>\n",
       "<style scoped>\n",
       "    .dataframe tbody tr th:only-of-type {\n",
       "        vertical-align: middle;\n",
       "    }\n",
       "\n",
       "    .dataframe tbody tr th {\n",
       "        vertical-align: top;\n",
       "    }\n",
       "\n",
       "    .dataframe thead th {\n",
       "        text-align: right;\n",
       "    }\n",
       "</style>\n",
       "<table border=\"1\" class=\"dataframe\">\n",
       "  <thead>\n",
       "    <tr style=\"text-align: right;\">\n",
       "      <th></th>\n",
       "      <th>entry_id</th>\n",
       "      <th>insert_time</th>\n",
       "      <th>sensor_id</th>\n",
       "      <th>unit1</th>\n",
       "      <th>value1</th>\n",
       "    </tr>\n",
       "  </thead>\n",
       "  <tbody>\n",
       "    <tr>\n",
       "      <th>0</th>\n",
       "      <td>838.0</td>\n",
       "      <td>2022-03-17T13:26:08.881Z</td>\n",
       "      <td>CIRCUITPY825a</td>\n",
       "      <td>Window</td>\n",
       "      <td>0.0</td>\n",
       "    </tr>\n",
       "    <tr>\n",
       "      <th>1</th>\n",
       "      <td>842.0</td>\n",
       "      <td>2022-03-17T13:26:36.072Z</td>\n",
       "      <td>CIRCUITPY323d</td>\n",
       "      <td>%</td>\n",
       "      <td>34.3</td>\n",
       "    </tr>\n",
       "    <tr>\n",
       "      <th>2</th>\n",
       "      <td>847.0</td>\n",
       "      <td>2022-03-17T13:27:06.677Z</td>\n",
       "      <td>CIRCUITPYbec9</td>\n",
       "      <td>Window</td>\n",
       "      <td>0.0</td>\n",
       "    </tr>\n",
       "    <tr>\n",
       "      <th>3</th>\n",
       "      <td>853.0</td>\n",
       "      <td>2022-03-17T13:27:57.358Z</td>\n",
       "      <td>CIRCUITPY825a</td>\n",
       "      <td>Window</td>\n",
       "      <td>0.0</td>\n",
       "    </tr>\n",
       "    <tr>\n",
       "      <th>4</th>\n",
       "      <td>856.0</td>\n",
       "      <td>2022-03-17T13:28:25.393Z</td>\n",
       "      <td>CIRCUITPYbec9</td>\n",
       "      <td>Window</td>\n",
       "      <td>0.0</td>\n",
       "    </tr>\n",
       "  </tbody>\n",
       "</table>\n",
       "</div>"
      ],
      "text/plain": [
       "   entry_id               insert_time      sensor_id   unit1  value1\n",
       "0     838.0  2022-03-17T13:26:08.881Z  CIRCUITPY825a  Window     0.0\n",
       "1     842.0  2022-03-17T13:26:36.072Z  CIRCUITPY323d       %    34.3\n",
       "2     847.0  2022-03-17T13:27:06.677Z  CIRCUITPYbec9  Window     0.0\n",
       "3     853.0  2022-03-17T13:27:57.358Z  CIRCUITPY825a  Window     0.0\n",
       "4     856.0  2022-03-17T13:28:25.393Z  CIRCUITPYbec9  Window     0.0"
      ]
     },
     "execution_count": 8,
     "metadata": {},
     "output_type": "execute_result"
    }
   ],
   "source": [
    "data_frame.head()"
   ]
  },
  {
   "cell_type": "code",
   "execution_count": 9,
   "metadata": {},
   "outputs": [
    {
     "data": {
      "text/html": [
       "<div>\n",
       "<style scoped>\n",
       "    .dataframe tbody tr th:only-of-type {\n",
       "        vertical-align: middle;\n",
       "    }\n",
       "\n",
       "    .dataframe tbody tr th {\n",
       "        vertical-align: top;\n",
       "    }\n",
       "\n",
       "    .dataframe thead th {\n",
       "        text-align: right;\n",
       "    }\n",
       "</style>\n",
       "<table border=\"1\" class=\"dataframe\">\n",
       "  <thead>\n",
       "    <tr style=\"text-align: right;\">\n",
       "      <th></th>\n",
       "      <th>entry_id</th>\n",
       "      <th>insert_time</th>\n",
       "      <th>sensor_id</th>\n",
       "      <th>unit1</th>\n",
       "      <th>value1</th>\n",
       "    </tr>\n",
       "  </thead>\n",
       "  <tbody>\n",
       "    <tr>\n",
       "      <th>138</th>\n",
       "      <td>836.0</td>\n",
       "      <td>2022-03-17T13:26:05.032Z</td>\n",
       "      <td>CIRCUITPY323d</td>\n",
       "      <td>C</td>\n",
       "      <td>25.2</td>\n",
       "    </tr>\n",
       "    <tr>\n",
       "      <th>0</th>\n",
       "      <td>838.0</td>\n",
       "      <td>2022-03-17T13:26:08.881Z</td>\n",
       "      <td>CIRCUITPY825a</td>\n",
       "      <td>Window</td>\n",
       "      <td>0.0</td>\n",
       "    </tr>\n",
       "    <tr>\n",
       "      <th>191</th>\n",
       "      <td>839.0</td>\n",
       "      <td>2022-03-17T13:26:11.366Z</td>\n",
       "      <td>CIRCUITPYbec9</td>\n",
       "      <td>Window</td>\n",
       "      <td>0.0</td>\n",
       "    </tr>\n",
       "    <tr>\n",
       "      <th>192</th>\n",
       "      <td>840.0</td>\n",
       "      <td>2022-03-17T13:26:33.354Z</td>\n",
       "      <td>CIRCUITPY323d</td>\n",
       "      <td>PPM</td>\n",
       "      <td>656.2</td>\n",
       "    </tr>\n",
       "    <tr>\n",
       "      <th>139</th>\n",
       "      <td>841.0</td>\n",
       "      <td>2022-03-17T13:26:34.638Z</td>\n",
       "      <td>CIRCUITPY323d</td>\n",
       "      <td>C</td>\n",
       "      <td>25.2</td>\n",
       "    </tr>\n",
       "  </tbody>\n",
       "</table>\n",
       "</div>"
      ],
      "text/plain": [
       "     entry_id               insert_time      sensor_id   unit1  value1\n",
       "138     836.0  2022-03-17T13:26:05.032Z  CIRCUITPY323d       C    25.2\n",
       "0       838.0  2022-03-17T13:26:08.881Z  CIRCUITPY825a  Window     0.0\n",
       "191     839.0  2022-03-17T13:26:11.366Z  CIRCUITPYbec9  Window     0.0\n",
       "192     840.0  2022-03-17T13:26:33.354Z  CIRCUITPY323d     PPM   656.2\n",
       "139     841.0  2022-03-17T13:26:34.638Z  CIRCUITPY323d       C    25.2"
      ]
     },
     "execution_count": 9,
     "metadata": {},
     "output_type": "execute_result"
    }
   ],
   "source": [
    "data_frame_sorted = data_frame.sort_values(['entry_id'])\n",
    "data_frame_sorted.head()"
   ]
  },
  {
   "cell_type": "code",
   "execution_count": null,
   "metadata": {},
   "outputs": [],
   "source": []
  }
 ],
 "metadata": {
  "interpreter": {
   "hash": "ac59ebe37160ed0dfa835113d9b8498d9f09ceb179beaac4002f036b9467c963"
  },
  "kernelspec": {
   "display_name": "Python 3",
   "language": "python",
   "name": "python3"
  },
  "language_info": {
   "codemirror_mode": {
    "name": "ipython",
    "version": 3
   },
   "file_extension": ".py",
   "mimetype": "text/x-python",
   "name": "python",
   "nbconvert_exporter": "python",
   "pygments_lexer": "ipython3",
   "version": "3.8.8"
  }
 },
 "nbformat": 4,
 "nbformat_minor": 2
}
