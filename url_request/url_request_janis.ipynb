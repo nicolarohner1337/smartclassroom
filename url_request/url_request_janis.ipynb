{
 "cells": [
  {
   "cell_type": "code",
   "execution_count": 1,
   "metadata": {
    "collapsed": true
   },
   "outputs": [],
   "source": [
    "import requests\n",
    "import pandas as pd"
   ]
  },
  {
   "cell_type": "code",
   "execution_count": 2,
   "outputs": [],
   "source": [
    "#First request\n",
    "r = requests.get(\"https://glusfqycvwrucp9-db202202211424.adb.eu-zurich-1.oraclecloudapps.com/ords/sensor_datalake1/sens/insert/\")\n",
    "object = r.json()\n",
    "df = pd.DataFrame()\n",
    "\n",
    "#\n",
    "while object[\"hasMore\"]:\n",
    "    for i in object[\"items\"]:\n",
    "        df_line = pd.DataFrame.from_dict(i, orient=\"index\").transpose()\n",
    "        df = df.append(df_line)\n",
    "    next_link = object[\"links\"][4][\"href\"]\n",
    "    r = requests.get(f\"{next_link}\")\n",
    "    object = r.json()\n",
    "\n",
    "for i in object[\"items\"]:\n",
    "        df_line = pd.DataFrame.from_dict(i, orient=\"index\").transpose()\n",
    "        df = df.append(df_line)"
   ],
   "metadata": {
    "collapsed": false,
    "pycharm": {
     "name": "#%%\n"
    }
   }
  },
  {
   "cell_type": "code",
   "execution_count": 3,
   "outputs": [
    {
     "name": "stdout",
     "output_type": "stream",
     "text": [
      "  entry_id               insert_time        sensor_id  value1   unit1\n",
      "0     1992  2022-03-24T14:02:57.723Z    CIRCUITPY825a       0  Window\n",
      "0     1997  2022-03-24T14:03:59.970Z    CIRCUITPY323d  1064.7     PPM\n",
      "0     1999  2022-03-24T14:04:01.992Z    CIRCUITPY323d    33.3       %\n",
      "0     2007  2022-03-24T14:05:37.092Z    CIRCUITPY323d    26.4       C\n",
      "0     2021  2022-03-24T14:08:14.690Z    CIRCUITPY323d  1144.6     PPM\n",
      "0     2022  2022-03-24T14:08:15.686Z    CIRCUITPY323d    26.4       C\n",
      "0     2029  2022-03-24T14:09:22.963Z    CIRCUITPY323d    35.4       %\n",
      "0     2019  2022-03-24T14:07:44.972Z    CIRCUITPY323d    26.4       C\n",
      "0     2024  2022-03-24T14:08:45.280Z    CIRCUITPY323d  1140.3     PPM\n",
      "0     2026  2022-03-24T14:08:47.298Z    CIRCUITPY323d    35.1       %\n",
      "0     2032  2022-03-24T14:09:49.971Z    CIRCUITPY323d    35.7       %\n",
      "0     2034  2022-03-24T14:10:24.553Z    CIRCUITPY323d    26.4       C\n",
      "0     2039  2022-03-24T14:11:25.724Z    CIRCUITPY323d  1230.1     PPM\n",
      "0     1989  2022-03-24T14:02:12.515Z    CIRCUITPY323d    26.6       C\n",
      "0     1993  2022-03-24T14:03:28.985Z    CIRCUITPY323d  1082.7     PPM\n",
      "0     1998  2022-03-24T14:04:00.991Z    CIRCUITPY323d    26.4       C\n",
      "0     2003  2022-03-24T14:05:01.269Z    CIRCUITPY323d  1066.1     PPM\n",
      "0     2005  2022-03-24T14:05:03.259Z    CIRCUITPY323d    33.9       %\n",
      "0     2009  2022-03-24T14:06:06.737Z    CIRCUITPY323d  1089.2     PPM\n",
      "0     2010  2022-03-24T14:06:07.758Z    CIRCUITPY323d    26.4       C\n",
      "0     2013  2022-03-24T14:06:43.600Z    CIRCUITPY323d    26.4       C\n",
      "0     2014  2022-03-24T14:06:44.567Z    CIRCUITPY323d    34.2       %\n",
      "0     2017  2022-03-24T14:07:15.323Z    CIRCUITPY323d    34.5       %\n",
      "0     2015  2022-03-24T14:07:13.271Z    CIRCUITPY323d  1144.4     PPM\n",
      "0     2016  2022-03-24T14:07:14.331Z    CIRCUITPY323d    26.4       C\n",
      "0     2020  2022-03-24T14:07:45.946Z    CIRCUITPY323d    34.9       %\n",
      "0     2025  2022-03-24T14:08:46.340Z    CIRCUITPY323d    26.4       C\n",
      "0     2028  2022-03-24T14:09:21.896Z    CIRCUITPY323d    26.4       C\n",
      "0     2030  2022-03-24T14:09:47.780Z    CIRCUITPY323d  1161.6     PPM\n",
      "0     2033  2022-03-24T14:10:23.595Z    CIRCUITPY323d  1184.9     PPM\n",
      "0     2035  2022-03-24T14:10:25.758Z    CIRCUITPY323d    35.7       %\n",
      "0     2036  2022-03-24T14:10:54.669Z    CIRCUITPY323d  1216.9     PPM\n",
      "0     2038  2022-03-24T14:10:56.873Z    CIRCUITPY323d      36       %\n",
      "0     2041  2022-03-24T14:11:27.661Z    CIRCUITPY323d    36.1       %\n",
      "0     1990  2022-03-24T14:02:13.498Z    CIRCUITPY323d    34.6       %\n",
      "0     1991  2022-03-24T14:02:36.152Z    CIRCUITPY825a       1  Window\n",
      "0     1994  2022-03-24T14:03:29.995Z    CIRCUITPY323d    26.5       C\n",
      "0     1996  2022-03-24T14:03:31.033Z    CIRCUITPY323d    32.5       %\n",
      "0     2001  2022-03-24T14:04:31.470Z    CIRCUITPY323d    26.4       C\n",
      "0     2002  2022-03-24T14:04:32.458Z    CIRCUITPY323d    33.6       %\n",
      "0     2004  2022-03-24T14:05:02.280Z    CIRCUITPY323d    26.4       C\n",
      "0     2006  2022-03-24T14:05:36.053Z    CIRCUITPY323d  1078.7     PPM\n",
      "0     2008  2022-03-24T14:05:38.067Z    CIRCUITPY323d      34       %\n",
      "0     2011  2022-03-24T14:06:08.763Z    CIRCUITPY323d    34.1       %\n",
      "0     1988  2022-03-24T14:02:11.037Z    CIRCUITPY323d  1068.8     PPM\n",
      "0     1995  2022-03-24T14:03:30.883Z  RASPBERRYPEOPLE       3  People\n",
      "0     2000  2022-03-24T14:04:30.540Z    CIRCUITPY323d  1061.6     PPM\n",
      "0     2012  2022-03-24T14:06:37.562Z    CIRCUITPY323d  1142.1     PPM\n",
      "0     2018  2022-03-24T14:07:44.056Z    CIRCUITPY323d  1146.8     PPM\n",
      "0     2023  2022-03-24T14:08:16.641Z    CIRCUITPY323d    34.9       %\n",
      "0     2027  2022-03-24T14:09:20.864Z    CIRCUITPY323d  1143.4     PPM\n",
      "0     2031  2022-03-24T14:09:48.920Z    CIRCUITPY323d    26.4       C\n",
      "0     2037  2022-03-24T14:10:55.787Z    CIRCUITPY323d    26.4       C\n",
      "0     2040  2022-03-24T14:11:26.679Z    CIRCUITPY323d    26.4       C\n"
     ]
    }
   ],
   "source": [
    "print(df)"
   ],
   "metadata": {
    "collapsed": false,
    "pycharm": {
     "name": "#%%\n"
    }
   }
  },
  {
   "cell_type": "code",
   "execution_count": 3,
   "outputs": [],
   "source": [],
   "metadata": {
    "collapsed": false,
    "pycharm": {
     "name": "#%%\n"
    }
   }
  }
 ],
 "metadata": {
  "kernelspec": {
   "display_name": "Python 3",
   "language": "python",
   "name": "python3"
  },
  "language_info": {
   "codemirror_mode": {
    "name": "ipython",
    "version": 2
   },
   "file_extension": ".py",
   "mimetype": "text/x-python",
   "name": "python",
   "nbconvert_exporter": "python",
   "pygments_lexer": "ipython2",
   "version": "2.7.6"
  }
 },
 "nbformat": 4,
 "nbformat_minor": 0
}