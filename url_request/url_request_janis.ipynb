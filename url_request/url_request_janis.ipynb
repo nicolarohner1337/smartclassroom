{
 "cells": [
  {
   "cell_type": "code",
   "execution_count": 2,
   "metadata": {
    "collapsed": true
   },
   "outputs": [],
   "source": [
    "import requests\n",
    "import pandas as pd\n",
    "import matplotlib.pyplot as plt\n",
    "import numpy as np"
   ]
  },
  {
   "cell_type": "code",
   "execution_count": 3,
   "outputs": [],
   "source": [
    "#First request\n",
    "r = requests.get(\"https://glusfqycvwrucp9-db202202211424.adb.eu-zurich-1.oraclecloudapps.com/ords/sensor_datalake1/sens/insert/\")\n",
    "object = r.json()\n",
    "df = pd.DataFrame()\n",
    "\n",
    "#\n",
    "while object[\"hasMore\"]:\n",
    "    for i in object[\"items\"]:\n",
    "        df_line = pd.DataFrame.from_dict(i, orient=\"index\").transpose()\n",
    "        df = df.append(df_line)\n",
    "    next_link = object[\"links\"][4][\"href\"]\n",
    "    r = requests.get(f\"{next_link}\")\n",
    "    object = r.json()\n",
    "\n",
    "for i in object[\"items\"]:\n",
    "        df_line = pd.DataFrame.from_dict(i, orient=\"index\").transpose()\n",
    "        df = df.append(df_line)"
   ],
   "metadata": {
    "collapsed": false,
    "pycharm": {
     "name": "#%%\n"
    }
   }
  },
  {
   "cell_type": "code",
   "execution_count": 71,
   "outputs": [
    {
     "name": "stdout",
     "output_type": "stream",
     "text": [
      "   entry_id               insert_time      sensor_id value1 unit1\n",
      "0      2291  2022-03-30T14:49:51.283Z  CIRCUITPY323d    785   PPM\n",
      "0      2304  2022-03-30T14:56:37.668Z  CIRCUITPY323d   27.4     C\n",
      "0      2307  2022-03-30T14:57:37.983Z  CIRCUITPY323d   27.4     C\n",
      "0      2311  2022-03-30T14:58:40.293Z  CIRCUITPY323d   31.1     %\n",
      "0      2328  2022-03-30T15:04:41.298Z  CIRCUITPY323d   27.7     C\n",
      "..      ...                       ...            ...    ...   ...\n",
      "0     45708  2022-04-13T17:23:37.453Z  CIRCUITPY323d    850   PPM\n",
      "0     45712  2022-04-13T17:24:41.726Z  CIRCUITPY323d   26.2     C\n",
      "0     45714  2022-04-13T17:25:37.948Z  CIRCUITPY323d  851.8   PPM\n",
      "0     46204  2022-04-13T20:05:57.496Z  CIRCUITPY323d   44.1     %\n",
      "0     46207  2022-04-13T20:06:54.719Z  CIRCUITPY323d   44.1     %\n",
      "\n",
      "[46267 rows x 5 columns]\n"
     ]
    }
   ],
   "source": [
    "print(df)"
   ],
   "metadata": {
    "collapsed": false,
    "pycharm": {
     "name": "#%%\n"
    }
   }
  }
 ],
 "metadata": {
  "kernelspec": {
   "display_name": "Python 3",
   "language": "python",
   "name": "python3"
  },
  "language_info": {
   "codemirror_mode": {
    "name": "ipython",
    "version": 2
   },
   "file_extension": ".py",
   "mimetype": "text/x-python",
   "name": "python",
   "nbconvert_exporter": "python",
   "pygments_lexer": "ipython2",
   "version": "2.7.6"
  }
 },
 "nbformat": 4,
 "nbformat_minor": 0
}